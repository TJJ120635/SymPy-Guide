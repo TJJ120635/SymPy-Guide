{
 "cells": [
  {
   "cell_type": "markdown",
   "id": "429f230d-1aca-4fe1-95d1-8f06b2954b7f",
   "metadata": {},
   "source": [
    "**目录**：\n",
    "- [1.前言](#前言)\n",
    "- [2.基本分类和布局](#基本分类和布局)\n",
    "- [3.标量和向量](#标量和向量)\n",
    "- [4.标量和矩阵](#标量和矩阵)\n",
    "- [5.向量和向量](#向量和向量)\n",
    "- [6.向量和矩阵](#向量和矩阵)"
   ]
  },
  {
   "cell_type": "markdown",
   "id": "237f887e-c5ae-400a-8278-f0ef32fb0f0c",
   "metadata": {},
   "source": [
    "# 前言"
   ]
  },
  {
   "cell_type": "markdown",
   "id": "e5b09966-9981-47a9-a93b-d0f3d9de84c9",
   "metadata": {},
   "source": [
    "在 SymPy 中，除了对单个表达式的微积分，还支持对矩阵的微积分操作\n",
    "\n",
    "其中标量、向量、矩阵之间的求导，与神经网络中的反向传播等过程息息相关\n",
    "\n",
    "由本文档来介绍相关的内容"
   ]
  },
  {
   "cell_type": "code",
   "execution_count": 1,
   "id": "cafd77b0-67ae-41f8-af29-4f2d01c860e1",
   "metadata": {},
   "outputs": [],
   "source": [
    "from sympy import *\n",
    "x, y, z = symbols('x y z')"
   ]
  },
  {
   "cell_type": "markdown",
   "id": "7b62c42b-2f83-4a15-8e64-815d0bc92957",
   "metadata": {},
   "source": [
    "# 基本分类和布局"
   ]
  },
  {
   "cell_type": "markdown",
   "id": "21a463a6-54c2-47e5-8933-f49c443cfe1b",
   "metadata": {},
   "source": [
    "## 类型分类\n",
    "\n",
    "我们的讨论分为标量、向量、矩阵三种类型，并以 y 作为求导的函数，x 作为求导的自变量\n",
    "\n",
    "$x$：标量，单个变量\n",
    "\n",
    "$y$：标量，单个函数，例如 $y=x^2+1$\n",
    "\n",
    "$\\textbf x$：n * 1 维列向量，例如 $\\textbf x=\\begin{bmatrix}x_1\\\\x_2\\\\x_3\\end{bmatrix}$\n",
    "\n",
    "$\\textbf y$：m * 1 维列向量，例如 $\\textbf y=\\begin{bmatrix}y_1=x_1+x_2\\\\y_2=x_2+x_3\\\\y_3=x_1-x_3\\end{bmatrix}$\n",
    "\n",
    "$\\textbf X$：a * b 维矩阵，例如 $\\textbf X=\\begin{bmatrix}x & y\\\\z & t\\end{bmatrix}$\n",
    "\n",
    "$\\textbf Y$：p * q 维矩阵，例如 $\\textbf Y=\\begin{bmatrix}x & x^2\\\\x+y & x-z\\\\yt & (x-1)(t+1)\\end{bmatrix}$"
   ]
  },
  {
   "cell_type": "markdown",
   "id": "d2726d20-02b3-4cdd-a593-7ebb0dbc88e9",
   "metadata": {},
   "source": [
    "## 求导布局\n",
    "\n",
    "最基本的求导布局分为分子布局（numerator layout）和分母布局（denominator layout）\n",
    "\n",
    "对于分子布局，列向量对标量的导数为列向量，标量对列向量的导数为行向量，例如：\n",
    "\n",
    "$\\textbf y=\\begin{bmatrix}x\\\\x^2\\end{bmatrix}$，则 $\\dfrac{\\partial\\textbf y}{\\partial x}=\\begin{bmatrix}1\\\\2x\\end{bmatrix}$\n",
    "\n",
    "$\\textbf x=\\begin{bmatrix}x_1\\\\x_2\\end{bmatrix},y=2x_1+3x_2$，则 $\\dfrac{\\partial y}{\\partial\\textbf x}=\\begin{bmatrix}2&3\\end{bmatrix}$\n",
    "\n",
    "对于分母布局则相反，他们之间相差一个转置：\n",
    "\n",
    "$\\dfrac{\\partial\\textbf y}{\\partial x}=\\begin{bmatrix}1&2x\\end{bmatrix}$\n",
    "\n",
    "$\\dfrac{\\partial y}{\\partial\\textbf x}=\\begin{bmatrix}2\\\\3\\end{bmatrix}$\n",
    "\n",
    "矩阵运算的布局也类似，这里不将全部情况展开叙述，参见：\n",
    "\n",
    "https://en.wikipedia.org/wiki/Matrix_calculus#Layout_conventions\n",
    "\n",
    "https://blog.csdn.net/keeppractice/article/details/107231685"
   ]
  },
  {
   "cell_type": "markdown",
   "id": "c5da3b1a-acf4-4cf8-abf5-03481c5b4831",
   "metadata": {},
   "source": [
    "## SymPy 的混合布局\n",
    "\n",
    "在 SymPy 中并非统一使用分子或者分母布局，而是采用一种混合布局：\n",
    "\n",
    "- 标量和向量的导数，会以向量的形状作为标准，保持原来的行/列形式\n",
    "\n",
    "- 标量和矩阵的导数，也会保持矩阵原来的形状，不会作转置\n",
    "\n",
    "- 向量对向量的导数，会产生一个 Jacobi 矩阵，此时采用的是分子布局（在后面展开介绍）\n",
    "\n",
    "- 向量对矩阵的导数、矩阵对向量的导数、矩阵对矩阵的导数，这三种情况会产生高维的数组\n",
    "\n",
    "后三种情况的排列布局，在网上各种资料中都没有进行详细介绍，在本文后面的部分进行介绍\n",
    "\n",
    "总结来说，标量、向量、矩阵三种类型之间的运算布局，如下表所示："
   ]
  },
  {
   "cell_type": "markdown",
   "id": "801bcfa5-b26c-41d6-904d-b655ab2c5bb1",
   "metadata": {},
   "source": [
    "|                    | 标量 y                                                       | 列向量 $\\textbf y$                                           | 矩阵 $\\textbf Y$                                             |\n",
    "| ------------------ | ------------------------------------------------------------ | ------------------------------------------------------------ | ------------------------------------------------------------ |\n",
    "| 标量 $x$           | $\\dfrac{\\partial y}{\\partial x}$：标量                       | $\\dfrac{\\partial\\textbf y}{\\partial x}$：m * 1 列向量（分子） | $\\dfrac{\\partial\\textbf Y}{\\partial x}$：p * q 矩阵（分子）  |\n",
    "| 列向量 $\\textbf x$ | $\\dfrac{\\partial y}{\\partial\\textbf x}$：n * 1 列向量（分母） | $\\dfrac{\\partial\\textbf y}{\\partial\\textbf x}$：m * n 矩阵（分子） | $\\dfrac{\\partial\\textbf Y}{\\partial\\textbf x}$：p * q * n * 1 数组 |\n",
    "| 矩阵 $\\textbf X$   | $\\dfrac{\\partial y}{\\partial\\textbf X}$：a * b 矩阵（分母）  | $\\dfrac{\\partial\\textbf y}{\\partial\\textbf X}$：a * b * m * 1 数组 | $\\dfrac{\\partial\\textbf Y}{\\partial\\textbf X}$：p * q * a * b 数组 |"
   ]
  },
  {
   "cell_type": "markdown",
   "id": "7b04e033-f34d-417f-85f1-f750a4c04400",
   "metadata": {},
   "source": [
    "# 标量和向量"
   ]
  },
  {
   "cell_type": "markdown",
   "id": "f4701f19-2c7e-47b4-9899-12a5ebf978b5",
   "metadata": {},
   "source": [
    "在 SymPy 使用 `Matrix([list])` 的形式，由列表生成一个列向量，相当于一个 (n, 1) 的矩阵\n",
    "\n",
    "如果是 `Matrix([[list]])` 的形式则是声明行向量"
   ]
  },
  {
   "cell_type": "code",
   "execution_count": 2,
   "id": "6dabd628-59e1-4128-8d8f-0d215fa34930",
   "metadata": {},
   "outputs": [
    {
     "data": {
      "text/latex": [
       "$\\displaystyle \\left[\\begin{matrix}1\\\\2\\\\3\\end{matrix}\\right]$"
      ],
      "text/plain": [
       "Matrix([\n",
       "[1],\n",
       "[2],\n",
       "[3]])"
      ]
     },
     "metadata": {},
     "output_type": "display_data"
    },
    {
     "data": {
      "text/latex": [
       "$\\displaystyle \\left[\\begin{matrix}1 & 2 & 3\\end{matrix}\\right]$"
      ],
      "text/plain": [
       "Matrix([[1, 2, 3]])"
      ]
     },
     "metadata": {},
     "output_type": "display_data"
    }
   ],
   "source": [
    "display(Matrix([1, 2, 3]))\n",
    "display(Matrix([[1, 2, 3]]))"
   ]
  },
  {
   "cell_type": "markdown",
   "id": "75036144-8435-4cd9-b0e9-83f9e809683a",
   "metadata": {},
   "source": [
    "对于函数和自变量，分别声明两个向量：\n",
    "\n",
    "$\\textbf x$： n = 3 维，列向量\n",
    "\n",
    "$\\textbf y$： m = 4 维，列向量"
   ]
  },
  {
   "cell_type": "markdown",
   "id": "9b138634-dd9c-4d33-8d86-dd7b23bd2121",
   "metadata": {},
   "source": [
    "使用符号列表形式来生成 $\\textbf x$"
   ]
  },
  {
   "cell_type": "code",
   "execution_count": 3,
   "id": "79d983f4-0bfe-4bd9-84df-04670bd98cf3",
   "metadata": {},
   "outputs": [
    {
     "data": {
      "text/latex": [
       "$\\displaystyle \\left[\\begin{matrix}x_{1}\\\\x_{2}\\\\x_{3}\\end{matrix}\\right]$"
      ],
      "text/plain": [
       "Matrix([\n",
       "[x_1],\n",
       "[x_2],\n",
       "[x_3]])"
      ]
     },
     "metadata": {},
     "output_type": "display_data"
    },
    {
     "data": {
      "text/plain": [
       "(3, 1)"
      ]
     },
     "metadata": {},
     "output_type": "display_data"
    }
   ],
   "source": [
    "X = Matrix(list(symbols('x_1:4')))\n",
    "display(X)\n",
    "display(shape(X))"
   ]
  },
  {
   "cell_type": "markdown",
   "id": "b2bb6ee9-dff7-4ecd-8aad-733fc3efdc8a",
   "metadata": {},
   "source": [
    "对于函数 $\\textbf y$ 的向量，每个元素都是 $\\textbf x$ 的一个函数\n",
    "\n",
    "在 SymPy 声明函数需要使用 `y = Function('y')(x1, x2, ...)` 的方式，这里使用 `*list(X)` 向 $\\textbf y$ 传入 $\\textbf x$ 中的符号\n",
    "\n",
    "$\\textbf y=\\begin{bmatrix}y_1=f_1(\\textbf x)\\\\\\cdots\\\\y_4=f_4(\\textbf x)\\end{bmatrix}$"
   ]
  },
  {
   "cell_type": "code",
   "execution_count": 4,
   "id": "f53b944f-b983-4513-94b2-c233e0bb259a",
   "metadata": {},
   "outputs": [
    {
     "data": {
      "text/latex": [
       "$\\displaystyle \\left[\\begin{matrix}y_{1}{\\left(x_{1},x_{2},x_{3} \\right)}\\\\y_{2}{\\left(x_{1},x_{2},x_{3} \\right)}\\\\y_{3}{\\left(x_{1},x_{2},x_{3} \\right)}\\\\y_{4}{\\left(x_{1},x_{2},x_{3} \\right)}\\end{matrix}\\right]$"
      ],
      "text/plain": [
       "Matrix([\n",
       "[y_1(x_1, x_2, x_3)],\n",
       "[y_2(x_1, x_2, x_3)],\n",
       "[y_3(x_1, x_2, x_3)],\n",
       "[y_4(x_1, x_2, x_3)]])"
      ]
     },
     "metadata": {},
     "output_type": "display_data"
    },
    {
     "data": {
      "text/plain": [
       "(4, 1)"
      ]
     },
     "metadata": {},
     "output_type": "display_data"
    }
   ],
   "source": [
    "Y = Matrix([Function('y_'+str(i))(*list(X)) for i in range(1, 5)])\n",
    "display(Y)\n",
    "display(shape(Y))"
   ]
  },
  {
   "cell_type": "markdown",
   "id": "a7405579-4925-4685-b7ef-d805ecd77c42",
   "metadata": {},
   "source": [
    "也可以将 $\\textbf y$ 转置为行向量形式"
   ]
  },
  {
   "cell_type": "code",
   "execution_count": 5,
   "id": "012e7e4e-3e86-4e6f-ba9c-971f8bf860e7",
   "metadata": {},
   "outputs": [
    {
     "data": {
      "text/latex": [
       "$\\displaystyle \\left[\\begin{matrix}y_{1}{\\left(x_{1},x_{2},x_{3} \\right)} & y_{2}{\\left(x_{1},x_{2},x_{3} \\right)} & y_{3}{\\left(x_{1},x_{2},x_{3} \\right)} & y_{4}{\\left(x_{1},x_{2},x_{3} \\right)}\\end{matrix}\\right]$"
      ],
      "text/plain": [
       "Matrix([[y_1(x_1, x_2, x_3), y_2(x_1, x_2, x_3), y_3(x_1, x_2, x_3), y_4(x_1, x_2, x_3)]])"
      ]
     },
     "execution_count": 5,
     "metadata": {},
     "output_type": "execute_result"
    }
   ],
   "source": [
    "Y.T"
   ]
  },
  {
   "cell_type": "markdown",
   "id": "709b1336-a362-43f3-8848-eca4951ee5c8",
   "metadata": {
    "tags": []
   },
   "source": [
    "## 标量对向量求导（分母布局）\n",
    "\n",
    "$\\textbf x$： n = 3 维，列向量\n",
    "\n",
    "$\\dfrac{\\partial y_1}{\\partial\\textbf x} = \n",
    "  \\begin{bmatrix} \\dfrac{\\partial y_1}{\\partial x_1} \\\\ \\cdots \\\\ \\dfrac{\\partial y_1}{\\partial x_n} \\end{bmatrix}$\n",
    "\n",
    "得到 n = 3 维列向量"
   ]
  },
  {
   "cell_type": "code",
   "execution_count": 6,
   "id": "0f36ca44-87a8-4e95-8dc8-9e362e33d514",
   "metadata": {},
   "outputs": [
    {
     "data": {
      "text/latex": [
       "$\\displaystyle \\left[\\begin{matrix}\\frac{\\partial}{\\partial x_{1}} y_{1}{\\left(x_{1},x_{2},x_{3} \\right)}\\\\\\frac{\\partial}{\\partial x_{2}} y_{1}{\\left(x_{1},x_{2},x_{3} \\right)}\\\\\\frac{\\partial}{\\partial x_{3}} y_{1}{\\left(x_{1},x_{2},x_{3} \\right)}\\end{matrix}\\right]$"
      ],
      "text/plain": [
       "Matrix([\n",
       "[Derivative(y_1(x_1, x_2, x_3), x_1)],\n",
       "[Derivative(y_1(x_1, x_2, x_3), x_2)],\n",
       "[Derivative(y_1(x_1, x_2, x_3), x_3)]])"
      ]
     },
     "execution_count": 6,
     "metadata": {},
     "output_type": "execute_result"
    }
   ],
   "source": [
    "diff(Y[0], X)"
   ]
  },
  {
   "cell_type": "markdown",
   "id": "167e8dce-4bac-46b1-87c7-4b6409079010",
   "metadata": {},
   "source": [
    "SymPy 默认采用的是分母布局，即标量对列向量求导，返回列向量\n",
    "\n",
    "如果要使用分母布局，需要对结果或者对 $\\textbf x$ 进行转置"
   ]
  },
  {
   "cell_type": "code",
   "execution_count": 7,
   "id": "7f26e555-8324-40d4-a83a-bef240330ae6",
   "metadata": {},
   "outputs": [
    {
     "data": {
      "text/latex": [
       "$\\displaystyle \\left[\\begin{matrix}\\frac{\\partial}{\\partial x_{1}} y_{1}{\\left(x_{1},x_{2},x_{3} \\right)} & \\frac{\\partial}{\\partial x_{2}} y_{1}{\\left(x_{1},x_{2},x_{3} \\right)} & \\frac{\\partial}{\\partial x_{3}} y_{1}{\\left(x_{1},x_{2},x_{3} \\right)}\\end{matrix}\\right]$"
      ],
      "text/plain": [
       "Matrix([[Derivative(y_1(x_1, x_2, x_3), x_1), Derivative(y_1(x_1, x_2, x_3), x_2), Derivative(y_1(x_1, x_2, x_3), x_3)]])"
      ]
     },
     "execution_count": 7,
     "metadata": {},
     "output_type": "execute_result"
    }
   ],
   "source": [
    "diff(Y[0], X.T)"
   ]
  },
  {
   "cell_type": "markdown",
   "id": "0fd82134-9380-4050-a28f-85df87666653",
   "metadata": {},
   "source": [
    "## 向量对标量求导（分子布局）\n",
    "\n",
    "$\\textbf y$： m = 4 维，列向量\n",
    "\n",
    "$\\dfrac{\\partial\\textbf y}{\\partial x_1} = \n",
    "  \\begin{bmatrix} \\dfrac{\\partial y_1}{\\partial x_1} \\\\ \\cdots \\\\ \\dfrac{\\partial y_m}{\\partial x_1} \\end{bmatrix}$\n",
    "\n",
    "得到 m = 4 维列向量"
   ]
  },
  {
   "cell_type": "code",
   "execution_count": 8,
   "id": "9d2adeac-c60b-4c73-93bb-c9ec5b45e931",
   "metadata": {},
   "outputs": [
    {
     "data": {
      "text/latex": [
       "$\\displaystyle \\left[\\begin{matrix}\\frac{\\partial}{\\partial x_{1}} y_{1}{\\left(x_{1},x_{2},x_{3} \\right)}\\\\\\frac{\\partial}{\\partial x_{1}} y_{2}{\\left(x_{1},x_{2},x_{3} \\right)}\\\\\\frac{\\partial}{\\partial x_{1}} y_{3}{\\left(x_{1},x_{2},x_{3} \\right)}\\\\\\frac{\\partial}{\\partial x_{1}} y_{4}{\\left(x_{1},x_{2},x_{3} \\right)}\\end{matrix}\\right]$"
      ],
      "text/plain": [
       "Matrix([\n",
       "[Derivative(y_1(x_1, x_2, x_3), x_1)],\n",
       "[Derivative(y_2(x_1, x_2, x_3), x_1)],\n",
       "[Derivative(y_3(x_1, x_2, x_3), x_1)],\n",
       "[Derivative(y_4(x_1, x_2, x_3), x_1)]])"
      ]
     },
     "metadata": {},
     "output_type": "display_data"
    }
   ],
   "source": [
    "display(diff(Y, X[0]))"
   ]
  },
  {
   "cell_type": "markdown",
   "id": "d21c8e75-6f95-4926-a5d8-9a55876d63c6",
   "metadata": {},
   "source": [
    "# 标量和矩阵\n",
    "\n",
    "$\\textbf X$： m \\* n = 2 \\* 3 维\n",
    "\n",
    "$\\textbf Y$： p \\* q = 2 \\* 3 维"
   ]
  },
  {
   "cell_type": "markdown",
   "id": "7f408dc0-5cfd-4aa8-8ab4-a4d4c01dfd4b",
   "metadata": {
    "tags": []
   },
   "source": [
    "## 标量对矩阵求导（分母布局）\n",
    "\n",
    "$\\textbf X$： m \\* n = 2 \\* 3 维\n",
    "\n",
    "$\\dfrac{\\partial y}{\\partial\\textbf X} = \n",
    "  \\begin{bmatrix} \n",
    "      \\dfrac{\\partial y}{\\partial x_{11}} & \\cdots & \\dfrac{\\partial y}{\\partial x_{1n}} \\\\ \n",
    "      \\cdots \\\\ \n",
    "      \\dfrac{\\partial y}{\\partial x_{m1}} & \\cdots & \\dfrac{\\partial y}{\\partial x_{mn}} \n",
    "  \\end{bmatrix}$\n",
    "\n",
    "得到 m \\* n = 2 \\* 3 维"
   ]
  },
  {
   "cell_type": "markdown",
   "id": "93561124-b403-4e34-a759-b2d941d51476",
   "metadata": {},
   "source": [
    "首先定义矩阵 $\\textbf X$"
   ]
  },
  {
   "cell_type": "code",
   "execution_count": 9,
   "id": "a4690d2d-a716-4236-9107-e9bd598a4b15",
   "metadata": {},
   "outputs": [
    {
     "data": {
      "text/latex": [
       "$\\displaystyle \\left[\\begin{matrix}x_{11} & x_{12} & x_{13}\\\\x_{21} & x_{22} & x_{23}\\end{matrix}\\right]$"
      ],
      "text/plain": [
       "Matrix([\n",
       "[x_11, x_12, x_13],\n",
       "[x_21, x_22, x_23]])"
      ]
     },
     "execution_count": 9,
     "metadata": {},
     "output_type": "execute_result"
    }
   ],
   "source": [
    "lX = symbols('x_11, x_12, x_13, x_21, x_22, x_23')\n",
    "X = Matrix([[lX[0], lX[1], lX[2]], [lX[3], lX[4], lX[5]]])\n",
    "X"
   ]
  },
  {
   "cell_type": "markdown",
   "id": "5fecd156-f8d7-4f22-bb0d-60f1bdb1d0ba",
   "metadata": {},
   "source": [
    "定义 $y = f(\\textbf X)$"
   ]
  },
  {
   "cell_type": "code",
   "execution_count": 10,
   "id": "ddc459ca-36b8-4721-af8b-665d2e4c5a0d",
   "metadata": {},
   "outputs": [],
   "source": [
    "y = Function('y')(*lX)"
   ]
  },
  {
   "cell_type": "markdown",
   "id": "e945f011-9e8e-41ed-a311-b5ac4aac00e8",
   "metadata": {},
   "source": [
    "计算导数的结果采用分母布局，和原矩阵的形状保持一致，相当于 $y$ 对 $\\textbf X$ 中的每个元素求导"
   ]
  },
  {
   "cell_type": "code",
   "execution_count": 11,
   "id": "c5d1fff5-83de-4150-a17c-8b1864c4720c",
   "metadata": {},
   "outputs": [
    {
     "data": {
      "text/latex": [
       "$\\displaystyle \\left[\\begin{matrix}\\frac{\\partial}{\\partial x_{11}} y{\\left(x_{11},x_{12},x_{13},x_{21},x_{22},x_{23} \\right)} & \\frac{\\partial}{\\partial x_{12}} y{\\left(x_{11},x_{12},x_{13},x_{21},x_{22},x_{23} \\right)} & \\frac{\\partial}{\\partial x_{13}} y{\\left(x_{11},x_{12},x_{13},x_{21},x_{22},x_{23} \\right)}\\\\\\frac{\\partial}{\\partial x_{21}} y{\\left(x_{11},x_{12},x_{13},x_{21},x_{22},x_{23} \\right)} & \\frac{\\partial}{\\partial x_{22}} y{\\left(x_{11},x_{12},x_{13},x_{21},x_{22},x_{23} \\right)} & \\frac{\\partial}{\\partial x_{23}} y{\\left(x_{11},x_{12},x_{13},x_{21},x_{22},x_{23} \\right)}\\end{matrix}\\right]$"
      ],
      "text/plain": [
       "Matrix([\n",
       "[Derivative(y(x_11, x_12, x_13, x_21, x_22, x_23), x_11), Derivative(y(x_11, x_12, x_13, x_21, x_22, x_23), x_12), Derivative(y(x_11, x_12, x_13, x_21, x_22, x_23), x_13)],\n",
       "[Derivative(y(x_11, x_12, x_13, x_21, x_22, x_23), x_21), Derivative(y(x_11, x_12, x_13, x_21, x_22, x_23), x_22), Derivative(y(x_11, x_12, x_13, x_21, x_22, x_23), x_23)]])"
      ]
     },
     "execution_count": 11,
     "metadata": {},
     "output_type": "execute_result"
    }
   ],
   "source": [
    "diff(y, X)"
   ]
  },
  {
   "cell_type": "markdown",
   "id": "1130114a-7cca-418a-be2a-0ebaacebeffd",
   "metadata": {},
   "source": [
    "## 矩阵对标量求导（分子布局）\n",
    "\n",
    "$\\textbf Y$： p \\* q = 2 \\* 3 维\n",
    "\n",
    "$\\dfrac{\\partial\\textbf Y}{\\partial x} = \n",
    "  \\begin{bmatrix} \n",
    "      \\dfrac{\\partial y_{11}}{\\partial x} & \\cdots & \\dfrac{\\partial y_{1q}}{\\partial x} \\\\ \n",
    "      \\cdots \\\\ \n",
    "      \\dfrac{\\partial y_{p1}}{\\partial x} & \\cdots & \\dfrac{\\partial y_{pq}}{\\partial x} \n",
    "  \\end{bmatrix}$\n",
    "\n",
    "得到 p \\* q = 2 \\* 3 维"
   ]
  },
  {
   "cell_type": "markdown",
   "id": "5d291903-aeb8-4933-828a-2171eabeb353",
   "metadata": {},
   "source": [
    "首先定义函数矩阵 $\\textbf Y$"
   ]
  },
  {
   "cell_type": "code",
   "execution_count": 12,
   "id": "2d59d577-23ba-4776-b2ff-e505b8490ff2",
   "metadata": {},
   "outputs": [
    {
     "data": {
      "text/latex": [
       "$\\displaystyle \\left[\\begin{matrix}x & x^{2} & x^{3}\\\\2 x & 2 x^{2} & 2 x^{3}\\end{matrix}\\right]$"
      ],
      "text/plain": [
       "Matrix([\n",
       "[  x,   x**2,   x**3],\n",
       "[2*x, 2*x**2, 2*x**3]])"
      ]
     },
     "execution_count": 12,
     "metadata": {},
     "output_type": "execute_result"
    }
   ],
   "source": [
    "Y = Matrix([[x, x**2, x**3], [2*x, 2*x**2, 2*x**3]])\n",
    "Y"
   ]
  },
  {
   "cell_type": "markdown",
   "id": "7321d1a6-9629-4fc0-8942-8ad5e511ff42",
   "metadata": {},
   "source": [
    "矩阵对标量求导，可以使用矩阵特有的 `Y.diff(x)` 或者通用的 `diff(Y, x)`，二者是等价的\n",
    "\n",
    "返回的矩阵大小也与原来保持一致，相当于 $\\textbf Y$ 的每个函数对 $x$ 求导"
   ]
  },
  {
   "cell_type": "code",
   "execution_count": 13,
   "id": "e0f3214e-3ac1-44a1-a22b-d1f75c400cb4",
   "metadata": {},
   "outputs": [
    {
     "data": {
      "text/latex": [
       "$\\displaystyle \\left[\\begin{matrix}1 & 2 x & 3 x^{2}\\\\2 & 4 x & 6 x^{2}\\end{matrix}\\right]$"
      ],
      "text/plain": [
       "Matrix([\n",
       "[1, 2*x, 3*x**2],\n",
       "[2, 4*x, 6*x**2]])"
      ]
     },
     "execution_count": 13,
     "metadata": {},
     "output_type": "execute_result"
    }
   ],
   "source": [
    "diff(Y, x) # Y.diff(x)"
   ]
  },
  {
   "cell_type": "markdown",
   "id": "624a0373-ef38-4fe6-b546-cdb1d3552a57",
   "metadata": {},
   "source": [
    "# 向量和向量"
   ]
  },
  {
   "cell_type": "markdown",
   "id": "01473248-e512-464f-9b45-6c28eb3819ef",
   "metadata": {},
   "source": [
    "## 向量对向量求导（分子布局）\n",
    "\n",
    "向量对向量的求导，相当于两个向量的元素一一求导，结果会从两个列向量生成一个 Jacobi 矩阵\n",
    "\n",
    "$\\textbf y$： n = 3 维，列向量\n",
    "\n",
    "$\\textbf x$： m = 4 维，列向量\n",
    "\n",
    "$\\dfrac{\\partial\\textbf y}{\\partial\\textbf x} = \n",
    "  \\begin{bmatrix} \n",
    "      \\dfrac{\\partial y_1}{\\partial x_1} & \\cdots & \\dfrac{\\partial y_1}{\\partial x_n} \\\\ \n",
    "      \\cdots \\\\ \n",
    "      \\dfrac{\\partial y_m}{\\partial x_1} & \\cdots & \\dfrac{\\partial y_m}{\\partial x_n} \n",
    "  \\end{bmatrix}$\n",
    "  \n",
    "得到 m \\* n = 4 \\* 3 维矩阵"
   ]
  },
  {
   "cell_type": "markdown",
   "id": "4fe141df-1a52-48c1-8176-f18b9bf258c0",
   "metadata": {},
   "source": [
    "首先定义 $\\textbf x$ 和 $\\textbf y$"
   ]
  },
  {
   "cell_type": "code",
   "execution_count": 14,
   "id": "7b213bb5-7fd5-42ee-958c-22183ae12970",
   "metadata": {},
   "outputs": [
    {
     "data": {
      "text/latex": [
       "$\\displaystyle \\left[\\begin{matrix}x_{1}\\\\x_{2}\\\\x_{3}\\end{matrix}\\right]$"
      ],
      "text/plain": [
       "Matrix([\n",
       "[x_1],\n",
       "[x_2],\n",
       "[x_3]])"
      ]
     },
     "metadata": {},
     "output_type": "display_data"
    },
    {
     "data": {
      "text/latex": [
       "$\\displaystyle \\left[\\begin{matrix}y_{1}{\\left(x_{1},x_{2},x_{3} \\right)}\\\\y_{2}{\\left(x_{1},x_{2},x_{3} \\right)}\\\\y_{3}{\\left(x_{1},x_{2},x_{3} \\right)}\\\\y_{4}{\\left(x_{1},x_{2},x_{3} \\right)}\\end{matrix}\\right]$"
      ],
      "text/plain": [
       "Matrix([\n",
       "[y_1(x_1, x_2, x_3)],\n",
       "[y_2(x_1, x_2, x_3)],\n",
       "[y_3(x_1, x_2, x_3)],\n",
       "[y_4(x_1, x_2, x_3)]])"
      ]
     },
     "metadata": {},
     "output_type": "display_data"
    }
   ],
   "source": [
    "X = Matrix(list(symbols('x_1:4')))\n",
    "Y = Matrix([Function('y_'+str(i))(*list(X)) for i in range(1, 5)])\n",
    "\n",
    "display(X)\n",
    "display(Y)"
   ]
  },
  {
   "cell_type": "markdown",
   "id": "3d26f575-671c-4947-a930-40a6e322b74d",
   "metadata": {},
   "source": [
    "### 使用 jacobian\n",
    "\n",
    "SymPy 内置了 `jacobian` 函数，可以用于计算指定向量的 jacobi 矩阵\n",
    "\n",
    "两个操作对象必须是行或列向量"
   ]
  },
  {
   "cell_type": "markdown",
   "id": "0f32e4d8-5546-48ac-a2ab-08890ac6b334",
   "metadata": {},
   "source": [
    "向量对自己本身求导，会产生单位阵"
   ]
  },
  {
   "cell_type": "code",
   "execution_count": 15,
   "id": "4a26c964-694c-4c29-aa32-8973c80ad3a8",
   "metadata": {},
   "outputs": [
    {
     "data": {
      "text/latex": [
       "$\\displaystyle \\left[\\begin{matrix}1 & 0 & 0\\\\0 & 1 & 0\\\\0 & 0 & 1\\end{matrix}\\right]$"
      ],
      "text/plain": [
       "Matrix([\n",
       "[1, 0, 0],\n",
       "[0, 1, 0],\n",
       "[0, 0, 1]])"
      ]
     },
     "execution_count": 15,
     "metadata": {},
     "output_type": "execute_result"
    }
   ],
   "source": [
    "X.jacobian(X)"
   ]
  },
  {
   "cell_type": "markdown",
   "id": "42c1c9c3-9689-4df8-b68f-12c1c493c831",
   "metadata": {},
   "source": [
    "向量对向量求导，会按分子布局排列"
   ]
  },
  {
   "cell_type": "code",
   "execution_count": 16,
   "id": "ff45e1e2-11c1-493d-8890-04515f4ecf4d",
   "metadata": {},
   "outputs": [
    {
     "data": {
      "text/latex": [
       "$\\displaystyle \\left[\\begin{matrix}\\frac{\\partial}{\\partial x_{1}} y_{1}{\\left(x_{1},x_{2},x_{3} \\right)} & \\frac{\\partial}{\\partial x_{2}} y_{1}{\\left(x_{1},x_{2},x_{3} \\right)} & \\frac{\\partial}{\\partial x_{3}} y_{1}{\\left(x_{1},x_{2},x_{3} \\right)}\\\\\\frac{\\partial}{\\partial x_{1}} y_{2}{\\left(x_{1},x_{2},x_{3} \\right)} & \\frac{\\partial}{\\partial x_{2}} y_{2}{\\left(x_{1},x_{2},x_{3} \\right)} & \\frac{\\partial}{\\partial x_{3}} y_{2}{\\left(x_{1},x_{2},x_{3} \\right)}\\\\\\frac{\\partial}{\\partial x_{1}} y_{3}{\\left(x_{1},x_{2},x_{3} \\right)} & \\frac{\\partial}{\\partial x_{2}} y_{3}{\\left(x_{1},x_{2},x_{3} \\right)} & \\frac{\\partial}{\\partial x_{3}} y_{3}{\\left(x_{1},x_{2},x_{3} \\right)}\\\\\\frac{\\partial}{\\partial x_{1}} y_{4}{\\left(x_{1},x_{2},x_{3} \\right)} & \\frac{\\partial}{\\partial x_{2}} y_{4}{\\left(x_{1},x_{2},x_{3} \\right)} & \\frac{\\partial}{\\partial x_{3}} y_{4}{\\left(x_{1},x_{2},x_{3} \\right)}\\end{matrix}\\right]$"
      ],
      "text/plain": [
       "Matrix([\n",
       "[Derivative(y_1(x_1, x_2, x_3), x_1), Derivative(y_1(x_1, x_2, x_3), x_2), Derivative(y_1(x_1, x_2, x_3), x_3)],\n",
       "[Derivative(y_2(x_1, x_2, x_3), x_1), Derivative(y_2(x_1, x_2, x_3), x_2), Derivative(y_2(x_1, x_2, x_3), x_3)],\n",
       "[Derivative(y_3(x_1, x_2, x_3), x_1), Derivative(y_3(x_1, x_2, x_3), x_2), Derivative(y_3(x_1, x_2, x_3), x_3)],\n",
       "[Derivative(y_4(x_1, x_2, x_3), x_1), Derivative(y_4(x_1, x_2, x_3), x_2), Derivative(y_4(x_1, x_2, x_3), x_3)]])"
      ]
     },
     "execution_count": 16,
     "metadata": {},
     "output_type": "execute_result"
    }
   ],
   "source": [
    "Y.jacobian(X)"
   ]
  },
  {
   "cell_type": "markdown",
   "id": "f8df8d71-3141-4783-bea8-bfa91b760713",
   "metadata": {},
   "source": [
    "### 使用 diff\n"
   ]
  },
  {
   "cell_type": "markdown",
   "id": "3ef17d26-7b13-4f86-bdf4-b8c3d347f62a",
   "metadata": {},
   "source": [
    "如果使用通用的 diff 进行求导，则会产生一个多维数组"
   ]
  },
  {
   "cell_type": "code",
   "execution_count": 17,
   "id": "fbfc223a-7f98-40de-bead-62969ee391f1",
   "metadata": {},
   "outputs": [
    {
     "data": {
      "text/latex": [
       "$\\displaystyle \\left[\\begin{matrix}\\left[\\begin{matrix}1\\\\0\\\\0\\end{matrix}\\right]\\\\\\left[\\begin{matrix}0\\\\1\\\\0\\end{matrix}\\right]\\\\\\left[\\begin{matrix}0\\\\0\\\\1\\end{matrix}\\right]\\end{matrix}\\right]$"
      ],
      "text/plain": [
       "[[[[1], [0], [0]]], [[[0], [1], [0]]], [[[0], [0], [1]]]]"
      ]
     },
     "metadata": {},
     "output_type": "display_data"
    },
    {
     "data": {
      "text/plain": [
       "(3, 1, 3, 1)"
      ]
     },
     "metadata": {},
     "output_type": "display_data"
    }
   ],
   "source": [
    "D = diff(X, X)\n",
    "display(D)\n",
    "display(D.shape)"
   ]
  },
  {
   "cell_type": "markdown",
   "id": "72f02cb8-f93c-4f71-b867-93f193376431",
   "metadata": {},
   "source": [
    "多维数组的类型为 N-dim Array，需要使用 `reshape` 整理形状并使用 `tomatrix` 转换为矩阵\n",
    "\n",
    "参见：\n",
    "\n",
    "https://docs.sympy.org/latest/modules/tensor/array.html?highlight=tomatrix"
   ]
  },
  {
   "cell_type": "code",
   "execution_count": 18,
   "id": "d4521f17-15b3-4144-9663-a8e03c4b3a3f",
   "metadata": {},
   "outputs": [
    {
     "data": {
      "text/latex": [
       "$\\displaystyle \\left[\\begin{matrix}1 & 0 & 0\\\\0 & 1 & 0\\\\0 & 0 & 1\\end{matrix}\\right]$"
      ],
      "text/plain": [
       "Matrix([\n",
       "[1, 0, 0],\n",
       "[0, 1, 0],\n",
       "[0, 0, 1]])"
      ]
     },
     "execution_count": 18,
     "metadata": {},
     "output_type": "execute_result"
    }
   ],
   "source": [
    "D.reshape(3, 3).tomatrix()"
   ]
  },
  {
   "cell_type": "markdown",
   "id": "add51dc1-cf26-4fe2-b9be-b42531b79784",
   "metadata": {},
   "source": [
    "$\\textbf y$ 对 $\\textbf x$ 求导也是同理"
   ]
  },
  {
   "cell_type": "code",
   "execution_count": 19,
   "id": "4125e9a0-e43f-4811-8b5e-a7fccb592530",
   "metadata": {},
   "outputs": [
    {
     "data": {
      "text/plain": [
       "(3, 1, 4, 1)"
      ]
     },
     "metadata": {},
     "output_type": "display_data"
    },
    {
     "data": {
      "text/latex": [
       "$\\displaystyle \\left[\\begin{matrix}\\left[\\begin{matrix}\\frac{\\partial}{\\partial x_{1}} y_{1}{\\left(x_{1},x_{2},x_{3} \\right)}\\\\\\frac{\\partial}{\\partial x_{1}} y_{2}{\\left(x_{1},x_{2},x_{3} \\right)}\\\\\\frac{\\partial}{\\partial x_{1}} y_{3}{\\left(x_{1},x_{2},x_{3} \\right)}\\\\\\frac{\\partial}{\\partial x_{1}} y_{4}{\\left(x_{1},x_{2},x_{3} \\right)}\\end{matrix}\\right]\\\\\\left[\\begin{matrix}\\frac{\\partial}{\\partial x_{2}} y_{1}{\\left(x_{1},x_{2},x_{3} \\right)}\\\\\\frac{\\partial}{\\partial x_{2}} y_{2}{\\left(x_{1},x_{2},x_{3} \\right)}\\\\\\frac{\\partial}{\\partial x_{2}} y_{3}{\\left(x_{1},x_{2},x_{3} \\right)}\\\\\\frac{\\partial}{\\partial x_{2}} y_{4}{\\left(x_{1},x_{2},x_{3} \\right)}\\end{matrix}\\right]\\\\\\left[\\begin{matrix}\\frac{\\partial}{\\partial x_{3}} y_{1}{\\left(x_{1},x_{2},x_{3} \\right)}\\\\\\frac{\\partial}{\\partial x_{3}} y_{2}{\\left(x_{1},x_{2},x_{3} \\right)}\\\\\\frac{\\partial}{\\partial x_{3}} y_{3}{\\left(x_{1},x_{2},x_{3} \\right)}\\\\\\frac{\\partial}{\\partial x_{3}} y_{4}{\\left(x_{1},x_{2},x_{3} \\right)}\\end{matrix}\\right]\\end{matrix}\\right]$"
      ],
      "text/plain": [
       "[[[[Derivative(y_1(x_1, x_2, x_3), x_1)], [Derivative(y_2(x_1, x_2, x_3), x_1)], [Derivative(y_3(x_1, x_2, x_3), x_1)], [Derivative(y_4(x_1, x_2, x_3), x_1)]]], [[[Derivative(y_1(x_1, x_2, x_3), x_2)], [Derivative(y_2(x_1, x_2, x_3), x_2)], [Derivative(y_3(x_1, x_2, x_3), x_2)], [Derivative(y_4(x_1, x_2, x_3), x_2)]]], [[[Derivative(y_1(x_1, x_2, x_3), x_3)], [Derivative(y_2(x_1, x_2, x_3), x_3)], [Derivative(y_3(x_1, x_2, x_3), x_3)], [Derivative(y_4(x_1, x_2, x_3), x_3)]]]]"
      ]
     },
     "metadata": {},
     "output_type": "display_data"
    }
   ],
   "source": [
    "D = diff(Y, X)\n",
    "display(D.shape)\n",
    "display(D)"
   ]
  },
  {
   "cell_type": "code",
   "execution_count": 20,
   "id": "aa9eef08-a3a8-419c-94fa-3b7a310cc69a",
   "metadata": {},
   "outputs": [
    {
     "data": {
      "text/latex": [
       "$\\displaystyle \\left[\\begin{matrix}\\frac{\\partial}{\\partial x_{1}} y_{1}{\\left(x_{1},x_{2},x_{3} \\right)} & \\frac{\\partial}{\\partial x_{1}} y_{2}{\\left(x_{1},x_{2},x_{3} \\right)} & \\frac{\\partial}{\\partial x_{1}} y_{3}{\\left(x_{1},x_{2},x_{3} \\right)}\\\\\\frac{\\partial}{\\partial x_{1}} y_{4}{\\left(x_{1},x_{2},x_{3} \\right)} & \\frac{\\partial}{\\partial x_{2}} y_{1}{\\left(x_{1},x_{2},x_{3} \\right)} & \\frac{\\partial}{\\partial x_{2}} y_{2}{\\left(x_{1},x_{2},x_{3} \\right)}\\\\\\frac{\\partial}{\\partial x_{2}} y_{3}{\\left(x_{1},x_{2},x_{3} \\right)} & \\frac{\\partial}{\\partial x_{2}} y_{4}{\\left(x_{1},x_{2},x_{3} \\right)} & \\frac{\\partial}{\\partial x_{3}} y_{1}{\\left(x_{1},x_{2},x_{3} \\right)}\\\\\\frac{\\partial}{\\partial x_{3}} y_{2}{\\left(x_{1},x_{2},x_{3} \\right)} & \\frac{\\partial}{\\partial x_{3}} y_{3}{\\left(x_{1},x_{2},x_{3} \\right)} & \\frac{\\partial}{\\partial x_{3}} y_{4}{\\left(x_{1},x_{2},x_{3} \\right)}\\end{matrix}\\right]$"
      ],
      "text/plain": [
       "Matrix([\n",
       "[Derivative(y_1(x_1, x_2, x_3), x_1), Derivative(y_2(x_1, x_2, x_3), x_1), Derivative(y_3(x_1, x_2, x_3), x_1)],\n",
       "[Derivative(y_4(x_1, x_2, x_3), x_1), Derivative(y_1(x_1, x_2, x_3), x_2), Derivative(y_2(x_1, x_2, x_3), x_2)],\n",
       "[Derivative(y_3(x_1, x_2, x_3), x_2), Derivative(y_4(x_1, x_2, x_3), x_2), Derivative(y_1(x_1, x_2, x_3), x_3)],\n",
       "[Derivative(y_2(x_1, x_2, x_3), x_3), Derivative(y_3(x_1, x_2, x_3), x_3), Derivative(y_4(x_1, x_2, x_3), x_3)]])"
      ]
     },
     "execution_count": 20,
     "metadata": {},
     "output_type": "execute_result"
    }
   ],
   "source": [
    "D.reshape(4, 3).tomatrix()"
   ]
  },
  {
   "cell_type": "markdown",
   "id": "eb670db6-d500-445c-9a62-e9b92a49c7ac",
   "metadata": {},
   "source": [
    "# 向量和矩阵"
   ]
  },
  {
   "cell_type": "markdown",
   "id": "863cae11-f0b9-4a43-99fb-4f9b5b41ab2c",
   "metadata": {},
   "source": [
    "网络上的大部分资料都没有向量对矩阵、矩阵对向量、矩阵对矩阵这三种类型的介绍\n",
    "\n",
    "按照 wikipedia ，这三种计算还没有形成共识\n",
    "\n",
    "但是在神经网络中，例如我们想要计算结果（向量）对权重（矩阵）的导数，则会涉及到这种计算\n",
    "\n",
    "本质上它们都是向量/矩阵之间，每个元素一一对应地进行计算，但是在结果的布局上没有统一的说法"
   ]
  },
  {
   "cell_type": "code",
   "execution_count": 21,
   "id": "cd339317-39ea-4b8d-a94d-af51622e83a2",
   "metadata": {},
   "outputs": [],
   "source": [
    "x, y, z, t = symbols('x y z t')"
   ]
  },
  {
   "cell_type": "markdown",
   "id": "21bf5ecb-8978-4df2-840e-42cdf2e6b4f7",
   "metadata": {},
   "source": [
    "## 向量对矩阵求导（混合布局）\n",
    "\n",
    "向量对矩阵的求导，可以参考标量对矩阵的求导，将向量与矩阵的每个元素（标量）求导，然后再对向量的每个元素（标量）进行求导\n",
    "\n",
    "$\\textbf y$： m = 2 维，列向量\n",
    "\n",
    "$\\textbf X$： p \\* q = 2 \\* 3 维\n",
    "\n",
    "按照 SymPy 的默认混合布局：\n",
    "\n",
    "首先会对分母进行展开\n",
    "\n",
    "$\\dfrac{\\partial\\textbf y}{\\partial\\textbf X}$ 为 p * q = 2 * 3 维矩阵 （标量-矩阵，分母布局）\n",
    "\n",
    "然后再对分子进行展开\n",
    "\n",
    "$\\dfrac{\\partial\\textbf y}{\\partial x_{ij}}$ 为 m = 2 维列向量 （向量-标量，分子布局）\n",
    "\n",
    "$\\dfrac{\\partial\\textbf y}{\\partial\\textbf X}\n",
    "= \n",
    "\\begin{bmatrix} \n",
    "  \\dfrac{\\partial\\textbf y}{\\partial x_{11}} & \\cdots & \\dfrac{\\partial\\textbf y}{\\partial x_{1q}} \\\\ \n",
    "  \\cdots \\\\ \n",
    "  \\dfrac{\\partial\\textbf y}{\\partial x_{p1}} & \\cdots & \\dfrac{\\partial\\textbf y}{\\partial x_{pq}} \n",
    "\\end{bmatrix}\n",
    "= \n",
    "\\begin{bmatrix} \n",
    "  \\begin{bmatrix}\\dfrac{\\partial y_1}{\\partial x_{11}}\\\\\\cdots\\\\\\dfrac{\\partial y_m}{\\partial x_{11}}\\end{bmatrix} \n",
    "    & \\cdots \n",
    "    & \\begin{bmatrix}\\dfrac{\\partial y_1}{\\partial x_{1q}}\\\\\\cdots\\\\\\dfrac{\\partial y_m}{\\partial x_{1q}}\\end{bmatrix} \n",
    "  \\\\ \\cdots \\\\ \n",
    "  \\begin{bmatrix}\\dfrac{\\partial y_1}{\\partial x_{p1}}\\\\\\cdots\\\\\\dfrac{\\partial y_m}{\\partial x_{p1}}\\end{bmatrix} \n",
    "    & \\cdots \n",
    "    & \\begin{bmatrix}\\dfrac{\\partial y_1}{\\partial x_{pq}}\\\\\\cdots\\\\\\dfrac{\\partial y_m}{\\partial x_{pq}}\\end{bmatrix} \n",
    "\\end{bmatrix}$"
   ]
  },
  {
   "cell_type": "markdown",
   "id": "a101579f-d387-4bf1-bdcd-1e992285a8aa",
   "metadata": {},
   "source": [
    "我们定义一个 vy 和 mX，使用 `diff` 进行计算"
   ]
  },
  {
   "cell_type": "code",
   "execution_count": 22,
   "id": "3bc7162d-ccfe-4ca1-b655-36372bde8921",
   "metadata": {},
   "outputs": [
    {
     "data": {
      "text/latex": [
       "$\\displaystyle \\left[\\begin{matrix}t x y z\\\\2 x + y^{2} + \\log{\\left(z \\right)} + \\sin{\\left(t \\right)}\\end{matrix}\\right]$"
      ],
      "text/plain": [
       "Matrix([\n",
       "[                     t*x*y*z],\n",
       "[2*x + y**2 + log(z) + sin(t)]])"
      ]
     },
     "metadata": {},
     "output_type": "display_data"
    },
    {
     "data": {
      "text/latex": [
       "$\\displaystyle \\left[\\begin{matrix}x & y & z\\\\y & z & t\\end{matrix}\\right]$"
      ],
      "text/plain": [
       "Matrix([\n",
       "[x, y, z],\n",
       "[y, z, t]])"
      ]
     },
     "metadata": {},
     "output_type": "display_data"
    }
   ],
   "source": [
    "vy = Matrix([x * y * z * t, 2*x + y**2 + log(z) + sin(t)])\n",
    "mX = Matrix([[x, y, z], [y, z, t]])\n",
    "display(vy)\n",
    "display(mX)"
   ]
  },
  {
   "cell_type": "markdown",
   "id": "d0ab6c27-fb27-4277-94ab-c6393120829b",
   "metadata": {},
   "source": [
    "结果会返回一个 p \\* q \\* m = 2 \\* 3 \\* 2 的多维数组"
   ]
  },
  {
   "cell_type": "code",
   "execution_count": 23,
   "id": "695f57a8-7462-4e45-a884-6d979795c36d",
   "metadata": {},
   "outputs": [
    {
     "data": {
      "text/latex": [
       "$\\displaystyle \\left[\\begin{matrix}\\left[\\begin{matrix}t y z\\\\2\\end{matrix}\\right] & \\left[\\begin{matrix}t x z\\\\2 y\\end{matrix}\\right] & \\left[\\begin{matrix}t x y\\\\\\frac{1}{z}\\end{matrix}\\right]\\\\\\left[\\begin{matrix}t x z\\\\2 y\\end{matrix}\\right] & \\left[\\begin{matrix}t x y\\\\\\frac{1}{z}\\end{matrix}\\right] & \\left[\\begin{matrix}x y z\\\\\\cos{\\left(t \\right)}\\end{matrix}\\right]\\end{matrix}\\right]$"
      ],
      "text/plain": [
       "[[[[t*y*z], [2]], [[t*x*z], [2*y]], [[t*x*y], [1/z]]], [[[t*x*z], [2*y]], [[t*x*y], [1/z]], [[x*y*z], [cos(t)]]]]"
      ]
     },
     "metadata": {},
     "output_type": "display_data"
    },
    {
     "data": {
      "text/plain": [
       "(2, 3, 2, 1)"
      ]
     },
     "metadata": {},
     "output_type": "display_data"
    }
   ],
   "source": [
    "D = diff(vy, mX)\n",
    "display(D)\n",
    "display(D.shape)"
   ]
  },
  {
   "cell_type": "markdown",
   "id": "d26cd2ca-a7ee-42df-863f-da8124f85327",
   "metadata": {},
   "source": [
    "将结果转为矩阵"
   ]
  },
  {
   "cell_type": "code",
   "execution_count": 24,
   "id": "84d1a64a-7261-4845-be02-d7b2a4dfd6c2",
   "metadata": {},
   "outputs": [
    {
     "data": {
      "text/latex": [
       "$\\displaystyle \\left[\\begin{matrix}t y z & t x z & t x y\\\\2 & 2 y & \\frac{1}{z}\\\\t x z & t x y & x y z\\\\2 y & \\frac{1}{z} & \\cos{\\left(t \\right)}\\end{matrix}\\right]$"
      ],
      "text/plain": [
       "Matrix([\n",
       "[t*y*z, t*x*z,  t*x*y],\n",
       "[    2,   2*y,    1/z],\n",
       "[t*x*z, t*x*y,  x*y*z],\n",
       "[  2*y,   1/z, cos(t)]])"
      ]
     },
     "execution_count": 24,
     "metadata": {},
     "output_type": "execute_result"
    }
   ],
   "source": [
    "M = zeros(4, 3)\n",
    "for i in range(2):\n",
    "    for j in range(3):\n",
    "        for k in range(2):\n",
    "            M[(i*2+k)*3+j] = D[i][j][k][0]           \n",
    "M"
   ]
  },
  {
   "cell_type": "markdown",
   "id": "28b77e24-84a7-43c3-8054-4ee7643314b8",
   "metadata": {},
   "source": [
    "### 转为分子布局\n",
    "\n",
    "如果统一按照分子布局，则需要使用 $\\textbf X$ 的转置来计算：\n",
    "\n",
    "$\\dfrac{\\partial\\textbf y}{\\partial\\textbf X^T}$ 为 q * p = 3 * 2 维矩阵（标量-矩阵，分子布局）\n",
    "\n",
    "$\\dfrac{\\partial\\textbf y}{\\partial x_{ji}}$ 为 m = 2 维列向量（向量-标量，分子布局）"
   ]
  },
  {
   "cell_type": "code",
   "execution_count": 25,
   "id": "26831069-93f0-4154-a8a0-462cf9687a06",
   "metadata": {},
   "outputs": [
    {
     "data": {
      "text/latex": [
       "$\\displaystyle \\left[\\begin{matrix}\\left[\\begin{matrix}t y z\\\\2\\end{matrix}\\right] & \\left[\\begin{matrix}t x z\\\\2 y\\end{matrix}\\right]\\\\\\left[\\begin{matrix}t x z\\\\2 y\\end{matrix}\\right] & \\left[\\begin{matrix}t x y\\\\\\frac{1}{z}\\end{matrix}\\right]\\\\\\left[\\begin{matrix}t x y\\\\\\frac{1}{z}\\end{matrix}\\right] & \\left[\\begin{matrix}x y z\\\\\\cos{\\left(t \\right)}\\end{matrix}\\right]\\end{matrix}\\right]$"
      ],
      "text/plain": [
       "[[[[t*y*z], [2]], [[t*x*z], [2*y]]], [[[t*x*z], [2*y]], [[t*x*y], [1/z]]], [[[t*x*y], [1/z]], [[x*y*z], [cos(t)]]]]"
      ]
     },
     "metadata": {},
     "output_type": "display_data"
    },
    {
     "data": {
      "text/plain": [
       "(3, 2, 2, 1)"
      ]
     },
     "metadata": {},
     "output_type": "display_data"
    }
   ],
   "source": [
    "D = diff(vy, mX.T)\n",
    "display(D)\n",
    "display(D.shape)"
   ]
  },
  {
   "cell_type": "markdown",
   "id": "17ccf5fe-7214-4e92-8cbf-c6dd5f238935",
   "metadata": {},
   "source": [
    "将结果转为矩阵"
   ]
  },
  {
   "cell_type": "code",
   "execution_count": 26,
   "id": "b913fb7c-4279-48f1-91d9-8719813f3e10",
   "metadata": {},
   "outputs": [
    {
     "data": {
      "text/latex": [
       "$\\displaystyle \\left[\\begin{matrix}t y z & t x z\\\\2 & 2 y\\\\t x z & t x y\\\\2 y & \\frac{1}{z}\\\\t x y & x y z\\\\\\frac{1}{z} & \\cos{\\left(t \\right)}\\end{matrix}\\right]$"
      ],
      "text/plain": [
       "Matrix([\n",
       "[t*y*z,  t*x*z],\n",
       "[    2,    2*y],\n",
       "[t*x*z,  t*x*y],\n",
       "[  2*y,    1/z],\n",
       "[t*x*y,  x*y*z],\n",
       "[  1/z, cos(t)]])"
      ]
     },
     "execution_count": 26,
     "metadata": {},
     "output_type": "execute_result"
    }
   ],
   "source": [
    "M = zeros(6, 2)\n",
    "for i in range(3):\n",
    "    for j in range(2):\n",
    "        for k in range(2):\n",
    "            M[(i*2+k)*2+j] = D[i][j][k][0]           \n",
    "M"
   ]
  },
  {
   "cell_type": "markdown",
   "id": "2a18ec6c-31f4-4dd4-8a5e-7dba17567030",
   "metadata": {},
   "source": [
    "### 转为分母布局\n",
    "\n",
    "如果统一按照分母布局，则需要使用 $\\textbf y$ 的转置来计算：\n",
    "\n",
    "$\\dfrac{\\partial\\textbf y^T}{\\partial\\textbf X}$ 为 p * q = 2 * 3 维矩阵（标量-矩阵，分母布局）\n",
    "\n",
    "$\\dfrac{\\partial\\textbf y^T}{\\partial x_{ij}}$ 为 m = 2 维行向量（向量-标量，分母布局）"
   ]
  },
  {
   "cell_type": "code",
   "execution_count": 27,
   "id": "6a023fc1-706c-4013-851d-0533e36719a4",
   "metadata": {},
   "outputs": [
    {
     "data": {
      "text/latex": [
       "$\\displaystyle \\left[\\begin{matrix}\\left[\\left[\\begin{matrix}t y z & 2\\end{matrix}\\right]\\right] & \\left[\\left[\\begin{matrix}t x z & 2 y\\end{matrix}\\right]\\right] & \\left[\\left[\\begin{matrix}t x y & \\frac{1}{z}\\end{matrix}\\right]\\right]\\\\\\left[\\left[\\begin{matrix}t x z & 2 y\\end{matrix}\\right]\\right] & \\left[\\left[\\begin{matrix}t x y & \\frac{1}{z}\\end{matrix}\\right]\\right] & \\left[\\left[\\begin{matrix}x y z & \\cos{\\left(t \\right)}\\end{matrix}\\right]\\right]\\end{matrix}\\right]$"
      ],
      "text/plain": [
       "[[[[t*y*z, 2]], [[t*x*z, 2*y]], [[t*x*y, 1/z]]], [[[t*x*z, 2*y]], [[t*x*y, 1/z]], [[x*y*z, cos(t)]]]]"
      ]
     },
     "execution_count": 27,
     "metadata": {},
     "output_type": "execute_result"
    }
   ],
   "source": [
    "diff(vy.T, mX)"
   ]
  },
  {
   "cell_type": "markdown",
   "id": "85aa4f07-3b94-4d32-bac0-f32c1c56e7b6",
   "metadata": {
    "tags": []
   },
   "source": [
    "## 矩阵对向量求导\n",
    "\n",
    "$\\textbf x$： n = 2 维，列向量\n",
    "\n",
    "$\\textbf Y$： p \\* q = 2 \\* 3 维\n",
    "\n",
    "按照 SymPy 的默认混合布局：\n",
    "\n",
    "首先会对分母进行展开\n",
    "\n",
    "$\\dfrac{\\partial\\textbf Y}{\\partial\\textbf x}$ 为 n = 2 维列向量 （标量-向量，分母布局）\n",
    "\n",
    "然后再对分子进行展开\n",
    "\n",
    "$\\dfrac{\\partial\\textbf Y}{\\partial x_i}$ 为 p * q = 2 * 3 维矩阵 （矩阵-标量，分子布局）\n",
    "\n",
    "$\\dfrac{\\partial\\textbf Y}{\\partial\\textbf x}\n",
    "= \n",
    "\\begin{bmatrix} \n",
    "  \\dfrac{\\partial\\textbf Y}{\\partial x_1} \\\\ \\cdots \\\\ \\dfrac{\\partial\\textbf Y}{\\partial x_n} \n",
    "\\end{bmatrix}\n",
    "= \n",
    "\\begin{bmatrix} \n",
    "  \\begin{bmatrix} \n",
    "    \\dfrac{\\partial y_{11}}{\\partial x_1} & \\cdots & \\dfrac{\\partial y_{1q}}{\\partial x_1} \n",
    "    \\\\ \\cdots \\\\ \n",
    "    \\dfrac{\\partial y_{p1}}{\\partial x_1} & \\cdots & \\dfrac{\\partial y_{pq}}{\\partial x_1} \n",
    "  \\end{bmatrix} \n",
    "  \\\\ \n",
    "  \\cdots \n",
    "  \\\\ \n",
    "  \\begin{bmatrix} \n",
    "    \\dfrac{\\partial y_{11}}{\\partial x_n} & \\cdots & \\dfrac{\\partial y_{1q}}{\\partial x_n} \n",
    "    \\\\ \\cdots \\\\ \n",
    "    \\dfrac{\\partial y_{p1}}{\\partial x_n} & \\cdots & \\dfrac{\\partial y_{pq}}{\\partial x_n} \n",
    "  \\end{bmatrix}\n",
    "\\end{bmatrix}\n",
    "$"
   ]
  },
  {
   "cell_type": "code",
   "execution_count": 28,
   "id": "5471bc76-4250-47b0-afb9-8f0a1b523feb",
   "metadata": {},
   "outputs": [
    {
     "data": {
      "text/latex": [
       "$\\displaystyle \\left[\\begin{matrix}x\\\\y\\end{matrix}\\right]$"
      ],
      "text/plain": [
       "Matrix([\n",
       "[x],\n",
       "[y]])"
      ]
     },
     "metadata": {},
     "output_type": "display_data"
    },
    {
     "data": {
      "text/latex": [
       "$\\displaystyle \\left[\\begin{matrix}x y & x^{2} y & x y^{2}\\\\2 x + y & 2 x^{2} + y & 2 x + y^{2}\\end{matrix}\\right]$"
      ],
      "text/plain": [
       "Matrix([\n",
       "[    x*y,     x**2*y,     x*y**2],\n",
       "[2*x + y, 2*x**2 + y, 2*x + y**2]])"
      ]
     },
     "metadata": {},
     "output_type": "display_data"
    }
   ],
   "source": [
    "X = Matrix([x, y])\n",
    "Y = Matrix([[1 * x * y, 1 * x**2 * y, 1 * x * y**2], \n",
    "            [2 * x + y, 2 * x**2 + y, 2 * x + y**2]])\n",
    "display(X)\n",
    "display(Y)"
   ]
  },
  {
   "cell_type": "code",
   "execution_count": 29,
   "id": "18cc6784-6d67-482c-b694-c878c3e2d52a",
   "metadata": {},
   "outputs": [
    {
     "data": {
      "text/latex": [
       "$\\displaystyle \\left[\\begin{matrix}\\left[\\begin{matrix}y & 2 x y & y^{2}\\\\2 & 4 x & 2\\end{matrix}\\right]\\\\\\left[\\begin{matrix}x & x^{2} & 2 x y\\\\1 & 1 & 2 y\\end{matrix}\\right]\\end{matrix}\\right]$"
      ],
      "text/plain": [
       "[[[[y, 2*x*y, y**2], [2, 4*x, 2]]], [[[x, x**2, 2*x*y], [1, 1, 2*y]]]]"
      ]
     },
     "execution_count": 29,
     "metadata": {},
     "output_type": "execute_result"
    }
   ],
   "source": [
    "D = diff(Y, X)\n",
    "D"
   ]
  },
  {
   "cell_type": "code",
   "execution_count": 30,
   "id": "5ced33c4-b7df-4f01-bc7e-b797d3d182c6",
   "metadata": {},
   "outputs": [
    {
     "data": {
      "text/plain": [
       "(2, 1, 2, 3)"
      ]
     },
     "execution_count": 30,
     "metadata": {},
     "output_type": "execute_result"
    }
   ],
   "source": [
    "D.shape"
   ]
  },
  {
   "cell_type": "markdown",
   "id": "7922b8e0-51d7-4c5e-b85b-78372c96da45",
   "metadata": {},
   "source": [
    "采用混合布局，直接 reshape 即可"
   ]
  },
  {
   "cell_type": "code",
   "execution_count": 31,
   "id": "8806bec9-27d2-4bd9-bbcb-e4fdfb1ac323",
   "metadata": {},
   "outputs": [
    {
     "data": {
      "text/latex": [
       "$\\displaystyle \\left[\\begin{matrix}y & 2 x y & y^{2}\\\\2 & 4 x & 2\\\\x & x^{2} & 2 x y\\\\1 & 1 & 2 y\\end{matrix}\\right]$"
      ],
      "text/plain": [
       "Matrix([\n",
       "[y, 2*x*y,  y**2],\n",
       "[2,   4*x,     2],\n",
       "[x,  x**2, 2*x*y],\n",
       "[1,     1,   2*y]])"
      ]
     },
     "execution_count": 31,
     "metadata": {},
     "output_type": "execute_result"
    }
   ],
   "source": [
    "D.reshape(4, 3).tomatrix()"
   ]
  },
  {
   "cell_type": "markdown",
   "id": "bb993e53-54f9-43d4-9c17-4b711e816773",
   "metadata": {
    "tags": []
   },
   "source": [
    "### 转为分子布局\n",
    "\n",
    "如果统一按照分子布局，则需要使用 $\\textbf x$ 的转置来计算：\n",
    "\n",
    "$\\dfrac{\\partial\\textbf Y}{\\partial\\textbf x^T}$ 为 n = 2 维行向量 （标量-向量，分子布局）\n",
    "\n",
    "$\\dfrac{\\partial\\textbf Y}{\\partial x_i}$ 为 p * q = 2 * 3 维矩阵 （矩阵-标量，分子布局）"
   ]
  },
  {
   "cell_type": "code",
   "execution_count": 32,
   "id": "7c4cd419-174a-43a4-a2f8-f1936a24551b",
   "metadata": {},
   "outputs": [
    {
     "data": {
      "text/latex": [
       "$\\displaystyle \\left[\\left[\\begin{matrix}\\left[\\begin{matrix}y & 2 x y & y^{2}\\\\2 & 4 x & 2\\end{matrix}\\right] & \\left[\\begin{matrix}x & x^{2} & 2 x y\\\\1 & 1 & 2 y\\end{matrix}\\right]\\end{matrix}\\right]\\right]$"
      ],
      "text/plain": [
       "[[[[y, 2*x*y, y**2], [2, 4*x, 2]], [[x, x**2, 2*x*y], [1, 1, 2*y]]]]"
      ]
     },
     "execution_count": 32,
     "metadata": {},
     "output_type": "execute_result"
    }
   ],
   "source": [
    "diff(Y, X.T)"
   ]
  },
  {
   "cell_type": "markdown",
   "id": "43f175f9-90a7-4997-8797-21136d151bd8",
   "metadata": {},
   "source": [
    "### 转为分母布局\n",
    "\n",
    "如果统一按照分母布局，则需要使用 $\\textbf Y$ 的转置来计算：\n",
    "\n",
    "$\\dfrac{\\partial\\textbf Y^T}{\\partial\\textbf x}$ 为 n = 2 维列向量 （标量-向量，分母布局）\n",
    "\n",
    "$\\dfrac{\\partial\\textbf Y^T}{\\partial x_i}$ 为 q * p = 3 * 2 维矩阵 （矩阵-标量，分母布局）"
   ]
  },
  {
   "cell_type": "code",
   "execution_count": 33,
   "id": "4ef0706c-8066-445d-a206-c0231ca1ee9d",
   "metadata": {},
   "outputs": [
    {
     "data": {
      "text/latex": [
       "$\\displaystyle \\left[\\begin{matrix}\\left[\\begin{matrix}y & 2\\\\2 x y & 4 x\\\\y^{2} & 2\\end{matrix}\\right]\\\\\\left[\\begin{matrix}x & 1\\\\x^{2} & 1\\\\2 x y & 2 y\\end{matrix}\\right]\\end{matrix}\\right]$"
      ],
      "text/plain": [
       "[[[[y, 2], [2*x*y, 4*x], [y**2, 2]]], [[[x, 1], [x**2, 1], [2*x*y, 2*y]]]]"
      ]
     },
     "execution_count": 33,
     "metadata": {},
     "output_type": "execute_result"
    }
   ],
   "source": [
    "diff(Y.T, X)"
   ]
  },
  {
   "cell_type": "markdown",
   "id": "7dd9214e-f27f-460e-9882-abbeb2768bff",
   "metadata": {},
   "source": [
    "## 矩阵对矩阵求导\n",
    "\n",
    "$\\textbf X$： m \\* n = 2 \\* 3 维\n",
    "\n",
    "$\\textbf Y$： p \\* q = 2 \\* 3 维\n",
    "\n",
    "按照 SymPy 的默认混合布局：\n",
    "\n",
    "首先会对分母进行展开\n",
    "\n",
    "$\\dfrac{\\partial\\textbf Y}{\\partial\\textbf X}$ 为 m * n = 2 * 3 维矩阵 （标量-矩阵，分母布局）\n",
    "\n",
    "然后再对分子进行展开\n",
    "\n",
    "$\\dfrac{\\partial\\textbf Y}{\\partial x_{ij}}$ 为 p * q = 2 * 3 维矩阵 （矩阵-标量，分子布局）\n",
    "\n",
    "$\\dfrac{\\partial\\textbf Y}{\\partial\\textbf X}\n",
    "= \n",
    "\\begin{bmatrix} \n",
    "  \\dfrac{\\partial\\textbf Y}{\\partial x_{11}} & \\cdots & \\dfrac{\\partial\\textbf Y}{\\partial x_{1n}} \n",
    "  \\\\ \n",
    "  \\cdots \n",
    "  \\\\ \n",
    "  \\dfrac{\\partial\\textbf Y}{\\partial x_{m1}} & \\cdots & \\dfrac{\\partial\\textbf Y}{\\partial\\textbf x_{mn}} \n",
    "\\end{bmatrix}\n",
    "= \n",
    "\\begin{bmatrix} \n",
    "  \\begin{bmatrix}\n",
    "    \\dfrac{\\partial y_{11}}{\\partial x_{11}}\n",
    "      & \\cdots &\n",
    "    \\dfrac{\\partial y_{11}}{\\partial x_{1n}}\n",
    "    \\\\\n",
    "    \\cdots\n",
    "    \\\\\n",
    "    \\dfrac{\\partial y_{11}}{\\partial x_{m1}}\n",
    "      & \\cdots &\n",
    "    \\dfrac{\\partial y_{11}}{\\partial x_{mn}}\n",
    "  \\end{bmatrix} \n",
    "  & \\cdots \n",
    "  & \\begin{bmatrix}\n",
    "    \\dfrac{\\partial y_{1q}}{\\partial x_{11}}\n",
    "      & \\cdots &\n",
    "    \\dfrac{\\partial y_{1q}}{\\partial x_{1n}}\n",
    "    \\\\\n",
    "    \\cdots\n",
    "    \\\\\n",
    "    \\dfrac{\\partial y_{1q}}{\\partial x_{m1}}\n",
    "      & \\cdots &\n",
    "    \\dfrac{\\partial y_{1q}}{\\partial x_{mn}}\n",
    "  \\end{bmatrix} \n",
    "  \\\\ \n",
    "  \\cdots \n",
    "  \\\\ \n",
    "  \\begin{bmatrix}\n",
    "    \\dfrac{\\partial y_{p1}}{\\partial x_{11}}\n",
    "      & \\cdots &\n",
    "    \\dfrac{\\partial y_{p1}}{\\partial x_{1n}}\n",
    "    \\\\\n",
    "    \\cdots\n",
    "    \\\\\n",
    "    \\dfrac{\\partial y_{p1}}{\\partial x_{m1}}\n",
    "      & \\cdots &\n",
    "    \\dfrac{\\partial y_{p1}}{\\partial x_{mn}}\n",
    "  \\end{bmatrix} \n",
    "  & \\cdots \n",
    "  & \\begin{bmatrix}\n",
    "    \\dfrac{\\partial y_{pq}}{\\partial x_{11}}\n",
    "      & \\cdots &\n",
    "    \\dfrac{\\partial y_{pq}}{\\partial x_{1n}}\n",
    "    \\\\\n",
    "    \\cdots\n",
    "    \\\\\n",
    "    \\dfrac{\\partial y_{pq}}{\\partial x_{m1}}\n",
    "      & \\cdots &\n",
    "    \\dfrac{\\partial y_{pq}}{\\partial x_{mn}}\n",
    "  \\end{bmatrix} \n",
    "\\end{bmatrix}\n",
    "$"
   ]
  },
  {
   "cell_type": "code",
   "execution_count": 34,
   "id": "745c5faf-0683-48b6-a4b0-2394ec1d0a31",
   "metadata": {},
   "outputs": [
    {
     "data": {
      "text/latex": [
       "$\\displaystyle \\left[\\begin{matrix}x & y & z\\\\y & z & x\\end{matrix}\\right]$"
      ],
      "text/plain": [
       "Matrix([\n",
       "[x, y, z],\n",
       "[y, z, x]])"
      ]
     },
     "metadata": {},
     "output_type": "display_data"
    },
    {
     "data": {
      "text/latex": [
       "$\\displaystyle \\left[\\begin{matrix}2 x + y + z & x + 2 y + z & x + y + 2 z\\\\x^{2} y z & x y^{2} z & x y z^{2}\\end{matrix}\\right]$"
      ],
      "text/plain": [
       "Matrix([\n",
       "[2*x + y + z, x + 2*y + z, x + y + 2*z],\n",
       "[   x**2*y*z,    x*y**2*z,    x*y*z**2]])"
      ]
     },
     "metadata": {},
     "output_type": "display_data"
    }
   ],
   "source": [
    "x, y, z, t = symbols('x y z t')\n",
    "X = Matrix([[x, y, z], [y, z, x]])\n",
    "Y = Matrix([[2*x+y+z, x+2*y+z, x+y+2*z], \n",
    "            [x**2*y*z, x*y**2*z, x*y*z**2]])\n",
    "display(X)\n",
    "display(Y)"
   ]
  },
  {
   "cell_type": "code",
   "execution_count": 35,
   "id": "e2f918c6-56cd-4c01-8fee-90a445d9e5c7",
   "metadata": {},
   "outputs": [
    {
     "data": {
      "text/latex": [
       "$\\displaystyle \\left[\\begin{matrix}\\left[\\begin{matrix}2 & 1 & 1\\\\2 x y z & y^{2} z & y z^{2}\\end{matrix}\\right] & \\left[\\begin{matrix}1 & 2 & 1\\\\x^{2} z & 2 x y z & x z^{2}\\end{matrix}\\right] & \\left[\\begin{matrix}1 & 1 & 2\\\\x^{2} y & x y^{2} & 2 x y z\\end{matrix}\\right]\\\\\\left[\\begin{matrix}1 & 2 & 1\\\\x^{2} z & 2 x y z & x z^{2}\\end{matrix}\\right] & \\left[\\begin{matrix}1 & 1 & 2\\\\x^{2} y & x y^{2} & 2 x y z\\end{matrix}\\right] & \\left[\\begin{matrix}2 & 1 & 1\\\\2 x y z & y^{2} z & y z^{2}\\end{matrix}\\right]\\end{matrix}\\right]$"
      ],
      "text/plain": [
       "[[[[2, 1, 1], [2*x*y*z, y**2*z, y*z**2]], [[1, 2, 1], [x**2*z, 2*x*y*z, x*z**2]], [[1, 1, 2], [x**2*y, x*y**2, 2*x*y*z]]], [[[1, 2, 1], [x**2*z, 2*x*y*z, x*z**2]], [[1, 1, 2], [x**2*y, x*y**2, 2*x*y*z]], [[2, 1, 1], [2*x*y*z, y**2*z, y*z**2]]]]"
      ]
     },
     "execution_count": 35,
     "metadata": {},
     "output_type": "execute_result"
    }
   ],
   "source": [
    "D = diff(Y, X)\n",
    "D"
   ]
  },
  {
   "cell_type": "code",
   "execution_count": 36,
   "id": "2c1b830a-760e-471d-b60b-e5ff21d63bc2",
   "metadata": {},
   "outputs": [
    {
     "data": {
      "text/plain": [
       "(2, 3, 2, 3)"
      ]
     },
     "execution_count": 36,
     "metadata": {},
     "output_type": "execute_result"
    }
   ],
   "source": [
    "D.shape"
   ]
  },
  {
   "cell_type": "code",
   "execution_count": 37,
   "id": "a1ccbffc-f79f-4e32-a44f-2f216931980c",
   "metadata": {},
   "outputs": [
    {
     "data": {
      "text/latex": [
       "$\\displaystyle \\left[\\begin{matrix}2 & 1 & 1 & 1 & 2 & 1 & 1 & 1 & 2\\\\2 x y z & y^{2} z & y z^{2} & x^{2} z & 2 x y z & x z^{2} & x^{2} y & x y^{2} & 2 x y z\\\\1 & 2 & 1 & 1 & 1 & 2 & 2 & 1 & 1\\\\x^{2} z & 2 x y z & x z^{2} & x^{2} y & x y^{2} & 2 x y z & 2 x y z & y^{2} z & y z^{2}\\end{matrix}\\right]$"
      ],
      "text/plain": [
       "Matrix([\n",
       "[      2,       1,      1,      1,       2,       1,       1,      1,       2],\n",
       "[2*x*y*z,  y**2*z, y*z**2, x**2*z, 2*x*y*z,  x*z**2,  x**2*y, x*y**2, 2*x*y*z],\n",
       "[      1,       2,      1,      1,       1,       2,       2,      1,       1],\n",
       "[ x**2*z, 2*x*y*z, x*z**2, x**2*y,  x*y**2, 2*x*y*z, 2*x*y*z, y**2*z,  y*z**2]])"
      ]
     },
     "execution_count": 37,
     "metadata": {},
     "output_type": "execute_result"
    }
   ],
   "source": [
    "M = zeros(4, 9)\n",
    "for i in range(2):\n",
    "    for j in range(3):\n",
    "        for k in range(2):\n",
    "            for l in range(3):\n",
    "                M[i*18+ j*3+ k*9 + l] = D[i][j][k][l]           \n",
    "M"
   ]
  },
  {
   "cell_type": "markdown",
   "id": "1c8e4c96-3fba-46cc-b8da-0a8bd1aaee0a",
   "metadata": {},
   "source": [
    "### 转为分子布局\n",
    "\n",
    "如果统一按照分子布局，则需要使用 $\\textbf X$ 的转置来计算：\n",
    "\n",
    "$\\dfrac{\\partial\\textbf Y}{\\partial\\textbf X^T}$ 为 n * m = 3 * 2 维矩阵 （标量-矩阵，分子布局）\n",
    "\n",
    "$\\dfrac{\\partial\\textbf Y}{\\partial x_{ji}}$ 为 p * q = 2 * 3 维矩阵 （矩阵-标量，分子布局）"
   ]
  },
  {
   "cell_type": "code",
   "execution_count": 38,
   "id": "a22d99a0-cd18-4b92-af18-03221bdd4350",
   "metadata": {},
   "outputs": [
    {
     "data": {
      "text/latex": [
       "$\\displaystyle \\left[\\begin{matrix}\\left[\\begin{matrix}2 & 1 & 1\\\\2 x y z & y^{2} z & y z^{2}\\end{matrix}\\right] & \\left[\\begin{matrix}1 & 2 & 1\\\\x^{2} z & 2 x y z & x z^{2}\\end{matrix}\\right]\\\\\\left[\\begin{matrix}1 & 2 & 1\\\\x^{2} z & 2 x y z & x z^{2}\\end{matrix}\\right] & \\left[\\begin{matrix}1 & 1 & 2\\\\x^{2} y & x y^{2} & 2 x y z\\end{matrix}\\right]\\\\\\left[\\begin{matrix}1 & 1 & 2\\\\x^{2} y & x y^{2} & 2 x y z\\end{matrix}\\right] & \\left[\\begin{matrix}2 & 1 & 1\\\\2 x y z & y^{2} z & y z^{2}\\end{matrix}\\right]\\end{matrix}\\right]$"
      ],
      "text/plain": [
       "[[[[2, 1, 1], [2*x*y*z, y**2*z, y*z**2]], [[1, 2, 1], [x**2*z, 2*x*y*z, x*z**2]]], [[[1, 2, 1], [x**2*z, 2*x*y*z, x*z**2]], [[1, 1, 2], [x**2*y, x*y**2, 2*x*y*z]]], [[[1, 1, 2], [x**2*y, x*y**2, 2*x*y*z]], [[2, 1, 1], [2*x*y*z, y**2*z, y*z**2]]]]"
      ]
     },
     "execution_count": 38,
     "metadata": {},
     "output_type": "execute_result"
    }
   ],
   "source": [
    "diff(Y, X.T)"
   ]
  },
  {
   "cell_type": "markdown",
   "id": "4b93aa97-714a-42f8-a37d-a72b6c393bfb",
   "metadata": {},
   "source": [
    "### 转为分母布局\n",
    "\n",
    "如果统一按照分母布局，则需要使用 $\\textbf Y$ 的转置来计算：\n",
    "\n",
    "$\\dfrac{\\partial\\textbf Y^T}{\\partial\\textbf X}$ 为 m * n = 2 * 3 维矩阵 （标量-矩阵，分母布局）\n",
    "\n",
    "$\\dfrac{\\partial\\textbf Y^T}{\\partial x_{ij}}$ 为 q * p = 3 * 2 维矩阵 （矩阵-标量，分母布局）"
   ]
  },
  {
   "cell_type": "code",
   "execution_count": 39,
   "id": "fbeed127-d5e6-4db2-990c-08dfdea2d57a",
   "metadata": {},
   "outputs": [
    {
     "data": {
      "text/latex": [
       "$\\displaystyle \\left[\\begin{matrix}\\left[\\begin{matrix}2 & 2 x y z\\\\1 & y^{2} z\\\\1 & y z^{2}\\end{matrix}\\right] & \\left[\\begin{matrix}1 & x^{2} z\\\\2 & 2 x y z\\\\1 & x z^{2}\\end{matrix}\\right] & \\left[\\begin{matrix}1 & x^{2} y\\\\1 & x y^{2}\\\\2 & 2 x y z\\end{matrix}\\right]\\\\\\left[\\begin{matrix}1 & x^{2} z\\\\2 & 2 x y z\\\\1 & x z^{2}\\end{matrix}\\right] & \\left[\\begin{matrix}1 & x^{2} y\\\\1 & x y^{2}\\\\2 & 2 x y z\\end{matrix}\\right] & \\left[\\begin{matrix}2 & 2 x y z\\\\1 & y^{2} z\\\\1 & y z^{2}\\end{matrix}\\right]\\end{matrix}\\right]$"
      ],
      "text/plain": [
       "[[[[2, 2*x*y*z], [1, y**2*z], [1, y*z**2]], [[1, x**2*z], [2, 2*x*y*z], [1, x*z**2]], [[1, x**2*y], [1, x*y**2], [2, 2*x*y*z]]], [[[1, x**2*z], [2, 2*x*y*z], [1, x*z**2]], [[1, x**2*y], [1, x*y**2], [2, 2*x*y*z]], [[2, 2*x*y*z], [1, y**2*z], [1, y*z**2]]]]"
      ]
     },
     "execution_count": 39,
     "metadata": {},
     "output_type": "execute_result"
    }
   ],
   "source": [
    "diff(Y.T, X)"
   ]
  }
 ],
 "metadata": {
  "kernelspec": {
   "display_name": "Python 3 (ipykernel)",
   "language": "python",
   "name": "python3"
  },
  "language_info": {
   "codemirror_mode": {
    "name": "ipython",
    "version": 3
   },
   "file_extension": ".py",
   "mimetype": "text/x-python",
   "name": "python",
   "nbconvert_exporter": "python",
   "pygments_lexer": "ipython3",
   "version": "3.9.13"
  },
  "toc-autonumbering": true,
  "toc-showcode": false,
  "toc-showmarkdowntxt": false
 },
 "nbformat": 4,
 "nbformat_minor": 5
}
