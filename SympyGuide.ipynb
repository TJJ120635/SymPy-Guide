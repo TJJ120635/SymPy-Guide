{
 "cells": [
  {
   "cell_type": "markdown",
   "id": "b52dfd02-edc5-4773-90ef-161747fe30b0",
   "metadata": {},
   "source": [
    "# 引入"
   ]
  },
  {
   "cell_type": "markdown",
   "id": "f5a90ae2-15d6-466e-a23e-745d8ce09666",
   "metadata": {},
   "source": [
    "本文档在快速上手文档的基础上，对 SymPy 库中各个模块的使用进行进一步的介绍\n",
    "\n",
    "首先是 SymPy 模块的引入，有两种方式可以选择\n",
    "\n",
    "为了简洁，下面将采用 `from sympy import *` 的方式，省略方法前面的 sympy."
   ]
  },
  {
   "cell_type": "code",
   "execution_count": 1,
   "id": "63a372d7-8d41-4294-a0b2-fbaf08b67b00",
   "metadata": {},
   "outputs": [],
   "source": [
    "import sympy\n",
    "from sympy import *"
   ]
  },
  {
   "cell_type": "markdown",
   "id": "60e98753-695d-4319-8b34-d60cc4250ac4",
   "metadata": {},
   "source": [
    "在使用 SymPy 前，建议用 `init_printing` 来进行输出的初始化\n",
    "\n",
    "该方法会根据当前的系统来自动选择数学符号的输出方式\n",
    "\n",
    "SymPy 对 IPython Notebook 有较好的输出适配，可以搭配 `display` 进行打印"
   ]
  },
  {
   "cell_type": "code",
   "execution_count": 2,
   "id": "09f92a12-a708-43b4-aec2-1ab58b7122d8",
   "metadata": {},
   "outputs": [],
   "source": [
    "init_printing()\n",
    "from IPython.display import display"
   ]
  },
  {
   "cell_type": "markdown",
   "id": "81a5bb33-0f54-4ac8-bbec-e28dfd5f6e1d",
   "metadata": {},
   "source": [
    "以 $\\int \\pi dx$ 为例\n",
    "\n",
    "`print` 只能以普通字符方式来打印结果，无法展示特殊符号\n",
    "\n",
    "`sympy.pprint` 会以 Unicode 字符的方式打印，相比 print 更直观\n",
    "\n",
    "`IPython.display.display` 则会以更美观的方式打印公式，最适合阅读"
   ]
  },
  {
   "cell_type": "code",
   "execution_count": 3,
   "id": "04ad59d6-3a1c-40fc-b534-9074505469b8",
   "metadata": {},
   "outputs": [
    {
     "name": "stdout",
     "output_type": "stream",
     "text": [
      "Integral(pi, x)\n",
      "⌠     \n",
      "⎮ π dx\n",
      "⌡     \n"
     ]
    },
    {
     "data": {
      "image/png": "[encoded data removed]",
      "text/latex": [
       "$\\displaystyle \\int \\pi\\, dx$"
      ],
      "text/plain": [
       "⌠     \n",
       "⎮ π dx\n",
       "⌡     "
      ]
     },
     "metadata": {},
     "output_type": "display_data"
    }
   ],
   "source": [
    "x = Symbol('x')\n",
    "\n",
    "print(Integral(pi, x))\n",
    "pprint(Integral(pi, x))\n",
    "display(Integral(pi, x))"
   ]
  },
  {
   "cell_type": "markdown",
   "id": "f86ee424-9ce7-418d-a317-1aa30d27d8b7",
   "metadata": {},
   "source": [
    "# 符号"
   ]
  },
  {
   "cell_type": "markdown",
   "id": "0caffa31-7537-4054-9cbc-bf03fb1ee94c",
   "metadata": {},
   "source": [
    "## 基本符号\n",
    "\n",
    "使用 `symbols` 引入基本的英文字母和希腊字母\n",
    "\n",
    "由于 `lambda` 函数是 Python 的保留字，因此引入希腊字母 $\\lambda$ 需要使用 `lamda`"
   ]
  },
  {
   "cell_type": "code",
   "execution_count": 3,
   "id": "cc8d4695-28d0-490d-9e7d-2daa3331c144",
   "metadata": {},
   "outputs": [],
   "source": [
    "a, b, x, y = symbols('a b x y')\n",
    "alpha, beta, lamda = symbols('alpha beta lamda')"
   ]
  },
  {
   "cell_type": "markdown",
   "id": "03041488-f645-4689-8d70-2603ee9f4ed5",
   "metadata": {},
   "source": [
    "变量与符号按照声明顺序一一对应，变量名和符号名可以不一致\n",
    "\n",
    "例如将 symC 声明为符号 d，将 symD 声明为符号 c\n",
    "\n",
    "也可以用多个字母作为一个符号名"
   ]
  },
  {
   "cell_type": "code",
   "execution_count": 5,
   "id": "bb1f2084-1d2f-4e0a-8938-721693469ae6",
   "metadata": {},
   "outputs": [
    {
     "data": {
      "image/png": "[encoded data removed]",
      "text/latex": [
       "$\\displaystyle d$"
      ],
      "text/plain": [
       "d"
      ]
     },
     "metadata": {},
     "output_type": "display_data"
    },
    {
     "data": {
      "image/png": "[encoded data removed]",
      "text/latex": [
       "$\\displaystyle c$"
      ],
      "text/plain": [
       "c"
      ]
     },
     "metadata": {},
     "output_type": "display_data"
    },
    {
     "data": {
      "image/png": "[encoded data removed]",
      "text/latex": [
       "$\\displaystyle vMe_{50}$"
      ],
      "text/plain": [
       "vMe₅₀"
      ]
     },
     "metadata": {},
     "output_type": "display_data"
    }
   ],
   "source": [
    "symC, symD, KFC = symbols('d c vMe50')\n",
    "display(symC, symD, KFC)"
   ]
  },
  {
   "cell_type": "markdown",
   "id": "a474dd9d-e01c-4947-94e2-728a0a23d3f0",
   "metadata": {},
   "source": [
    "需要注意，表达式中使用的是符号本身，与变量无关\n",
    "\n",
    "如果赋值 x = 2，则变量 x 变成了 int 类型，而不是符号 x\n",
    "\n",
    "变量 x 的改变不会影响表达式中的符号 x"
   ]
  },
  {
   "cell_type": "code",
   "execution_count": 6,
   "id": "3ffbe648-da68-4e00-901b-ed9bf9be8d5d",
   "metadata": {},
   "outputs": [
    {
     "data": {
      "text/plain": [
       "sympy.core.symbol.Symbol"
      ]
     },
     "metadata": {},
     "output_type": "display_data"
    },
    {
     "data": {
      "text/plain": [
       "int"
      ]
     },
     "metadata": {},
     "output_type": "display_data"
    },
    {
     "data": {
      "image/png": "[encoded data removed]",
      "text/latex": [
       "$\\displaystyle x + 1$"
      ],
      "text/plain": [
       "x + 1"
      ]
     },
     "metadata": {},
     "output_type": "display_data"
    },
    {
     "data": {
      "text/plain": [
       "sympy.core.add.Add"
      ]
     },
     "metadata": {},
     "output_type": "display_data"
    }
   ],
   "source": [
    "x = symbols('x')\n",
    "expr = x + 1\n",
    "\n",
    "display(type(x))\n",
    "x = 2\n",
    "display(type(x))\n",
    "display(expr)\n",
    "display(type(expr))"
   ]
  },
  {
   "cell_type": "markdown",
   "id": "9fa55d03-746a-4027-9ab3-5ae8cb4452ca",
   "metadata": {},
   "source": [
    "## 特殊符号\n",
    "\n",
    "在 SymPy 的符号系统中有一些特殊符号可以直接使用，这里举一些常用的例子"
   ]
  },
  {
   "cell_type": "markdown",
   "id": "c8c7732f-0e61-4d01-affa-df2acb53d4d5",
   "metadata": {},
   "source": [
    "| 符号     | 示意 |\n",
    "| -------- | ---- |\n",
    "| sympy.I  | $i$  |\n",
    "| sympy.E  | $e$  |\n",
    "| sympy.oo | ∞    |\n",
    "| sympy.pi | $π$  |"
   ]
  },
  {
   "cell_type": "code",
   "execution_count": 8,
   "id": "a92fcf97-32b2-4de9-953a-5dcaddcade85",
   "metadata": {},
   "outputs": [
    {
     "data": {
      "image/png": "[encoded data removed]",
      "text/latex": [
       "$\\displaystyle \\left[ e, \\  i, \\  \\pi, \\  \\infty\\right]$"
      ],
      "text/plain": [
       "[ℯ, ⅈ, π, ∞]"
      ]
     },
     "metadata": {},
     "output_type": "display_data"
    }
   ],
   "source": [
    "display([E,I,pi,oo])"
   ]
  },
  {
   "cell_type": "markdown",
   "id": "17d79281-4d80-43b5-adc7-028fa26e504c",
   "metadata": {},
   "source": [
    "## 数组、上下标\n",
    "\n",
    "SymPy 还支持创建符号的数组，只需在数字处指定范围即可\n",
    "\n",
    "取某个元素时按照下标来选择"
   ]
  },
  {
   "cell_type": "code",
   "execution_count": 8,
   "id": "9f6e78a6-2cfc-4d49-a2dd-0ef9167630ad",
   "metadata": {},
   "outputs": [
    {
     "data": {
      "image/png": "[encoded data removed]",
      "text/latex": [
       "$\\displaystyle \\left( a_{0}, \\  a_{1}, \\  a_{2}, \\  a_{3}, \\  a_{4}\\right)$"
      ],
      "text/plain": [
       "(a₀, a₁, a₂, a₃, a₄)"
      ]
     },
     "metadata": {},
     "output_type": "display_data"
    },
    {
     "data": {
      "image/png": "[encoded data removed]",
      "text/latex": [
       "$\\displaystyle a_{1}$"
      ],
      "text/plain": [
       "a₁"
      ]
     },
     "metadata": {},
     "output_type": "display_data"
    }
   ],
   "source": [
    "a = symbols('a_0:5')\n",
    "display(a)\n",
    "display(a[1])"
   ]
  },
  {
   "cell_type": "markdown",
   "id": "d3f1b384-7b5e-46ad-97ff-f572569f52ae",
   "metadata": {},
   "source": [
    "使用 `_` 和 `^` 为符号添加上下标"
   ]
  },
  {
   "cell_type": "code",
   "execution_count": 9,
   "id": "a49a1487-c5ab-4d12-9a73-9aca9b92d1f3",
   "metadata": {},
   "outputs": [
    {
     "data": {
      "image/png": "[encoded data removed]",
      "text/latex": [
       "$\\displaystyle \\left( x^{(i)}_{0}, \\  x^{(i)}_{1}, \\  x^{(i)}_{2}\\right)$"
      ],
      "text/plain": [
       "(x⁽ⁱ⁾₀, x⁽ⁱ⁾₁, x⁽ⁱ⁾₂)"
      ]
     },
     "execution_count": 9,
     "metadata": {},
     "output_type": "execute_result"
    }
   ],
   "source": [
    "symbols('x_0:3^(i)')"
   ]
  },
  {
   "cell_type": "markdown",
   "id": "78fb1998-678d-49bc-8335-d2c4a9437f11",
   "metadata": {},
   "source": [
    "## 指定范围\n",
    "\n",
    "符号能够指定取值范围，满足不同表达式和计算的要求\n",
    "\n",
    "常用的有正数、实数、整数、非零四种指定类型"
   ]
  },
  {
   "cell_type": "code",
   "execution_count": 10,
   "id": "f137bf15-7e9f-4924-a01e-3ade5847a19e",
   "metadata": {},
   "outputs": [
    {
     "data": {
      "image/png": "[encoded data removed]",
      "text/latex": [
       "$\\displaystyle b$"
      ],
      "text/plain": [
       "b"
      ]
     },
     "execution_count": 10,
     "metadata": {},
     "output_type": "execute_result"
    }
   ],
   "source": [
    "symbols('x', positive = True)\n",
    "symbols('y', real = True)\n",
    "symbols('a', integer = True)\n",
    "symbols('b', nonzero = True)"
   ]
  },
  {
   "cell_type": "markdown",
   "id": "b5c7d554-8115-4262-8a4e-198e4024e8d5",
   "metadata": {},
   "source": [
    "## 符号替换"
   ]
  },
  {
   "cell_type": "markdown",
   "id": "e78c3e5d-8d3d-4dc8-819a-7c6904d873ab",
   "metadata": {},
   "source": [
    "`subs` 将符号替换为其他符号、表达式或数值\n",
    "\n",
    "`subs(*args, **kwargs)`\n",
    "\n",
    "- `*args` 替换的表达式，可以使用 `old, new` 或 `{old:new, old:new}` 或 `[(old,new), (old,new)]` 等形式\n",
    "    \n",
    "替换的 old 可以是符号或者表达式，new 可以是符号、表达式或者数值"
   ]
  },
  {
   "cell_type": "code",
   "execution_count": 11,
   "id": "aea002dd-5451-4a9c-8a9c-f0b74dde72cb",
   "metadata": {},
   "outputs": [
    {
     "data": {
      "image/png": "[encoded data removed]",
      "text/latex": [
       "$\\displaystyle x y + 1$"
      ],
      "text/plain": [
       "x⋅y + 1"
      ]
     },
     "metadata": {},
     "output_type": "display_data"
    },
    {
     "data": {
      "image/png": "[encoded data removed]",
      "text/latex": [
       "$\\displaystyle \\pi y + 1$"
      ],
      "text/plain": [
       "π⋅y + 1"
      ]
     },
     "metadata": {},
     "output_type": "display_data"
    },
    {
     "data": {
      "image/png": "[encoded data removed]",
      "text/latex": [
       "$\\displaystyle 1 + 2 \\pi$"
      ],
      "text/plain": [
       "1 + 2⋅π"
      ]
     },
     "metadata": {},
     "output_type": "display_data"
    },
    {
     "data": {
      "image/png": "[encoded data removed]",
      "text/latex": [
       "$\\displaystyle 1 + 2 \\pi$"
      ],
      "text/plain": [
       "1 + 2⋅π"
      ]
     },
     "metadata": {},
     "output_type": "display_data"
    }
   ],
   "source": [
    "x, y = symbols('x y')\n",
    "expr = 1 + x*y\n",
    "display(expr)\n",
    "display(expr.subs(x, pi))\n",
    "display(expr.subs({x:pi, y:2}))\n",
    "display(expr.subs([(x, pi), (y, 2)]))"
   ]
  },
  {
   "cell_type": "code",
   "execution_count": 12,
   "id": "474f886e-e5ce-4e4a-bc99-61fceb669807",
   "metadata": {},
   "outputs": [],
   "source": [
    "a, b, x, y = symbols('a b x y')"
   ]
  },
  {
   "cell_type": "markdown",
   "id": "edd2be9d-2f66-4617-bb13-a8f760d9ffaf",
   "metadata": {},
   "source": [
    "# 表达式"
   ]
  },
  {
   "cell_type": "markdown",
   "id": "6c9e1085-613f-40e6-bb61-14b30205eaa3",
   "metadata": {},
   "source": [
    "## 通用化简和输出方法\n",
    "\n",
    "SymPy 提供了对各类型通用的 `simplify` 方法，能够将表达式进行自动化简"
   ]
  },
  {
   "cell_type": "code",
   "execution_count": 13,
   "id": "b3975b40-3974-4265-9068-7cc68195fe7d",
   "metadata": {},
   "outputs": [
    {
     "data": {
      "image/png": "[encoded data removed]",
      "text/latex": [
       "$\\displaystyle \\sin^{2}{\\left(x \\right)} + \\cos^{2}{\\left(x \\right)}$"
      ],
      "text/plain": [
       "   2         2   \n",
       "sin (x) + cos (x)"
      ]
     },
     "metadata": {},
     "output_type": "display_data"
    },
    {
     "data": {
      "image/png": "[encoded data removed]",
      "text/latex": [
       "$\\displaystyle 1$"
      ],
      "text/plain": [
       "1"
      ]
     },
     "metadata": {},
     "output_type": "display_data"
    }
   ],
   "source": [
    "display(sin(x)**2 + cos(x)**2)\n",
    "display(simplify(sin(x)**2 + cos(x)**2))"
   ]
  },
  {
   "cell_type": "code",
   "execution_count": 14,
   "id": "5d62a3ae-1806-4e97-9dea-b0742ae670be",
   "metadata": {},
   "outputs": [
    {
     "data": {
      "image/png": "[encoded data removed]",
      "text/latex": [
       "$\\displaystyle \\frac{x^{3} + x^{2} - x - 1}{x^{2} + 2 x + 1}$"
      ],
      "text/plain": [
       " 3    2        \n",
       "x  + x  - x - 1\n",
       "───────────────\n",
       "   2           \n",
       "  x  + 2⋅x + 1 "
      ]
     },
     "metadata": {},
     "output_type": "display_data"
    },
    {
     "data": {
      "image/png": "[encoded data removed]",
      "text/latex": [
       "$\\displaystyle x - 1$"
      ],
      "text/plain": [
       "x - 1"
      ]
     },
     "metadata": {},
     "output_type": "display_data"
    }
   ],
   "source": [
    "display((x**3 + x**2 - x - 1)/(x**2 + 2*x + 1))\n",
    "display(simplify((x**3 + x**2 - x - 1)/(x**2 + 2*x + 1)))"
   ]
  },
  {
   "cell_type": "markdown",
   "id": "487cf8c5-aa21-4fd0-bea4-2c0e9e723bac",
   "metadata": {},
   "source": [
    "另外，可以使用 `latex` 方法，将输出转化成 Latex 数学公式格式，方便导入文档中"
   ]
  },
  {
   "cell_type": "code",
   "execution_count": 15,
   "id": "eb4f01cd-ed55-4c8b-a82b-8aab39e7e641",
   "metadata": {},
   "outputs": [
    {
     "name": "stdout",
     "output_type": "stream",
     "text": [
      "$x^{2} + 2 x + \\sin^{2}{\\left(x \\right)}$\n"
     ]
    }
   ],
   "source": [
    "print('$'+latex(x**2 + 2*x + sin(x)**2)+'$')"
   ]
  },
  {
   "cell_type": "markdown",
   "id": "3ba54a47-7c47-4eb0-b380-1748d28e2e08",
   "metadata": {},
   "source": [
    "将输出的 Latex 格式复制到文档中即可显示\n",
    "\n",
    "$x^{2} + 2 x + \\sin^{2}{\\left(x \\right)}$"
   ]
  },
  {
   "cell_type": "markdown",
   "id": "f46306da-e377-417f-b8cf-b78b7ae62658",
   "metadata": {},
   "source": [
    "`simplify` 会自动地选择合适的形式，但它的缺点第一是速度较慢，第二是我们无法指定化简的形式，例如多项式的因式分解等\n",
    "\n",
    "因此对于每一种表达式我们可以使用具体的变形方法"
   ]
  },
  {
   "cell_type": "markdown",
   "id": "46e28bf6-570d-4aad-aec6-3dd302674f1f",
   "metadata": {},
   "source": [
    "## 多项式/有理函数\n",
    "\n",
    "SymPy 支持整式和分式的多种操作。下面就先从多项式开始介绍，然后再介绍分式\n",
    "\n",
    "直接声明一个表达式变量名并赋值，等号的右边直接书写表达式，其中幂以 `**` 书写，而非 `^`\n",
    "\n",
    "也可以在方法中直接书写表达式，而不需要命名变量"
   ]
  },
  {
   "cell_type": "code",
   "execution_count": 16,
   "id": "666e3ebd-0105-460a-b477-ae71f080bba0",
   "metadata": {},
   "outputs": [
    {
     "data": {
      "image/png": "[encoded data removed]",
      "text/latex": [
       "$\\displaystyle \\left(x + 1\\right)^{2}$"
      ],
      "text/plain": [
       "       2\n",
       "(x + 1) "
      ]
     },
     "execution_count": 16,
     "metadata": {},
     "output_type": "execute_result"
    }
   ],
   "source": [
    "x, y, z = symbols('x y z')\n",
    "expr = (x + 1)**2\n",
    "expr"
   ]
  },
  {
   "cell_type": "markdown",
   "id": "bf387e4a-1cff-4d84-8667-e05252b0a204",
   "metadata": {},
   "source": [
    "### 展开\n",
    "\n",
    "`expand` 展开表达式"
   ]
  },
  {
   "cell_type": "code",
   "execution_count": 17,
   "id": "3fcd0e58-f068-4a00-81ac-c0629c1ca91f",
   "metadata": {},
   "outputs": [
    {
     "data": {
      "image/png": "[encoded data removed]",
      "text/latex": [
       "$\\displaystyle x^{2} + 2 x + 1$"
      ],
      "text/plain": [
       " 2          \n",
       "x  + 2⋅x + 1"
      ]
     },
     "execution_count": 17,
     "metadata": {},
     "output_type": "execute_result"
    }
   ],
   "source": [
    "expand(expr)"
   ]
  },
  {
   "cell_type": "markdown",
   "id": "3c8f5f78-f242-42d2-8943-30768dc6caa0",
   "metadata": {},
   "source": [
    "### 因式分解\n",
    "`factor` 进行因式分解"
   ]
  },
  {
   "cell_type": "code",
   "execution_count": 18,
   "id": "b565e34f-7d21-4b74-a96b-69214c229a52",
   "metadata": {},
   "outputs": [
    {
     "data": {
      "image/png": "[encoded data removed]",
      "text/latex": [
       "$\\displaystyle x^{3} - x^{2} + x - 1$"
      ],
      "text/plain": [
       " 3    2        \n",
       "x  - x  + x - 1"
      ]
     },
     "metadata": {},
     "output_type": "display_data"
    },
    {
     "data": {
      "image/png": "[encoded data removed]",
      "text/latex": [
       "$\\displaystyle \\left(x - 1\\right) \\left(x^{2} + 1\\right)$"
      ],
      "text/plain": [
       "        ⎛ 2    ⎞\n",
       "(x - 1)⋅⎝x  + 1⎠"
      ]
     },
     "metadata": {},
     "output_type": "display_data"
    }
   ],
   "source": [
    "display(x**3 - x**2 + x -1)\n",
    "display(factor(x**3 - x**2 + x -1))"
   ]
  },
  {
   "cell_type": "markdown",
   "id": "7ed95a7c-3824-4d18-bea3-d7c90ccbc4d1",
   "metadata": {},
   "source": [
    "### 指定符号的幂\n",
    "\n",
    "`collect` 将表达式整理成指定符号的幂的形式，对于多变量的表达式很有用\n",
    "\n",
    "`collect(expr, syms, func=None, evaluate=None, ...)`\n",
    "- `expr` 进行整理的表达式\n",
    "- `syms` 指定的符号，使用 [x, y] 的形式指定多个符号，按顺序进行整理\n",
    "- `evaluate` None/True: 返回表达式形式，False: 返回字典形式"
   ]
  },
  {
   "cell_type": "code",
   "execution_count": 19,
   "id": "57c5b19a-27a8-4240-aad1-19dd3a2d0fd3",
   "metadata": {},
   "outputs": [
    {
     "data": {
      "image/png": "[encoded data removed]",
      "text/latex": [
       "$\\displaystyle x^{3} - x^{2} z + 2 x^{2} + x y + x - 3$"
      ],
      "text/plain": [
       " 3    2        2              \n",
       "x  - x ⋅z + 2⋅x  + x⋅y + x - 3"
      ]
     },
     "metadata": {},
     "output_type": "display_data"
    },
    {
     "data": {
      "image/png": "[encoded data removed]",
      "text/latex": [
       "$\\displaystyle x^{3} + x^{2} \\cdot \\left(2 - z\\right) + x \\left(y + 1\\right) - 3$"
      ],
      "text/plain": [
       " 3    2                        \n",
       "x  + x ⋅(2 - z) + x⋅(y + 1) - 3"
      ]
     },
     "metadata": {},
     "output_type": "display_data"
    },
    {
     "data": {
      "image/png": "[encoded data removed]",
      "text/latex": [
       "$\\displaystyle \\left\\{ 1 : -3, \\  x : y + 1, \\  x^{2} : 2 - z, \\  x^{3} : 1\\right\\}$"
      ],
      "text/plain": [
       "⎧                  2          3   ⎫\n",
       "⎨1: -3, x: y + 1, x : 2 - z, x : 1⎬\n",
       "⎩                                 ⎭"
      ]
     },
     "metadata": {},
     "output_type": "display_data"
    }
   ],
   "source": [
    "expr = x*y + x - 3 + 2*x**2 - z*x**2 + x**3\n",
    "display(expr)\n",
    "display(collect(expr, x))\n",
    "display(collect(expr, x, evaluate=False))"
   ]
  },
  {
   "cell_type": "markdown",
   "id": "c3302c34-e4dd-49d2-9688-f1d35101015b",
   "metadata": {},
   "source": [
    "`coeff` 提取相应变量或表达式的幂的系数"
   ]
  },
  {
   "cell_type": "code",
   "execution_count": 20,
   "id": "71195d66-e68c-4fc5-9343-2e0245575616",
   "metadata": {},
   "outputs": [
    {
     "data": {
      "image/png": "[encoded data removed]",
      "text/latex": [
       "$\\displaystyle 2 - z$"
      ],
      "text/plain": [
       "2 - z"
      ]
     },
     "metadata": {},
     "output_type": "display_data"
    },
    {
     "data": {
      "image/png": "[encoded data removed]",
      "text/latex": [
       "$\\displaystyle x$"
      ],
      "text/plain": [
       "x"
      ]
     },
     "metadata": {},
     "output_type": "display_data"
    }
   ],
   "source": [
    "display(expr.coeff(x, 2))\n",
    "display(expr.coeff(y, 1))"
   ]
  },
  {
   "cell_type": "markdown",
   "id": "ca6b0744-4a3a-4a73-92e2-0e7a0ab3b981",
   "metadata": {},
   "source": [
    "### 分式标准化\n",
    "\n",
    "接下来介绍分式相关的操作\n",
    "\n",
    "`cancel` 将有理函数整理成 p/q 的标准形式，并且约去分子分母的公因子"
   ]
  },
  {
   "cell_type": "code",
   "execution_count": 21,
   "id": "84b64cc0-9bbe-42e3-a8f8-921ed97ac470",
   "metadata": {},
   "outputs": [
    {
     "data": {
      "image/png": "[encoded data removed]",
      "text/latex": [
       "$\\displaystyle \\frac{x^{2} + 3 x + 2}{x^{2} + x}$"
      ],
      "text/plain": [
       " 2          \n",
       "x  + 3⋅x + 2\n",
       "────────────\n",
       "    2       \n",
       "   x  + x   "
      ]
     },
     "metadata": {},
     "output_type": "display_data"
    },
    {
     "data": {
      "image/png": "[encoded data removed]",
      "text/latex": [
       "$\\displaystyle \\frac{x + 2}{x}$"
      ],
      "text/plain": [
       "x + 2\n",
       "─────\n",
       "  x  "
      ]
     },
     "metadata": {},
     "output_type": "display_data"
    }
   ],
   "source": [
    "display((x**2 + 3*x + 2)/(x**2 + x))\n",
    "display(cancel((x**2 + 3*x + 2)/(x**2 + x)))"
   ]
  },
  {
   "cell_type": "code",
   "execution_count": 22,
   "id": "78fcd8c7-bbae-40b9-9118-379d0fc696bb",
   "metadata": {},
   "outputs": [
    {
     "data": {
      "image/png": "[encoded data removed]",
      "text/latex": [
       "$\\displaystyle \\frac{\\frac{3 x}{2} - 2}{x - 4} + \\frac{1}{x}$"
      ],
      "text/plain": [
       "3⋅x        \n",
       "─── - 2    \n",
       " 2        1\n",
       "─────── + ─\n",
       " x - 4    x"
      ]
     },
     "metadata": {},
     "output_type": "display_data"
    },
    {
     "data": {
      "image/png": "[encoded data removed]",
      "text/latex": [
       "$\\displaystyle \\frac{3 x^{2} - 2 x - 8}{2 x^{2} - 8 x}$"
      ],
      "text/plain": [
       "   2          \n",
       "3⋅x  - 2⋅x - 8\n",
       "──────────────\n",
       "     2        \n",
       "  2⋅x  - 8⋅x  "
      ]
     },
     "metadata": {},
     "output_type": "display_data"
    }
   ],
   "source": [
    "expr = 1/x + (3*x/2 - 2)/(x - 4)\n",
    "display(expr)\n",
    "display(cancel(expr))"
   ]
  },
  {
   "cell_type": "markdown",
   "id": "a705756d-66ab-4d68-86a6-8c12c0731061",
   "metadata": {},
   "source": [
    "### 分式分解\n",
    "\n",
    "对于分式也能使用 `factor`，将表达式进行因式分解"
   ]
  },
  {
   "cell_type": "code",
   "execution_count": 23,
   "id": "cf5fac04-4fbb-4da2-90ea-46b0a09c591a",
   "metadata": {},
   "outputs": [
    {
     "data": {
      "image/png": "[encoded data removed]",
      "text/latex": [
       "$\\displaystyle \\frac{\\left(x - 2\\right) \\left(3 x + 4\\right)}{2 x \\left(x - 4\\right)}$"
      ],
      "text/plain": [
       "(x - 2)⋅(3⋅x + 4)\n",
       "─────────────────\n",
       "   2⋅x⋅(x - 4)   "
      ]
     },
     "metadata": {},
     "output_type": "display_data"
    }
   ],
   "source": [
    "display(factor(expr))"
   ]
  },
  {
   "cell_type": "markdown",
   "id": "e0fe2b64-1ee9-4fc7-9742-417347258179",
   "metadata": {},
   "source": [
    "`apart` 按照分母的因式将表达式进行分解"
   ]
  },
  {
   "cell_type": "code",
   "execution_count": 24,
   "id": "02bd315d-9e51-443f-affe-4e67802fa950",
   "metadata": {},
   "outputs": [
    {
     "data": {
      "image/png": "[encoded data removed]",
      "text/latex": [
       "$\\displaystyle \\frac{3}{2} + \\frac{4}{x - 4} + \\frac{1}{x}$"
      ],
      "text/plain": [
       "3     4     1\n",
       "─ + ───── + ─\n",
       "2   x - 4   x"
      ]
     },
     "metadata": {},
     "output_type": "display_data"
    }
   ],
   "source": [
    "display(apart(expr))"
   ]
  },
  {
   "cell_type": "markdown",
   "id": "15ae6082-12e0-4026-bb55-4f75dbb2071d",
   "metadata": {},
   "source": [
    "## 三角函数"
   ]
  },
  {
   "cell_type": "markdown",
   "id": "bf5ee48d-1188-45ca-a49f-e2fdd554ed81",
   "metadata": {},
   "source": [
    "SymPy 支持三角函数和反三角函数，反三角函数只需要在前面加上 a 即可\n",
    "\n",
    "除此以外还支持双曲函数"
   ]
  },
  {
   "cell_type": "code",
   "execution_count": 25,
   "id": "6eaaad76-99d7-43db-b9a1-b163f8746216",
   "metadata": {},
   "outputs": [
    {
     "data": {
      "image/png": "[encoded data removed]",
      "text/latex": [
       "$\\displaystyle \\cos{\\left(x \\right)}$"
      ],
      "text/plain": [
       "cos(x)"
      ]
     },
     "metadata": {},
     "output_type": "display_data"
    },
    {
     "data": {
      "image/png": "[encoded data removed]",
      "text/latex": [
       "$\\displaystyle \\operatorname{acos}{\\left(x \\right)}$"
      ],
      "text/plain": [
       "acos(x)"
      ]
     },
     "metadata": {},
     "output_type": "display_data"
    },
    {
     "data": {
      "image/png": "[encoded data removed]",
      "text/latex": [
       "$\\displaystyle 1$"
      ],
      "text/plain": [
       "1"
      ]
     },
     "metadata": {},
     "output_type": "display_data"
    },
    {
     "data": {
      "image/png": "[encoded data removed]",
      "text/latex": [
       "$\\displaystyle \\frac{\\pi}{2}$"
      ],
      "text/plain": [
       "π\n",
       "─\n",
       "2"
      ]
     },
     "metadata": {},
     "output_type": "display_data"
    },
    {
     "data": {
      "image/png": "[encoded data removed]",
      "text/latex": [
       "$\\displaystyle \\sinh{\\left(x \\right)}$"
      ],
      "text/plain": [
       "sinh(x)"
      ]
     },
     "metadata": {},
     "output_type": "display_data"
    },
    {
     "data": {
      "image/png": "[encoded data removed]",
      "text/latex": [
       "$\\displaystyle \\tanh{\\left(x \\right)}$"
      ],
      "text/plain": [
       "tanh(x)"
      ]
     },
     "metadata": {},
     "output_type": "display_data"
    }
   ],
   "source": [
    "display(cos(x), acos(x), sin(pi/2), asin(1))\n",
    "display(sinh(x), tanh(x))"
   ]
  },
  {
   "cell_type": "markdown",
   "id": "cabd0bc2-65bc-44c5-8dbd-1910459a1277",
   "metadata": {},
   "source": [
    "`trigsimp` 化简三角函数，智能选择合适的形式\n",
    "\n",
    "与 `simplify` 类似，但是速度上会更快"
   ]
  },
  {
   "cell_type": "code",
   "execution_count": 26,
   "id": "66e09b05-3661-48b5-993b-bd4210985fa8",
   "metadata": {},
   "outputs": [
    {
     "data": {
      "image/png": "[encoded data removed]",
      "text/latex": [
       "$\\displaystyle \\frac{\\sin{\\left(x \\right)} \\tan{\\left(x \\right)}}{\\sec{\\left(x \\right)}}$"
      ],
      "text/plain": [
       "sin(x)⋅tan(x)\n",
       "─────────────\n",
       "    sec(x)   "
      ]
     },
     "metadata": {},
     "output_type": "display_data"
    },
    {
     "data": {
      "image/png": "[encoded data removed]",
      "text/latex": [
       "$\\displaystyle \\sin^{2}{\\left(x \\right)}$"
      ],
      "text/plain": [
       "   2   \n",
       "sin (x)"
      ]
     },
     "metadata": {},
     "output_type": "display_data"
    }
   ],
   "source": [
    "display(sin(x)*tan(x)/sec(x))\n",
    "display(trigsimp(sin(x)*tan(x)/sec(x)))"
   ]
  },
  {
   "cell_type": "code",
   "execution_count": 27,
   "id": "0087a9b8-2905-4bf5-8706-09ca4ffc4184",
   "metadata": {},
   "outputs": [
    {
     "data": {
      "image/png": "[encoded data removed]",
      "text/latex": [
       "$\\displaystyle \\sinh^{2}{\\left(x \\right)} + \\cosh^{2}{\\left(x \\right)}$"
      ],
      "text/plain": [
       "    2          2   \n",
       "sinh (x) + cosh (x)"
      ]
     },
     "metadata": {},
     "output_type": "display_data"
    },
    {
     "data": {
      "image/png": "[encoded data removed]",
      "text/latex": [
       "$\\displaystyle \\cosh{\\left(2 x \\right)}$"
      ],
      "text/plain": [
       "cosh(2⋅x)"
      ]
     },
     "metadata": {},
     "output_type": "display_data"
    }
   ],
   "source": [
    "display(cosh(x)**2 + sinh(x)**2)\n",
    "display(trigsimp(cosh(x)**2 + sinh(x)**2))"
   ]
  },
  {
   "cell_type": "markdown",
   "id": "b302f355-8010-4cb6-a9ce-23bf9b81d94d",
   "metadata": {},
   "source": [
    "`expand_trig` 展开三角函数，在括号中保留单个符号的一次幂形式"
   ]
  },
  {
   "cell_type": "code",
   "execution_count": 28,
   "id": "08c2e4a5-c2ff-4fee-8a74-59eeaace816f",
   "metadata": {},
   "outputs": [
    {
     "data": {
      "image/png": "[encoded data removed]",
      "text/latex": [
       "$\\displaystyle \\sin{\\left(x + y \\right)}$"
      ],
      "text/plain": [
       "sin(x + y)"
      ]
     },
     "metadata": {},
     "output_type": "display_data"
    },
    {
     "data": {
      "image/png": "[encoded data removed]",
      "text/latex": [
       "$\\displaystyle \\sin{\\left(x \\right)} \\cos{\\left(y \\right)} + \\sin{\\left(y \\right)} \\cos{\\left(x \\right)}$"
      ],
      "text/plain": [
       "sin(x)⋅cos(y) + sin(y)⋅cos(x)"
      ]
     },
     "metadata": {},
     "output_type": "display_data"
    }
   ],
   "source": [
    "display(sin(x+y))\n",
    "display(expand_trig(sin(x+y)))"
   ]
  },
  {
   "cell_type": "markdown",
   "id": "e613e570-8f44-43d3-86d4-ce14f556a07b",
   "metadata": {
    "tags": []
   },
   "source": [
    "## 幂函数和指数函数\n",
    "\n",
    "对于指数的化简有三种情况\n",
    "\n",
    "1. $x^ax^b=x^{a+b}$，恒成立\n",
    "\n",
    "2. $x^ay^a=(xy)^a$，仅限于 $x,y\\ge 0,a\\in R$，如 $(-1)^{1/2}(-1)^{1/2}\\ne (-1\\times -1)^{1/2}$\n",
    "\n",
    "3. $(x^a)^b=x^{ab}$，仅限于 $b\\in Z$，如 $((-1)^2)^{1/2}\\ne(-1)^{2\\times 1/2}$\n",
    "\n",
    "因此对于指数表达式，我们需要用到之前提到的指定符号的范围"
   ]
  },
  {
   "cell_type": "code",
   "execution_count": 29,
   "id": "4e5f6c68-d100-4bea-ad17-fb6c79dbaa92",
   "metadata": {},
   "outputs": [],
   "source": [
    "x, y, z = symbols('x y z', positive=True)\n",
    "x2, y2 = symbols('x y')\n",
    "a, b = symbols('a b', real=True)"
   ]
  },
  {
   "cell_type": "markdown",
   "id": "ea8d8359-8c95-4b3d-bd97-6ad8b8ebdc87",
   "metadata": {},
   "source": [
    "`powsimp` 化简指数表达式，智能选择合适的形式\n",
    "\n",
    "同样与 `simplify` 类似"
   ]
  },
  {
   "cell_type": "code",
   "execution_count": 30,
   "id": "be0f5770-078e-4006-acb3-907a3df3b73b",
   "metadata": {},
   "outputs": [
    {
     "data": {
      "image/png": "[encoded data removed]",
      "text/latex": [
       "$\\displaystyle x^{a} x^{b} + x^{z} y^{z}$"
      ],
      "text/plain": [
       " a  b    z  z\n",
       "x ⋅x  + x ⋅y "
      ]
     },
     "metadata": {},
     "output_type": "display_data"
    },
    {
     "data": {
      "image/png": "[encoded data removed]",
      "text/latex": [
       "$\\displaystyle x^{a + b} + \\left(x y\\right)^{z}$"
      ],
      "text/plain": [
       " a + b        z\n",
       "x      + (x⋅y) "
      ]
     },
     "metadata": {},
     "output_type": "display_data"
    }
   ],
   "source": [
    "display(x**a*x**b + x**z*y**z)\n",
    "display(powsimp(x**a*x**b + x**z*y**z))"
   ]
  },
  {
   "cell_type": "markdown",
   "id": "c5f702d4-d971-4f48-bb11-d27cfcae9b90",
   "metadata": {},
   "source": [
    "但是如果符号范围不成立，则无法进行化简（这里的 x2,y2 没有指定非负，不符合第 2 条变形）"
   ]
  },
  {
   "cell_type": "code",
   "execution_count": 31,
   "id": "9eeb9ee6-7370-4650-8472-c35822c625a0",
   "metadata": {},
   "outputs": [
    {
     "data": {
      "image/png": "[encoded data removed]",
      "text/latex": [
       "$\\displaystyle x^{a} y^{a}$"
      ],
      "text/plain": [
       " a  a\n",
       "x ⋅y "
      ]
     },
     "metadata": {},
     "output_type": "display_data"
    }
   ],
   "source": [
    "display(powsimp(x2**a*y2**a))"
   ]
  },
  {
   "cell_type": "markdown",
   "id": "11f956b1-d7ea-45d8-8372-749fd45adf20",
   "metadata": {},
   "source": [
    "指数有两种展开方式\n",
    "\n",
    "`expand_power_exp` 对次数进行展开，对应第 1 条变形的逆"
   ]
  },
  {
   "cell_type": "code",
   "execution_count": 32,
   "id": "bd977140-3a66-43c1-81f2-b0fdf714adf9",
   "metadata": {},
   "outputs": [
    {
     "data": {
      "image/png": "[encoded data removed]",
      "text/latex": [
       "$\\displaystyle x^{a + b}$"
      ],
      "text/plain": [
       " a + b\n",
       "x     "
      ]
     },
     "metadata": {},
     "output_type": "display_data"
    },
    {
     "data": {
      "image/png": "[encoded data removed]",
      "text/latex": [
       "$\\displaystyle x^{a} x^{b}$"
      ],
      "text/plain": [
       " a  b\n",
       "x ⋅x "
      ]
     },
     "metadata": {},
     "output_type": "display_data"
    }
   ],
   "source": [
    "display(x**(a+b))\n",
    "display(expand_power_exp(x**(a+b)))"
   ]
  },
  {
   "cell_type": "markdown",
   "id": "da8ae636-d875-4900-83ee-4052422004f9",
   "metadata": {},
   "source": [
    "`expand_power_base` 对基底进行展开，对应第 2 条变形的逆"
   ]
  },
  {
   "cell_type": "code",
   "execution_count": 33,
   "id": "4de5cbe9-3cef-4de4-8770-124ad8849100",
   "metadata": {},
   "outputs": [
    {
     "data": {
      "image/png": "[encoded data removed]",
      "text/latex": [
       "$\\displaystyle \\left(x y\\right)^{a}$"
      ],
      "text/plain": [
       "     a\n",
       "(x⋅y) "
      ]
     },
     "metadata": {},
     "output_type": "display_data"
    },
    {
     "data": {
      "image/png": "[encoded data removed]",
      "text/latex": [
       "$\\displaystyle x^{a} y^{a}$"
      ],
      "text/plain": [
       " a  a\n",
       "x ⋅y "
      ]
     },
     "metadata": {},
     "output_type": "display_data"
    }
   ],
   "source": [
    "display((x*y)**a)\n",
    "display(expand_power_base((x*y)**a))"
   ]
  },
  {
   "cell_type": "markdown",
   "id": "3f4bb88f-f504-4fbf-ae29-4147cedc5840",
   "metadata": {},
   "source": [
    "`powdenest` 对幂次数进行合并，对应第 3 条变形\n",
    "\n",
    "但是在 JupyterLab 的测试里第 3 条变形会自动应用，因此不需要额外使用 `powdenest` 方法"
   ]
  },
  {
   "cell_type": "code",
   "execution_count": 34,
   "id": "095fb6fa-62ed-430f-bc8e-4048ddb7b53a",
   "metadata": {},
   "outputs": [
    {
     "data": {
      "image/png": "[encoded data removed]",
      "text/latex": [
       "$\\displaystyle x^{a b}$"
      ],
      "text/plain": [
       " a⋅b\n",
       "x   "
      ]
     },
     "execution_count": 34,
     "metadata": {},
     "output_type": "execute_result"
    }
   ],
   "source": [
    "powdenest((x**a)**b)"
   ]
  },
  {
   "cell_type": "markdown",
   "id": "b90f2533-56ad-4e03-a75d-5f67d4796281",
   "metadata": {},
   "source": [
    "## 对数函数"
   ]
  },
  {
   "cell_type": "markdown",
   "id": "737d388b-9940-4af2-932b-236b3d50c9b1",
   "metadata": {},
   "source": [
    "对数的化简有两种形式\n",
    "\n",
    "1. $\\log(xy)=\\log(x)+\\log(y)$\n",
    "\n",
    "2. $\\log(x^n)=n\\log(x)$\n",
    "\n",
    "对于两条变形，都需要 $x,y\\ge 0,n\\in R$，因此同样需要指定符号的范围"
   ]
  },
  {
   "cell_type": "code",
   "execution_count": 35,
   "id": "8416ccab-d59f-4387-81d3-d3e4e8c4d73c",
   "metadata": {},
   "outputs": [],
   "source": [
    "x, y = symbols('x y', positive=True)\n",
    "n = symbols('n', real=True)"
   ]
  },
  {
   "cell_type": "markdown",
   "id": "5a50c659-8335-48b6-abde-c394087b07b7",
   "metadata": {},
   "source": [
    "对数表达式没有类似 `simplify` 的默认化简方法，只有 `expand_log` 和 `logcombine` 两种方法\n",
    "\n",
    "`expand_log`，对表达式进行展开，log 符号里只保留单个符号的一次项\n",
    "\n",
    "对应第 1 条和第 2 条变形从左到右应用"
   ]
  },
  {
   "cell_type": "code",
   "execution_count": 36,
   "id": "80a99cdd-ff87-4714-99d9-e62a4756c7be",
   "metadata": {},
   "outputs": [
    {
     "data": {
      "image/png": "[encoded data removed]",
      "text/latex": [
       "$\\displaystyle \\log{\\left(x^{2} y \\right)}$"
      ],
      "text/plain": [
       "   ⎛ 2  ⎞\n",
       "log⎝x ⋅y⎠"
      ]
     },
     "metadata": {},
     "output_type": "display_data"
    },
    {
     "data": {
      "image/png": "[encoded data removed]",
      "text/latex": [
       "$\\displaystyle 2 \\log{\\left(x \\right)} + \\log{\\left(y \\right)}$"
      ],
      "text/plain": [
       "2⋅log(x) + log(y)"
      ]
     },
     "metadata": {},
     "output_type": "display_data"
    }
   ],
   "source": [
    "display(log(x**2 * y))\n",
    "display(expand_log(log(x**2 * y)))"
   ]
  },
  {
   "cell_type": "markdown",
   "id": "c62890ea-4279-4b6b-957c-d1fe1b05aca0",
   "metadata": {},
   "source": [
    "`logcombine`，对表达式进行合并，对应第 1 条和第 2 条变形的逆"
   ]
  },
  {
   "cell_type": "code",
   "execution_count": 37,
   "id": "45831cb3-a62c-4290-ace7-e6b612661f53",
   "metadata": {},
   "outputs": [
    {
     "data": {
      "image/png": "[encoded data removed]",
      "text/latex": [
       "$\\displaystyle n \\log{\\left(x \\right)} + \\log{\\left(y^{2} \\right)}$"
      ],
      "text/plain": [
       "              ⎛ 2⎞\n",
       "n⋅log(x) + log⎝y ⎠"
      ]
     },
     "metadata": {},
     "output_type": "display_data"
    },
    {
     "data": {
      "image/png": "[encoded data removed]",
      "text/latex": [
       "$\\displaystyle \\log{\\left(x^{n} y^{2} \\right)}$"
      ],
      "text/plain": [
       "   ⎛ n  2⎞\n",
       "log⎝x ⋅y ⎠"
      ]
     },
     "metadata": {},
     "output_type": "display_data"
    }
   ],
   "source": [
    "display(n * log(x) + log(y**2))\n",
    "display(logcombine(n * log(x) + log(y**2)))"
   ]
  },
  {
   "cell_type": "code",
   "execution_count": 38,
   "id": "0613c0fd-e69c-48f1-a45b-4d091450278d",
   "metadata": {},
   "outputs": [],
   "source": [
    "a, b, x, y = symbols('a b x y')"
   ]
  },
  {
   "cell_type": "markdown",
   "id": "ee09494f-5607-4b3b-829d-acd64fc3e06e",
   "metadata": {
    "tags": []
   },
   "source": [
    "## 特殊函数\n",
    "\n",
    "除了各种表达式以外，还有一些特殊的函数\n",
    "\n",
    "首先是阶乘 `factorial`"
   ]
  },
  {
   "cell_type": "code",
   "execution_count": 39,
   "id": "cdb8e29d-c148-4343-8ba8-12df8f242a04",
   "metadata": {},
   "outputs": [
    {
     "data": {
      "image/png": "[encoded data removed]",
      "text/latex": [
       "$\\displaystyle n!$"
      ],
      "text/plain": [
       "n!"
      ]
     },
     "metadata": {},
     "output_type": "display_data"
    },
    {
     "data": {
      "image/png": "[encoded data removed]",
      "text/latex": [
       "$\\displaystyle \\left(n - 2\\right)!$"
      ],
      "text/plain": [
       "(n - 2)!"
      ]
     },
     "metadata": {},
     "output_type": "display_data"
    },
    {
     "data": {
      "image/png": "[encoded data removed]",
      "text/latex": [
       "$\\displaystyle 6$"
      ],
      "text/plain": [
       "6"
      ]
     },
     "metadata": {},
     "output_type": "display_data"
    }
   ],
   "source": [
    "n, k = symbols('n k',integer=True)\n",
    "display(factorial(n))\n",
    "display(simplify(factorial(n)/(n*(n-1))))\n",
    "display(factorial(n).subs(n,3))"
   ]
  },
  {
   "cell_type": "markdown",
   "id": "e556971d-64d8-4924-a8ce-53beca88b1a7",
   "metadata": {},
   "source": [
    "然后是二项式 `binomial`\n",
    "\n",
    "使用 `expand_func` 将函数进行展开"
   ]
  },
  {
   "cell_type": "code",
   "execution_count": 40,
   "id": "6341249d-da90-45a0-97ec-ee3a15c42391",
   "metadata": {},
   "outputs": [
    {
     "data": {
      "image/png": "[encoded data removed]",
      "text/latex": [
       "$\\displaystyle {\\binom{n}{k}}$"
      ],
      "text/plain": [
       "⎛n⎞\n",
       "⎜ ⎟\n",
       "⎝k⎠"
      ]
     },
     "metadata": {},
     "output_type": "display_data"
    },
    {
     "data": {
      "image/png": "[encoded data removed]",
      "text/latex": [
       "$\\displaystyle \\frac{n \\left(n - 2\\right) \\left(n - 1\\right)}{6}$"
      ],
      "text/plain": [
       "n⋅(n - 2)⋅(n - 1)\n",
       "─────────────────\n",
       "        6        "
      ]
     },
     "metadata": {},
     "output_type": "display_data"
    }
   ],
   "source": [
    "display(binomial(n, k))\n",
    "display(expand_func(binomial(n, 3)))"
   ]
  },
  {
   "cell_type": "markdown",
   "id": "979309e4-a220-499b-82bd-b2c4112fc46b",
   "metadata": {},
   "source": [
    "除此以外还有 $\\Gamma$ 函数、排列组合等特殊函数，这里不做过多展开\n",
    "\n",
    "参见：\n",
    "https://docs.sympy.org/latest/modules/functions/index.html#functions-contents"
   ]
  },
  {
   "cell_type": "markdown",
   "id": "ac3b8054-d5f3-440a-abe4-d1e42d67ce21",
   "metadata": {},
   "source": [
    "# 计算"
   ]
  },
  {
   "cell_type": "markdown",
   "id": "fecaa42c-b5c7-4b27-a004-1b774d84d951",
   "metadata": {},
   "source": [
    "## 求和、求积"
   ]
  },
  {
   "cell_type": "markdown",
   "id": "65543b1d-fa14-4692-9847-d99daf3a99ae",
   "metadata": {},
   "source": [
    "`summation(f, *symbols, **kwargs)`:\n",
    "- `f` 求和表达式\n",
    "- `*symbols` 迭代求值的符号和取值范围, e.g.$(i, a, b)$\n",
    "- `**kwargs` 符号的取值范围，进行双重求和"
   ]
  },
  {
   "cell_type": "markdown",
   "id": "7a5759b3-da53-48e2-b179-b211ba443f01",
   "metadata": {},
   "source": [
    "如果不能直接得出解，则返回求和表达式"
   ]
  },
  {
   "cell_type": "code",
   "execution_count": 41,
   "id": "635f9b05-8211-4bd0-aa84-68fef0fd82a8",
   "metadata": {},
   "outputs": [
    {
     "data": {
      "image/png": "[encoded data removed]",
      "text/latex": [
       "$\\displaystyle \\sum_{x=0}^{\\infty} \\frac{1}{\\log{\\left(x \\right)}}$"
      ],
      "text/plain": [
       "  ∞         \n",
       " ____       \n",
       " ╲          \n",
       "  ╲         \n",
       "   ╲    1   \n",
       "   ╱  ──────\n",
       "  ╱   log(x)\n",
       " ╱          \n",
       " ‾‾‾‾       \n",
       "x = 0       "
      ]
     },
     "execution_count": 41,
     "metadata": {},
     "output_type": "execute_result"
    }
   ],
   "source": [
    "f = 1 / log(x)\n",
    "summation(f, (x, 0, oo))"
   ]
  },
  {
   "cell_type": "markdown",
   "id": "5f59f688-968a-48b5-9cc9-74defc6a43d7",
   "metadata": {},
   "source": [
    "一般的求和情况"
   ]
  },
  {
   "cell_type": "code",
   "execution_count": 42,
   "id": "1b7fc5b1-14b2-4af4-88e4-bba29560e40c",
   "metadata": {},
   "outputs": [
    {
     "data": {
      "image/png": "[encoded data removed]",
      "text/latex": [
       "$\\displaystyle 2^{x}$"
      ],
      "text/plain": [
       " x\n",
       "2 "
      ]
     },
     "metadata": {},
     "output_type": "display_data"
    },
    {
     "data": {
      "image/png": "[encoded data removed]",
      "text/latex": [
       "$\\displaystyle 14$"
      ],
      "text/plain": [
       "14"
      ]
     },
     "metadata": {},
     "output_type": "display_data"
    }
   ],
   "source": [
    "fx = 2**x\n",
    "display(fx)\n",
    "display(summation(fx, (x, 1, 3)))"
   ]
  },
  {
   "cell_type": "markdown",
   "id": "bef2cc9c-34bf-4574-a680-49f199a39fa1",
   "metadata": {},
   "source": [
    "使用双重范围进行求和的情况"
   ]
  },
  {
   "cell_type": "code",
   "execution_count": 43,
   "id": "32531b0b-5c00-4741-9ef3-1fc501496441",
   "metadata": {},
   "outputs": [
    {
     "data": {
      "image/png": "[encoded data removed]",
      "text/latex": [
       "$\\displaystyle 2^{a + 1} - 2$"
      ],
      "text/plain": [
       " a + 1    \n",
       "2      - 2"
      ]
     },
     "metadata": {},
     "output_type": "display_data"
    },
    {
     "data": {
      "image/png": "[encoded data removed]",
      "text/latex": [
       "$\\displaystyle 20$"
      ],
      "text/plain": [
       "20"
      ]
     },
     "metadata": {},
     "output_type": "display_data"
    }
   ],
   "source": [
    "display(summation(fx, (x, 1, a)))\n",
    "display(summation(fx, (x, 1, a),(a, 2, 3)))"
   ]
  },
  {
   "cell_type": "markdown",
   "id": "a1d13a52-d2c3-4855-96af-f9f99040ebd3",
   "metadata": {},
   "source": [
    "`product(f, *symbols, **kwargs)`:\n",
    "- `f` 表达式\n",
    "- `*symbols` 迭代求积的符号和取值范围, e.g.$(i, a, b)$\n",
    "- `**kwargs` 指定符号的取值范围，进行双重求积"
   ]
  },
  {
   "cell_type": "markdown",
   "id": "39eccf86-b654-4b7a-88ae-f327a8e1aa38",
   "metadata": {},
   "source": [
    "如果不能直接得出解，则返回求积表达式"
   ]
  },
  {
   "cell_type": "code",
   "execution_count": 44,
   "id": "06f98ad3-dc99-4db9-98fb-e2feb32c21a2",
   "metadata": {},
   "outputs": [
    {
     "data": {
      "image/png": "[encoded data removed]",
      "text/latex": [
       "$\\displaystyle \\prod_{x=0}^{\\infty} \\frac{1}{\\log{\\left(x \\right)}}$"
      ],
      "text/plain": [
       "   ∞           \n",
       "─┬────┬─       \n",
       " │    │    1   \n",
       " │    │  ──────\n",
       " │    │  log(x)\n",
       " │    │        \n",
       " x = 0         "
      ]
     },
     "execution_count": 44,
     "metadata": {},
     "output_type": "execute_result"
    }
   ],
   "source": [
    "fx = 1 / log(x)\n",
    "product(fx, (x, 0, oo))"
   ]
  },
  {
   "cell_type": "markdown",
   "id": "bbc54739-6f01-4418-9ebb-e8f6dd363b7d",
   "metadata": {},
   "source": [
    "一般的求积情况"
   ]
  },
  {
   "cell_type": "code",
   "execution_count": 45,
   "id": "9671bd7f-4814-4c08-ab18-985f07e1aa4a",
   "metadata": {},
   "outputs": [
    {
     "data": {
      "image/png": "[encoded data removed]",
      "text/latex": [
       "$\\displaystyle x$"
      ],
      "text/plain": [
       "x"
      ]
     },
     "metadata": {},
     "output_type": "display_data"
    },
    {
     "data": {
      "image/png": "[encoded data removed]",
      "text/latex": [
       "$\\displaystyle 6$"
      ],
      "text/plain": [
       "6"
      ]
     },
     "metadata": {},
     "output_type": "display_data"
    }
   ],
   "source": [
    "fx = x\n",
    "display(fx)\n",
    "display(product(fx, (x, 1, 3)))"
   ]
  },
  {
   "cell_type": "markdown",
   "id": "3915f4a0-a0da-4451-9d75-fe2b102da0ed",
   "metadata": {},
   "source": [
    "使用双重范围进行求积的情况"
   ]
  },
  {
   "cell_type": "code",
   "execution_count": 46,
   "id": "9eda369c-9824-4792-b08f-d98a6dbacccd",
   "metadata": {},
   "outputs": [
    {
     "data": {
      "image/png": "[encoded data removed]",
      "text/latex": [
       "$\\displaystyle a!$"
      ],
      "text/plain": [
       "a!"
      ]
     },
     "metadata": {},
     "output_type": "display_data"
    },
    {
     "data": {
      "image/png": "[encoded data removed]",
      "text/latex": [
       "$\\displaystyle 12$"
      ],
      "text/plain": [
       "12"
      ]
     },
     "metadata": {},
     "output_type": "display_data"
    }
   ],
   "source": [
    "display(product(fx, (x, 1, a)))\n",
    "display(product(fx, (x, 1, a), (a, 2, 3)))"
   ]
  },
  {
   "cell_type": "markdown",
   "id": "cb81bedf-6296-44cc-9b3b-8414b508f71a",
   "metadata": {},
   "source": [
    "## 极限\n",
    "\n",
    "`Limit` 列出极限式，再使用 `doit` 进行求解\n",
    "\n",
    "`limit` 直接计算极限\n",
    "\n",
    "`limit(expr, z, z0, dir='+')`\n",
    "- `expr` 表达式\n",
    "- `z` 指定的变量\n",
    "- `z0` 指定变量的趋向值\n",
    "- `dir` '+'取右极限，'-'取左极限，'+-'两边极限"
   ]
  },
  {
   "cell_type": "code",
   "execution_count": 47,
   "id": "ed2e709a-48d7-4493-ad89-6e7528e12d0c",
   "metadata": {
    "ExecuteTime": {
     "end_time": "2022-10-19T07:27:43.644037Z",
     "start_time": "2022-10-19T07:27:43.636056Z"
    }
   },
   "outputs": [
    {
     "data": {
      "image/png": "[encoded data removed]",
      "text/latex": [
       "$\\displaystyle \\lim_{x \\to 0}\\left(\\frac{\\sin{\\left(x \\right)}}{x}\\right)$"
      ],
      "text/plain": [
       "    ⎛sin(x)⎞\n",
       "lim ⎜──────⎟\n",
       "x─→0⎝  x   ⎠"
      ]
     },
     "metadata": {},
     "output_type": "display_data"
    },
    {
     "data": {
      "image/png": "[encoded data removed]",
      "text/latex": [
       "$\\displaystyle 1$"
      ],
      "text/plain": [
       "1"
      ]
     },
     "metadata": {},
     "output_type": "display_data"
    }
   ],
   "source": [
    "display(Limit(sin(x)/x, x, 0, dir='+-'))\n",
    "display(Limit(sin(x)/x, x, 0, dir='+-').doit())"
   ]
  },
  {
   "cell_type": "markdown",
   "id": "25543002-b9a8-4fec-9922-ac00d70e9e7d",
   "metadata": {},
   "source": [
    "极限方向默认取右极限，需要使用 `dir` 指定\n",
    "\n",
    "如果遇到左右极限不相等的情况，第一种可能是使用复数无穷大 `zoo` $\\tilde\\infty$ 来表示"
   ]
  },
  {
   "cell_type": "code",
   "execution_count": 48,
   "id": "ecab718f-849b-4ca2-81cc-c1f201eec646",
   "metadata": {
    "ExecuteTime": {
     "end_time": "2022-10-19T07:28:07.828098Z",
     "start_time": "2022-10-19T07:28:07.819110Z"
    }
   },
   "outputs": [
    {
     "data": {
      "image/png": "[encoded data removed]",
      "text/latex": [
       "$\\displaystyle \\infty$"
      ],
      "text/plain": [
       "∞"
      ]
     },
     "metadata": {},
     "output_type": "display_data"
    },
    {
     "data": {
      "image/png": "[encoded data removed]",
      "text/latex": [
       "$\\displaystyle -\\infty$"
      ],
      "text/plain": [
       "-∞"
      ]
     },
     "metadata": {},
     "output_type": "display_data"
    },
    {
     "data": {
      "image/png": "[encoded data removed]",
      "text/latex": [
       "$\\displaystyle \\tilde{\\infty}$"
      ],
      "text/plain": [
       "zoo"
      ]
     },
     "metadata": {},
     "output_type": "display_data"
    }
   ],
   "source": [
    "display(limit(1/x, x, 0))\n",
    "display(limit(1/x, x, 0, dir='-'))\n",
    "display(limit(1/x, x, 0, dir='+-'))"
   ]
  },
  {
   "cell_type": "markdown",
   "id": "baf802db-2bb5-4004-955d-ad97dceb0de2",
   "metadata": {},
   "source": [
    "第二种可能是直接进行报错"
   ]
  },
  {
   "cell_type": "code",
   "execution_count": 49,
   "id": "278d6caa-21ce-4b4b-aa27-a44e09ad0261",
   "metadata": {},
   "outputs": [
    {
     "data": {
      "image/png": "[encoded data removed]",
      "text/latex": [
       "$\\displaystyle \\infty$"
      ],
      "text/plain": [
       "∞"
      ]
     },
     "metadata": {},
     "output_type": "display_data"
    },
    {
     "data": {
      "image/png": "[encoded data removed]",
      "text/latex": [
       "$\\displaystyle 0$"
      ],
      "text/plain": [
       "0"
      ]
     },
     "metadata": {},
     "output_type": "display_data"
    }
   ],
   "source": [
    "display(limit(E**(1/x), x, 0, '+'))\n",
    "display(limit(E**(1/x), x, 0, '-'))"
   ]
  },
  {
   "cell_type": "code",
   "execution_count": 50,
   "id": "da8149d6-c8d3-4f28-ac81-fb06030ff821",
   "metadata": {
    "tags": []
   },
   "outputs": [
    {
     "ename": "ValueError",
     "evalue": "The limit does not exist since left hand limit = 0 and right hand limit = oo",
     "output_type": "error",
     "traceback": [
      "\u001b[1;31m---------------------------------------------------------------------------\u001b[0m",
      "\u001b[1;31mValueError\u001b[0m                                Traceback (most recent call last)",
      "Input \u001b[1;32mIn [50]\u001b[0m, in \u001b[0;36m<cell line: 1>\u001b[1;34m()\u001b[0m\n\u001b[1;32m----> 1\u001b[0m display(\u001b[43mlimit\u001b[49m\u001b[43m(\u001b[49m\u001b[43mE\u001b[49m\u001b[38;5;241;43m*\u001b[39;49m\u001b[38;5;241;43m*\u001b[39;49m\u001b[43m(\u001b[49m\u001b[38;5;241;43m1\u001b[39;49m\u001b[38;5;241;43m/\u001b[39;49m\u001b[43mx\u001b[49m\u001b[43m)\u001b[49m\u001b[43m,\u001b[49m\u001b[43m \u001b[49m\u001b[43mx\u001b[49m\u001b[43m,\u001b[49m\u001b[43m \u001b[49m\u001b[38;5;241;43m0\u001b[39;49m\u001b[43m,\u001b[49m\u001b[43m \u001b[49m\u001b[38;5;124;43m'\u001b[39;49m\u001b[38;5;124;43m+-\u001b[39;49m\u001b[38;5;124;43m'\u001b[39;49m\u001b[43m)\u001b[49m)\n",
      "File \u001b[1;32mD:\\ProgramData\\Anaconda3\\envs\\Math\\lib\\site-packages\\sympy\\series\\limits.py:64\u001b[0m, in \u001b[0;36mlimit\u001b[1;34m(e, z, z0, dir)\u001b[0m\n\u001b[0;32m     13\u001b[0m \u001b[38;5;28;01mdef\u001b[39;00m \u001b[38;5;21mlimit\u001b[39m(e, z, z0, \u001b[38;5;28mdir\u001b[39m\u001b[38;5;241m=\u001b[39m\u001b[38;5;124m\"\u001b[39m\u001b[38;5;124m+\u001b[39m\u001b[38;5;124m\"\u001b[39m):\n\u001b[0;32m     14\u001b[0m     \u001b[38;5;124;03m\"\"\"Computes the limit of ``e(z)`` at the point ``z0``.\u001b[39;00m\n\u001b[0;32m     15\u001b[0m \n\u001b[0;32m     16\u001b[0m \u001b[38;5;124;03m    Parameters\u001b[39;00m\n\u001b[1;32m   (...)\u001b[0m\n\u001b[0;32m     61\u001b[0m \u001b[38;5;124;03m     limit_seq : returns the limit of a sequence.\u001b[39;00m\n\u001b[0;32m     62\u001b[0m \u001b[38;5;124;03m    \"\"\"\u001b[39;00m\n\u001b[1;32m---> 64\u001b[0m     \u001b[38;5;28;01mreturn\u001b[39;00m \u001b[43mLimit\u001b[49m\u001b[43m(\u001b[49m\u001b[43me\u001b[49m\u001b[43m,\u001b[49m\u001b[43m \u001b[49m\u001b[43mz\u001b[49m\u001b[43m,\u001b[49m\u001b[43m \u001b[49m\u001b[43mz0\u001b[49m\u001b[43m,\u001b[49m\u001b[43m \u001b[49m\u001b[38;5;28;43mdir\u001b[39;49m\u001b[43m)\u001b[49m\u001b[38;5;241;43m.\u001b[39;49m\u001b[43mdoit\u001b[49m\u001b[43m(\u001b[49m\u001b[43mdeep\u001b[49m\u001b[38;5;241;43m=\u001b[39;49m\u001b[38;5;28;43;01mFalse\u001b[39;49;00m\u001b[43m)\u001b[49m\n",
      "File \u001b[1;32mD:\\ProgramData\\Anaconda3\\envs\\Math\\lib\\site-packages\\sympy\\series\\limits.py:358\u001b[0m, in \u001b[0;36mLimit.doit\u001b[1;34m(self, **hints)\u001b[0m\n\u001b[0;32m    356\u001b[0m     l \u001b[38;5;241m=\u001b[39m gruntz(e, z, z0, \u001b[38;5;124m'\u001b[39m\u001b[38;5;124m-\u001b[39m\u001b[38;5;124m'\u001b[39m)\n\u001b[0;32m    357\u001b[0m     \u001b[38;5;28;01mif\u001b[39;00m l \u001b[38;5;241m!=\u001b[39m r:\n\u001b[1;32m--> 358\u001b[0m         \u001b[38;5;28;01mraise\u001b[39;00m \u001b[38;5;167;01mValueError\u001b[39;00m(\u001b[38;5;124m\"\u001b[39m\u001b[38;5;124mThe limit does not exist since \u001b[39m\u001b[38;5;124m\"\u001b[39m\n\u001b[0;32m    359\u001b[0m                 \u001b[38;5;124m\"\u001b[39m\u001b[38;5;124mleft hand limit = \u001b[39m\u001b[38;5;132;01m%s\u001b[39;00m\u001b[38;5;124m and right hand limit = \u001b[39m\u001b[38;5;132;01m%s\u001b[39;00m\u001b[38;5;124m\"\u001b[39m\n\u001b[0;32m    360\u001b[0m                 \u001b[38;5;241m%\u001b[39m (l, r))\n\u001b[0;32m    361\u001b[0m \u001b[38;5;28;01melse\u001b[39;00m:\n\u001b[0;32m    362\u001b[0m     r \u001b[38;5;241m=\u001b[39m gruntz(e, z, z0, \u001b[38;5;28mdir\u001b[39m)\n",
      "\u001b[1;31mValueError\u001b[0m: The limit does not exist since left hand limit = 0 and right hand limit = oo"
     ]
    }
   ],
   "source": [
    "display(limit(E**(1/x), x, 0, '+-'))"
   ]
  },
  {
   "cell_type": "markdown",
   "id": "5ec68c53-cd2e-41d9-8ddc-651cae954583",
   "metadata": {},
   "source": [
    "## 微分\n",
    "\n",
    "`Derivative` 列出微分式，再使用 `doit` 求解\n",
    "\n",
    "`diff` 直接进行求导\n",
    "\n",
    "`diff(expr, *symbols, **kwargs)`\n",
    "- `expr` 表达式\n",
    "- `symbols` 进行求导的符号\n",
    "- `kwargs` 求导阶数, 默认为1\n",
    "\n",
    "首先是进行简单求导的情况"
   ]
  },
  {
   "cell_type": "code",
   "execution_count": 51,
   "id": "4ca26a29-2ca2-4efb-9d60-e25e1d8ee8a4",
   "metadata": {
    "ExecuteTime": {
     "end_time": "2022-10-18T09:03:14.073615Z",
     "start_time": "2022-10-18T09:03:14.061603Z"
    }
   },
   "outputs": [
    {
     "data": {
      "image/png": "[encoded data removed]",
      "text/latex": [
       "$\\displaystyle \\frac{d}{d x} x^{3}$"
      ],
      "text/plain": [
       "d ⎛ 3⎞\n",
       "──⎝x ⎠\n",
       "dx    "
      ]
     },
     "metadata": {},
     "output_type": "display_data"
    },
    {
     "data": {
      "image/png": "[encoded data removed]",
      "text/latex": [
       "$\\displaystyle 3 x^{2}$"
      ],
      "text/plain": [
       "   2\n",
       "3⋅x "
      ]
     },
     "metadata": {},
     "output_type": "display_data"
    }
   ],
   "source": [
    "display(Derivative(x**3, x))\n",
    "display(Derivative(x**3, x).doit())"
   ]
  },
  {
   "cell_type": "code",
   "execution_count": 52,
   "id": "c85075c1-09a3-4ebd-a308-408201f96857",
   "metadata": {
    "ExecuteTime": {
     "end_time": "2022-10-18T09:03:17.092644Z",
     "start_time": "2022-10-18T09:03:17.075422Z"
    }
   },
   "outputs": [
    {
     "data": {
      "image/png": "[encoded data removed]",
      "text/latex": [
       "$\\displaystyle 3 x^{2}$"
      ],
      "text/plain": [
       "   2\n",
       "3⋅x "
      ]
     },
     "execution_count": 52,
     "metadata": {},
     "output_type": "execute_result"
    }
   ],
   "source": [
    "diff(x**3, x)"
   ]
  },
  {
   "cell_type": "markdown",
   "id": "5076810b-bdca-4575-964b-a72a57f3d0db",
   "metadata": {},
   "source": [
    "除了指定单个符号，使用 `x, x, ...` 或者 `x, 3, ...` 的形式进行多阶求导"
   ]
  },
  {
   "cell_type": "code",
   "execution_count": 53,
   "id": "f1ca9da1-b0d0-4bd1-a962-302ff5cc9e11",
   "metadata": {
    "ExecuteTime": {
     "end_time": "2022-10-18T09:03:36.432821Z",
     "start_time": "2022-10-18T09:03:36.418820Z"
    }
   },
   "outputs": [
    {
     "data": {
      "image/png": "[encoded data removed]",
      "text/latex": [
       "$\\displaystyle 6 x$"
      ],
      "text/plain": [
       "6⋅x"
      ]
     },
     "metadata": {},
     "output_type": "display_data"
    },
    {
     "data": {
      "image/png": "[encoded data removed]",
      "text/latex": [
       "$\\displaystyle 6$"
      ],
      "text/plain": [
       "6"
      ]
     },
     "metadata": {},
     "output_type": "display_data"
    }
   ],
   "source": [
    "display(diff(x**3, x, x))\n",
    "display(diff(x**3, x, 3))"
   ]
  },
  {
   "cell_type": "markdown",
   "id": "76432ac3-61dd-4b0d-b2f9-a81a24b403a0",
   "metadata": {},
   "source": [
    "如果需要求导的表达式是多元表达式，则可以按符号顺序求导数"
   ]
  },
  {
   "cell_type": "code",
   "execution_count": 54,
   "id": "327a8b3e-ffed-4af6-b7a4-e87f74444364",
   "metadata": {
    "ExecuteTime": {
     "end_time": "2022-10-18T09:05:04.906906Z",
     "start_time": "2022-10-18T09:05:04.901905Z"
    }
   },
   "outputs": [
    {
     "data": {
      "image/png": "[encoded data removed]",
      "text/latex": [
       "$\\displaystyle \\frac{\\partial^{2}}{\\partial y\\partial x} x^{2} y^{3}$"
      ],
      "text/plain": [
       "   2        \n",
       "  ∂  ⎛ 2  3⎞\n",
       "─────⎝x ⋅y ⎠\n",
       "∂y ∂x       "
      ]
     },
     "metadata": {},
     "output_type": "display_data"
    },
    {
     "data": {
      "image/png": "[encoded data removed]",
      "text/latex": [
       "$\\displaystyle 6 x y^{2}$"
      ],
      "text/plain": [
       "     2\n",
       "6⋅x⋅y "
      ]
     },
     "metadata": {},
     "output_type": "display_data"
    },
    {
     "data": {
      "image/png": "[encoded data removed]",
      "text/latex": [
       "$\\displaystyle 6 x^{2} y$"
      ],
      "text/plain": [
       "   2  \n",
       "6⋅x ⋅y"
      ]
     },
     "metadata": {},
     "output_type": "display_data"
    }
   ],
   "source": [
    "display(Derivative(x**2*y**3, x, y))\n",
    "display(diff(x**2*y**3, x, y))\n",
    "display(diff(x**2*y**3, y, 2))"
   ]
  },
  {
   "cell_type": "markdown",
   "id": "0876d99c-0159-4c26-a119-c0560bf5f4d2",
   "metadata": {},
   "source": [
    "## 积分\n",
    "\n",
    "`Integral` 列出积分式, 使用 `doit` 进行求解\n",
    "\n",
    "`integrate` 直接计算积分\n",
    "\n",
    "`transform` 积分的变量替换\n",
    "\n",
    "`integrate(exp, symbol)`\n",
    "- `exp` 被积函数\n",
    "- `symbol` 待积分的符号\n",
    "  1. 只传入符号，此时求的是不定积分\n",
    "  2. 传入一个元祖，但只指定了符号的积分下限，比如 (x, a)，此时求不定积分后，会将结果中的x用a替换，不常用\n",
    "  3. 传入一个元祖，同时指定了符号的积分上下限，比如 (x, a, b), 此时求的是定积分\n",
    "  4. 传入多个元祖，此时求的是多重积分"
   ]
  },
  {
   "cell_type": "markdown",
   "id": "8d0d0bf5-4d81-4fa7-b3d5-44c616ce3a00",
   "metadata": {},
   "source": [
    "首先使用 `Integral` 展示积分的列式和计算"
   ]
  },
  {
   "cell_type": "code",
   "execution_count": 55,
   "id": "205ecab5-d0cb-41ca-8403-fe1247efb6b8",
   "metadata": {
    "ExecuteTime": {
     "end_time": "2022-10-19T07:22:45.264598Z",
     "start_time": "2022-10-19T07:22:45.256606Z"
    }
   },
   "outputs": [
    {
     "data": {
      "image/png": "[encoded data removed]",
      "text/latex": [
       "$\\displaystyle \\int \\left(y + \\log{\\left(x \\right)}^{2}\\right)\\, dx$"
      ],
      "text/plain": [
       "⌠                 \n",
       "⎮ ⎛       2   ⎞   \n",
       "⎮ ⎝y + log (x)⎠ dx\n",
       "⌡                 "
      ]
     },
     "metadata": {},
     "output_type": "display_data"
    },
    {
     "data": {
      "image/png": "[encoded data removed]",
      "text/latex": [
       "$\\displaystyle x \\left(y + 2\\right) + x \\log{\\left(x \\right)}^{2} - 2 x \\log{\\left(x \\right)}$"
      ],
      "text/plain": [
       "                 2                \n",
       "x⋅(y + 2) + x⋅log (x) - 2⋅x⋅log(x)"
      ]
     },
     "metadata": {},
     "output_type": "display_data"
    }
   ],
   "source": [
    "display(Integral(log(x)**2 + y, x))\n",
    "display(Integral(log(x)**2 + y, x).doit())"
   ]
  },
  {
   "cell_type": "markdown",
   "id": "9909cfa4-1301-4536-9194-84b2bb18b2d2",
   "metadata": {},
   "source": [
    "使用 `integrate` 展示不定积分、符号替换、定积分等计算情况"
   ]
  },
  {
   "cell_type": "code",
   "execution_count": 56,
   "id": "5dc67946-8be9-4294-b88b-e37ed1a0412c",
   "metadata": {
    "ExecuteTime": {
     "end_time": "2022-10-19T07:22:46.220073Z",
     "start_time": "2022-10-19T07:22:46.201073Z"
    }
   },
   "outputs": [
    {
     "data": {
      "image/png": "[encoded data removed]",
      "text/latex": [
       "$\\displaystyle \\frac{x^{3}}{3}$"
      ],
      "text/plain": [
       " 3\n",
       "x \n",
       "──\n",
       "3 "
      ]
     },
     "metadata": {},
     "output_type": "display_data"
    },
    {
     "data": {
      "image/png": "[encoded data removed]",
      "text/latex": [
       "$\\displaystyle \\frac{a^{3}}{3}$"
      ],
      "text/plain": [
       " 3\n",
       "a \n",
       "──\n",
       "3 "
      ]
     },
     "metadata": {},
     "output_type": "display_data"
    },
    {
     "data": {
      "image/png": "[encoded data removed]",
      "text/latex": [
       "$\\displaystyle \\frac{26}{3}$"
      ],
      "text/plain": [
       "26/3"
      ]
     },
     "metadata": {},
     "output_type": "display_data"
    }
   ],
   "source": [
    "display(integrate(x**2, x))\n",
    "display(integrate(x**2, (x, a)))\n",
    "display(integrate(x**2, (x, 1, 3)))"
   ]
  },
  {
   "cell_type": "markdown",
   "id": "09578485-f790-4bc7-84ef-36e37cf5e857",
   "metadata": {},
   "source": [
    "多重积分的情况"
   ]
  },
  {
   "cell_type": "code",
   "execution_count": 57,
   "id": "a417f727-6101-4dca-9e4a-baf2548b8289",
   "metadata": {
    "ExecuteTime": {
     "end_time": "2022-10-19T07:22:07.773859Z",
     "start_time": "2022-10-19T07:22:07.755858Z"
    }
   },
   "outputs": [
    {
     "data": {
      "image/png": "[encoded data removed]",
      "text/latex": [
       "$\\displaystyle \\iint \\left(2 x + y\\right)\\, dx\\, dy$"
      ],
      "text/plain": [
       "⌠ ⌠                \n",
       "⎮ ⎮ (2⋅x + y) dx dy\n",
       "⌡ ⌡                "
      ]
     },
     "metadata": {},
     "output_type": "display_data"
    },
    {
     "data": {
      "image/png": "[encoded data removed]",
      "text/latex": [
       "$\\displaystyle x^{2} y + \\frac{x y^{2}}{2}$"
      ],
      "text/plain": [
       "          2\n",
       " 2     x⋅y \n",
       "x ⋅y + ────\n",
       "        2  "
      ]
     },
     "metadata": {},
     "output_type": "display_data"
    },
    {
     "data": {
      "image/png": "[encoded data removed]",
      "text/latex": [
       "$\\displaystyle 28$"
      ],
      "text/plain": [
       "28"
      ]
     },
     "metadata": {},
     "output_type": "display_data"
    }
   ],
   "source": [
    "display(Integral(2*x + y, x, y))\n",
    "display(integrate(2*x + y, x, y))\n",
    "display(integrate(2*x + y, (x,1,3), (y,2,4)))"
   ]
  },
  {
   "cell_type": "markdown",
   "id": "6ded1b5a-8194-41d1-9d94-e9e06dd2dfcc",
   "metadata": {},
   "source": [
    "`transform(x, u)`\n",
    "- `x` 替换前的变量/表达式\n",
    "- `u` 替换后的变量/表达式\n",
    "\n",
    "如果 x 是一个符号，u 是一个函数，则将 x 替换成 $f(x)$\n",
    "\n",
    "如果 u 是一个符号，x 是一个函数，则将 x 替换成 $f^{-1}(x)$\n",
    "\n",
    "在替换变量的同时，也会自动对积分上下限进行变换"
   ]
  },
  {
   "cell_type": "code",
   "execution_count": 58,
   "id": "d2085450-2a8a-4114-8f71-4f520f07e740",
   "metadata": {},
   "outputs": [
    {
     "data": {
      "image/png": "[encoded data removed]",
      "text/latex": [
       "$\\displaystyle \\int\\limits_{0}^{1} x \\cos{\\left(x^{2} - 1 \\right)}\\, dx$"
      ],
      "text/plain": [
       "1                 \n",
       "⌠                 \n",
       "⎮      ⎛ 2    ⎞   \n",
       "⎮ x⋅cos⎝x  - 1⎠ dx\n",
       "⌡                 \n",
       "0                 "
      ]
     },
     "metadata": {},
     "output_type": "display_data"
    },
    {
     "data": {
      "image/png": "[encoded data removed]",
      "text/latex": [
       "$\\displaystyle \\int\\limits_{-1}^{0} \\left(y + 1\\right) \\cos{\\left(\\left(y + 1\\right)^{2} - 1 \\right)}\\, dy$"
      ],
      "text/plain": [
       "0                              \n",
       "⌠                              \n",
       "⎮             ⎛       2    ⎞   \n",
       "⎮  (y + 1)⋅cos⎝(y + 1)  - 1⎠ dy\n",
       "⌡                              \n",
       "-1                             "
      ]
     },
     "metadata": {},
     "output_type": "display_data"
    },
    {
     "data": {
      "image/png": "[encoded data removed]",
      "text/latex": [
       "$\\displaystyle \\int\\limits_{0}^{\\frac{1}{2}} 4 y \\cos{\\left(4 y^{2} - 1 \\right)}\\, dy$"
      ],
      "text/plain": [
       "1/2                     \n",
       " ⌠                      \n",
       " ⎮         ⎛   2    ⎞   \n",
       " ⎮  4⋅y⋅cos⎝4⋅y  - 1⎠ dy\n",
       " ⌡                      \n",
       " 0                      "
      ]
     },
     "metadata": {},
     "output_type": "display_data"
    }
   ],
   "source": [
    "expr = Integral(x*cos(x**2 - 1), (x, 0, 1))\n",
    "display(expr)\n",
    "display(expr.transform(x-1, y))\n",
    "display(expr.transform(x, y*2))"
   ]
  },
  {
   "cell_type": "markdown",
   "id": "4d38a262-b8ef-4e97-8eeb-e7089600520c",
   "metadata": {},
   "source": [
    "## 级数展开\n",
    "\n",
    "`series(expr, x=None, x0=0, n=6, dir='+')`\n",
    "- `expr` 表达式\n",
    "- `x` 指定的变量\n",
    "- `x0` 展开的位置\n",
    "- `n` 展开的级数\n",
    "- `dir` 展开的趋势，'+' 取 x->x0+，'-' 取 x->x0-"
   ]
  },
  {
   "cell_type": "code",
   "execution_count": 59,
   "id": "4efbf5d5-1c45-447a-9c01-59cb100861ca",
   "metadata": {
    "ExecuteTime": {
     "end_time": "2022-10-20T09:34:42.372357Z",
     "start_time": "2022-10-20T09:34:42.342357Z"
    }
   },
   "outputs": [
    {
     "data": {
      "image/png": "[encoded data removed]",
      "text/latex": [
       "$\\displaystyle 1 - \\frac{x^{2}}{2} + \\frac{x^{4}}{24} + O\\left(x^{6}\\right)$"
      ],
      "text/plain": [
       "     2    4        \n",
       "    x    x     ⎛ 6⎞\n",
       "1 - ── + ── + O⎝x ⎠\n",
       "    2    24        "
      ]
     },
     "metadata": {},
     "output_type": "display_data"
    },
    {
     "data": {
      "image/png": "[encoded data removed]",
      "text/latex": [
       "$\\displaystyle \\cos{\\left(1 \\right)} - \\left(x - 1\\right) \\sin{\\left(1 \\right)} + O\\left(\\left(x - 1\\right)^{2}; x\\rightarrow 1\\right)$"
      ],
      "text/plain": [
       "                           ⎛       2       ⎞\n",
       "cos(1) - (x - 1)⋅sin(1) + O⎝(x - 1) ; x → 1⎠"
      ]
     },
     "metadata": {},
     "output_type": "display_data"
    }
   ],
   "source": [
    "display(cos(x).series())\n",
    "display(cos(x).series(x, x0=1, n=2))"
   ]
  },
  {
   "cell_type": "markdown",
   "id": "ed337045-59f8-41b0-bb57-e1807bfc5b9c",
   "metadata": {},
   "source": [
    "`removeO` 去掉最后的余项"
   ]
  },
  {
   "cell_type": "code",
   "execution_count": 60,
   "id": "3f552550-d9a0-4932-b65f-4f52cde8960c",
   "metadata": {},
   "outputs": [
    {
     "data": {
      "image/png": "[encoded data removed]",
      "text/latex": [
       "$\\displaystyle 1 + x + \\frac{x^{2}}{2} + O\\left(x^{4}\\right)$"
      ],
      "text/plain": [
       "         2        \n",
       "        x     ⎛ 4⎞\n",
       "1 + x + ── + O⎝x ⎠\n",
       "        2         "
      ]
     },
     "metadata": {},
     "output_type": "display_data"
    },
    {
     "data": {
      "image/png": "[encoded data removed]",
      "text/latex": [
       "$\\displaystyle \\frac{x^{2}}{2} + x + 1$"
      ],
      "text/plain": [
       " 2        \n",
       "x         \n",
       "── + x + 1\n",
       "2         "
      ]
     },
     "metadata": {},
     "output_type": "display_data"
    }
   ],
   "source": [
    "display(exp(sin(x)).series(x, 0, 4))\n",
    "display(exp(sin(x)).series(x, 0, 4).removeO())"
   ]
  },
  {
   "cell_type": "markdown",
   "id": "622f1c8c-5cfe-4764-a7f2-711e11da8ec9",
   "metadata": {},
   "source": [
    "## 数值计算\n",
    "\n",
    "在得到符号表达式后，可以使用 evalf 和 lambdify 进行数值计算\n",
    "\n",
    "`evalf(n, sub=None, chop=False)`\n",
    "- `n` 设置精度为n位\n",
    "- `sub` 用数值代替符号，例如subs={x:3, y:1+pi}。这些替换必须作为字典给出。\n",
    "- `chop` 指定如何将子结果中的微小实部或虚部替换为精确的零。当True时，chop值默认为标准精度。\n",
    "\n",
    "还有更多其他参数详见 [sympy.core.evalf](https://docs.sympy.org/latest/modules/core.html?highlight=evalf#module-sympy.core.evalf)"
   ]
  },
  {
   "cell_type": "code",
   "execution_count": 61,
   "id": "012e7a4d-48c5-4c62-86b5-e50a4e72ebe7",
   "metadata": {},
   "outputs": [
    {
     "data": {
      "image/png": "[encoded data removed]",
      "text/latex": [
       "$\\displaystyle 2 \\sqrt{2}$"
      ],
      "text/plain": [
       "2⋅√2"
      ]
     },
     "execution_count": 61,
     "metadata": {},
     "output_type": "execute_result"
    }
   ],
   "source": [
    "expr = sqrt(8)\n",
    "expr"
   ]
  },
  {
   "cell_type": "code",
   "execution_count": 62,
   "id": "11597dae-4e9b-4b33-b4b4-fa846f74ff27",
   "metadata": {},
   "outputs": [
    {
     "data": {
      "image/png": "[encoded data removed]",
      "text/latex": [
       "$\\displaystyle 2.82842712474619$"
      ],
      "text/plain": [
       "2.82842712474619"
      ]
     },
     "metadata": {},
     "output_type": "display_data"
    },
    {
     "data": {
      "image/png": "[encoded data removed]",
      "text/latex": [
       "$\\displaystyle 2.83$"
      ],
      "text/plain": [
       "2.83"
      ]
     },
     "metadata": {},
     "output_type": "display_data"
    }
   ],
   "source": [
    "display(expr.evalf())\n",
    "display(expr.evalf(3))"
   ]
  },
  {
   "cell_type": "code",
   "execution_count": 63,
   "id": "d6581aa6-9890-4485-a94a-2256ec7c449c",
   "metadata": {},
   "outputs": [
    {
     "data": {
      "image/png": "[encoded data removed]",
      "text/latex": [
       "$\\displaystyle y^{2} + 3.125$"
      ],
      "text/plain": [
       " 2        \n",
       "y  + 3.125"
      ]
     },
     "metadata": {},
     "output_type": "display_data"
    },
    {
     "data": {
      "image/png": "[encoded data removed]",
      "text/latex": [
       "$\\displaystyle 19.13$"
      ],
      "text/plain": [
       "19.13"
      ]
     },
     "metadata": {},
     "output_type": "display_data"
    }
   ],
   "source": [
    "expr = x + y**2\n",
    "display(expr.evalf(subs={x:3.125}))\n",
    "display(expr.evalf(4,subs={x:3.125, y:4}))"
   ]
  },
  {
   "cell_type": "markdown",
   "id": "24a77058-92f0-4631-9a7c-8120c14139c4",
   "metadata": {},
   "source": [
    "`lambdify(args, expr, modules=None)`\n",
    "- `args` 作为函数变量的符号\n",
    "- `expr` 转化成函数的表达式\n",
    "- `modules` 用于数值计算的模块，包括 `numpy`, `math` 等\n",
    "\n",
    "`lambdify` 将 SymPy 表达式转变为函数，传入变量后，可以指定 numpy/math 等库进行计算，数值计算的执行速度比 SymPy 原生方法要快很多\n",
    "\n",
    "作用类似于 Python 原生的 `lambda` 函数，适合处理大量的数据，用 SymPy 定义函数，转换到 numpy 进行快速计算"
   ]
  },
  {
   "cell_type": "code",
   "execution_count": 64,
   "id": "6bff6524-1c78-4322-a0e4-a7cdb12a912d",
   "metadata": {},
   "outputs": [],
   "source": [
    "import numpy\n",
    "a = numpy.arange(10)\n",
    "fx = x**2 + 2\n",
    "fxy = x**2 + y"
   ]
  },
  {
   "cell_type": "code",
   "execution_count": 65,
   "id": "437650fd-412a-43b5-af62-8af62f7b7355",
   "metadata": {},
   "outputs": [
    {
     "data": {
      "text/plain": [
       "array([ 2,  3,  6, 11, 18, 27, 38, 51, 66, 83])"
      ]
     },
     "metadata": {},
     "output_type": "display_data"
    },
    {
     "data": {
      "text/plain": [
       "array([ 0,  2,  6, 12, 20, 30, 42, 56, 72, 90])"
      ]
     },
     "metadata": {},
     "output_type": "display_data"
    }
   ],
   "source": [
    "output_fx = lambdify(x, fx, \"numpy\")\n",
    "display(output_fx(a))\n",
    "output_fxy = lambdify([x,y], fxy, \"numpy\")\n",
    "display(output_fxy(a, a))"
   ]
  },
  {
   "cell_type": "markdown",
   "id": "a7491c5e-d9d2-4cd8-80c3-87ef41e355c6",
   "metadata": {},
   "source": [
    "# 方程\n",
    "\n",
    "除了各种表达式、函数和计算，SymPy 还支持等式的判断和方程组的求解\n",
    "\n",
    "`solve` 是通用的求解方法，会自动匹配需要求解的等式、方程组、矩阵等形式\n",
    "\n",
    "如果确定了具体的求解类型，则建议根据需要选择单变量方程 `solveset`，线性方程组 `linsolve`，非线性方程组 `nonlinsolve`"
   ]
  },
  {
   "cell_type": "code",
   "execution_count": 66,
   "id": "0ad571f4-9139-40db-b3bb-47bf6eae1a1f",
   "metadata": {},
   "outputs": [],
   "source": [
    "x, y, z = symbols('x y z')"
   ]
  },
  {
   "cell_type": "markdown",
   "id": "3fbcbb53-b177-43aa-bbc5-ac66b9e5cfb3",
   "metadata": {},
   "source": [
    "## 等式\n",
    "\n",
    "判断 SymPy 中表达式的相等关系时，直接使用 == 达不到关系式的判断效果，需要使用 `Eq` 构造一个等式\n",
    "\n",
    "`Eq(lhs, rhs=None, **options)`\n",
    "- `lhs` 左关系式\n",
    "- `rhs` 右关系式\n",
    "\n",
    "如果没有指定右关系式，则默认右关系式为 0\n",
    "\n",
    "当左右关系式可以简单地判断关系时，则返回 True 或者 Flase\n",
    "\n",
    "当左右关系式不能直接判断时，可以通过 `simplify` 进行整理后，自动求解判断关系"
   ]
  },
  {
   "cell_type": "code",
   "execution_count": 67,
   "id": "612a32db-9393-465d-aa46-230906537c95",
   "metadata": {},
   "outputs": [
    {
     "data": {
      "text/latex": [
       "$\\displaystyle \\text{True}$"
      ],
      "text/plain": [
       "True"
      ]
     },
     "metadata": {},
     "output_type": "display_data"
    },
    {
     "data": {
      "image/png": "[encoded data removed]",
      "text/latex": [
       "$\\displaystyle \\left(x + 1\\right)^{2} = x^{2} + 2 x + 1$"
      ],
      "text/plain": [
       "       2    2          \n",
       "(x + 1)  = x  + 2⋅x + 1"
      ]
     },
     "metadata": {},
     "output_type": "display_data"
    },
    {
     "data": {
      "text/latex": [
       "$\\displaystyle \\text{True}$"
      ],
      "text/plain": [
       "True"
      ]
     },
     "metadata": {},
     "output_type": "display_data"
    }
   ],
   "source": [
    "display(Eq(x**2 + 1 + x + x, x**2 + 2*x + 1))\n",
    "display(Eq((x+1)**2, x**2 + 2*x + 1))\n",
    "display(simplify(Eq((x+1)**2, x**2 + 2*x + 1)))"
   ]
  },
  {
   "cell_type": "code",
   "execution_count": 68,
   "id": "1887ddfe-eb6a-4837-b6f9-2da5b0234b02",
   "metadata": {
    "tags": []
   },
   "outputs": [
    {
     "data": {
      "image/png": "[encoded data removed]",
      "text/latex": [
       "$\\displaystyle \\sin^{2}{\\left(x \\right)} + \\cos^{2}{\\left(x \\right)} = 1$"
      ],
      "text/plain": [
       "   2         2       \n",
       "sin (x) + cos (x) = 1"
      ]
     },
     "metadata": {},
     "output_type": "display_data"
    },
    {
     "data": {
      "text/latex": [
       "$\\displaystyle \\text{True}$"
      ],
      "text/plain": [
       "True"
      ]
     },
     "metadata": {},
     "output_type": "display_data"
    }
   ],
   "source": [
    "display(Eq(cos(x)**2 + sin(x)**2, 1))\n",
    "display(simplify(Eq(cos(x)**2 + sin(x)**2, 1)))"
   ]
  },
  {
   "cell_type": "code",
   "execution_count": 69,
   "id": "9ba0b003-f86a-4304-9009-4b7ed5cbc672",
   "metadata": {},
   "outputs": [
    {
     "data": {
      "text/plain": [
       "False"
      ]
     },
     "execution_count": 69,
     "metadata": {},
     "output_type": "execute_result"
    }
   ],
   "source": [
    "expr = cos(x)**2 + sin(x)**2\n",
    "expr.equals(2)"
   ]
  },
  {
   "cell_type": "markdown",
   "id": "ded9ac85-6431-4894-80c2-3c4a66bdcefc",
   "metadata": {
    "tags": []
   },
   "source": [
    "## 求解模组\n",
    "\n",
    "在 SymPy 中，`solvers` 和 `solveset` 是一新一旧的两个模组。其中 `solve` 函数是 `solvers` 中的核心\n",
    "\n",
    "官方文档中指出 `solve` 函数有输出类型不一致、参数过多且复杂等问题\n",
    "\n",
    "因此推荐使用 `solveset`，其优势包括 API 统一、支持输出无穷解集、清晰区分实数域和复数域等，更加强大"
   ]
  },
  {
   "cell_type": "markdown",
   "id": "ab783307-14f1-4c04-bc95-0f7cc32b6879",
   "metadata": {},
   "source": [
    "`solve(f, *symbols, **flags)`\n",
    "- `f` 求解的等式或等式组（列表等可迭代类型）\n",
    "- `symbols` 求解的变量或变量组，例如 solve(f, x, y) 或 solve(f, [x, y])\n",
    "- `flags` 其他参数，参见：\n",
    "https://docs.sympy.org/latest/modules/solvers/solvers.html#module-sympy.solvers"
   ]
  },
  {
   "cell_type": "markdown",
   "id": "e9573944-c43c-4f13-b509-f61ea956cc60",
   "metadata": {},
   "source": [
    "`solveset(equation, variable=None, domain=S.Complexes)`\n",
    "- `equation` 求解的等式或者等式组\n",
    "- `variables` 求解的变量或变量组\n",
    "- `domain` 求解的域，默认为复数域，可以指定 Naturals, Integers, Reals, Complexes 等多种区域"
   ]
  },
  {
   "cell_type": "markdown",
   "id": "9a580d39-522a-4f62-8e72-8c1ae8159660",
   "metadata": {},
   "source": [
    "下面简单演示二者的区别"
   ]
  },
  {
   "cell_type": "code",
   "execution_count": 70,
   "id": "eca31352-b9ea-4182-953d-dbf0087c6185",
   "metadata": {},
   "outputs": [
    {
     "data": {
      "image/png": "[encoded data removed]",
      "text/latex": [
       "$\\displaystyle \\left[ 0, \\  \\pi\\right]$"
      ],
      "text/plain": [
       "[0, π]"
      ]
     },
     "metadata": {},
     "output_type": "display_data"
    },
    {
     "data": {
      "text/latex": [
       "$\\displaystyle \\left\\{2 n \\pi\\; \\middle|\\; n \\in \\mathbb{Z}\\right\\} \\cup \\left\\{2 n \\pi + \\pi\\; \\middle|\\; n \\in \\mathbb{Z}\\right\\}$"
      ],
      "text/plain": [
       "{2⋅n⋅π │ n ∊ ℤ} ∪ {2⋅n⋅π + π │ n ∊ ℤ}"
      ]
     },
     "metadata": {},
     "output_type": "display_data"
    }
   ],
   "source": [
    "display(solve(Eq(sin(x),0), x))\n",
    "display(solveset(Eq(sin(x),0), x))"
   ]
  },
  {
   "cell_type": "code",
   "execution_count": 71,
   "id": "9072102a-f102-40e6-9583-22d9982557aa",
   "metadata": {},
   "outputs": [
    {
     "data": {
      "image/png": "[encoded data removed]",
      "text/latex": [
       "$\\displaystyle \\left[ 0\\right]$"
      ],
      "text/plain": [
       "[0]"
      ]
     },
     "metadata": {},
     "output_type": "display_data"
    },
    {
     "data": {
      "text/latex": [
       "$\\displaystyle \\left\\{2 n i \\pi\\; \\middle|\\; n \\in \\mathbb{Z}\\right\\}$"
      ],
      "text/plain": [
       "{2⋅n⋅ⅈ⋅π │ n ∊ ℤ}"
      ]
     },
     "metadata": {},
     "output_type": "display_data"
    },
    {
     "data": {
      "image/png": "[encoded data removed]",
      "text/latex": [
       "$\\displaystyle \\left\\{0\\right\\}$"
      ],
      "text/plain": [
       "{0}"
      ]
     },
     "metadata": {},
     "output_type": "display_data"
    }
   ],
   "source": [
    "display(solve(Eq(E**x,1), x))\n",
    "display(solveset(Eq(E**x,1), x))\n",
    "display(solveset(Eq(E**x,1), x, Reals))"
   ]
  },
  {
   "cell_type": "code",
   "execution_count": 72,
   "id": "27ea62fa-6f5c-4ae2-b955-df40db33c175",
   "metadata": {},
   "outputs": [
    {
     "data": {
      "image/png": "[encoded data removed]",
      "text/latex": [
       "$\\displaystyle \\mathbb{R}$"
      ],
      "text/plain": [
       "ℝ"
      ]
     },
     "metadata": {},
     "output_type": "display_data"
    },
    {
     "data": {
      "text/latex": [
       "$\\displaystyle \\left\\{2 n \\pi + \\frac{\\pi}{2}\\; \\middle|\\; n \\in \\mathbb{Z}\\right\\}$"
      ],
      "text/plain": [
       "⎧        π │      ⎫\n",
       "⎨2⋅n⋅π + ─ │ n ∊ ℤ⎬\n",
       "⎩        2 │      ⎭"
      ]
     },
     "metadata": {},
     "output_type": "display_data"
    }
   ],
   "source": [
    "display(solveset(x - x, x, domain=S.Reals))\n",
    "display(solveset(sin(x) - 1, x, domain=S.Reals))"
   ]
  },
  {
   "cell_type": "markdown",
   "id": "5df3993e-a72b-4b03-92a4-028e467f9be9",
   "metadata": {},
   "source": [
    "## 线性方程\n",
    "\n",
    "`linsolve` 求解线性方程组\n",
    "\n",
    "如果有确定的数值解，则会返回对应的解。否则会返回变量之间的关系式\n",
    "\n",
    "方程组可以用 [Eq1, Eq2, ...] 的方式来书写\n",
    "\n",
    "注意 Eq 可以写成 Eq(lhs, rhs)，也可以写成 expr(默认=0) 的形式\n",
    "\n",
    "变量组可以不加括号 x, y, z ，也可以加 [x, y, z] 也可以加 (x, y ,z)"
   ]
  },
  {
   "cell_type": "code",
   "execution_count": 73,
   "id": "1159d73c-08e9-4e07-a002-40e0d6cd84d9",
   "metadata": {},
   "outputs": [
    {
     "data": {
      "image/png": "[encoded data removed]",
      "text/latex": [
       "$\\displaystyle \\left[ 3 x + 2 y - z = 1, \\  2 x - 2 y + 4 z + 2, \\  - x + \\frac{y}{2} - z\\right]$"
      ],
      "text/plain": [
       "⎡                                             y    ⎤\n",
       "⎢3⋅x + 2⋅y - z = 1, 2⋅x - 2⋅y + 4⋅z + 2, -x + ─ - z⎥\n",
       "⎣                                             2    ⎦"
      ]
     },
     "metadata": {},
     "output_type": "display_data"
    },
    {
     "data": {
      "image/png": "[encoded data removed]",
      "text/latex": [
       "$\\displaystyle \\left\\{\\left( 1, \\  -2, \\  -2\\right)\\right\\}$"
      ],
      "text/plain": [
       "{(1, -2, -2)}"
      ]
     },
     "metadata": {},
     "output_type": "display_data"
    }
   ],
   "source": [
    "Eqs = [Eq(3*x + 2*y - z, 1), 2*x - 2*y + 4*z + 2, - x + y/2 - z]\n",
    "display(Eqs)\n",
    "display(linsolve(Eqs, x, y, z))"
   ]
  },
  {
   "cell_type": "code",
   "execution_count": 74,
   "id": "25419165-47e2-44d0-9c37-4824bc7aaa65",
   "metadata": {},
   "outputs": [
    {
     "data": {
      "image/png": "[encoded data removed]",
      "text/latex": [
       "$\\displaystyle \\left\\{\\left( - y - 1, \\  y, \\  2\\right)\\right\\}$"
      ],
      "text/plain": [
       "{(-y - 1, y, 2)}"
      ]
     },
     "execution_count": 74,
     "metadata": {},
     "output_type": "execute_result"
    }
   ],
   "source": [
    "linsolve([x + y + z - 1, x + y + 2*z - 3 ], [x, y, z])"
   ]
  },
  {
   "cell_type": "markdown",
   "id": "b262991b-3458-4a1a-a904-65143b6ef929",
   "metadata": {
    "tags": []
   },
   "source": [
    "## 非线性方程\n",
    "\n",
    "`nonlinsolve` 求解非线性方程组\n",
    "\n",
    "这里统一写成 Eqs = [Eq1(默认=0), Eq2(默认=0)] 的形式"
   ]
  },
  {
   "cell_type": "code",
   "execution_count": 75,
   "id": "56cf5eb9-3698-46cf-929b-67ba5b42f01e",
   "metadata": {},
   "outputs": [
    {
     "data": {
      "image/png": "[encoded data removed]",
      "text/latex": [
       "$\\displaystyle \\left[ x y - 1, \\  4 x^{2} + y^{2} - 5\\right]$"
      ],
      "text/plain": [
       "⎡            2    2    ⎤\n",
       "⎣x⋅y - 1, 4⋅x  + y  - 5⎦"
      ]
     },
     "metadata": {},
     "output_type": "display_data"
    },
    {
     "data": {
      "image/png": "[encoded data removed]",
      "text/latex": [
       "$\\displaystyle \\left\\{\\left( -1, \\  -1\\right), \\left( - \\frac{1}{2}, \\  -2\\right), \\left( \\frac{1}{2}, \\  2\\right), \\left( 1, \\  1\\right)\\right\\}$"
      ],
      "text/plain": [
       "{(-1, -1), (-1/2, -2), (1/2, 2), (1, 1)}"
      ]
     },
     "metadata": {},
     "output_type": "display_data"
    }
   ],
   "source": [
    "Eqs = [x*y - 1, 4*x**2 + y**2 - 5]\n",
    "display(Eqs)\n",
    "display(nonlinsolve(Eqs, x, y))"
   ]
  },
  {
   "cell_type": "code",
   "execution_count": 76,
   "id": "7c4dedfd-8f5d-42a7-922b-257c829c5b89",
   "metadata": {},
   "outputs": [
    {
     "data": {
      "image/png": "[encoded data removed]",
      "text/latex": [
       "$\\displaystyle \\left[ e^{x} - \\sin{\\left(y \\right)}, \\  y^{2} - 4\\right]$"
      ],
      "text/plain": [
       "⎡ x            2    ⎤\n",
       "⎣ℯ  - sin(y), y  - 4⎦"
      ]
     },
     "metadata": {},
     "output_type": "display_data"
    },
    {
     "data": {
      "text/latex": [
       "$\\displaystyle \\left\\{\\left( \\left\\{i \\left(2 n \\pi + \\pi\\right) + \\log{\\left(\\sin{\\left(2 \\right)} \\right)}\\; \\middle|\\; n \\in \\mathbb{Z}\\right\\}, \\  -2\\right), \\left( \\left\\{2 n i \\pi + \\log{\\left(\\sin{\\left(2 \\right)} \\right)}\\; \\middle|\\; n \\in \\mathbb{Z}\\right\\}, \\  2\\right)\\right\\}$"
      ],
      "text/plain": [
       "{({ⅈ⋅(2⋅n⋅π + π) + log(sin(2)) │ n ∊ ℤ}, -2), ({2⋅n⋅ⅈ⋅π + log(sin(2)) │ n ∊ ℤ}\n",
       ", 2)}"
      ]
     },
     "metadata": {},
     "output_type": "display_data"
    }
   ],
   "source": [
    "Eqs = [exp(x) - sin(y), y**2 - 4]\n",
    "display(Eqs)\n",
    "display(nonlinsolve(Eqs, [x, y]))"
   ]
  },
  {
   "cell_type": "markdown",
   "id": "ce881190-a9c3-40da-8371-871f01bb5cb6",
   "metadata": {
    "tags": []
   },
   "source": [
    "## 微分方程"
   ]
  },
  {
   "cell_type": "markdown",
   "id": "3e6e0e9f-bc1c-4958-850e-fbcb3c91c5bf",
   "metadata": {},
   "source": [
    "`dsolve(eq, f(x))` 求解单个微分方程"
   ]
  },
  {
   "cell_type": "code",
   "execution_count": 77,
   "id": "e4d5df42-8d61-4607-8fb1-d78a6f4c62c5",
   "metadata": {},
   "outputs": [
    {
     "data": {
      "image/png": "[encoded data removed]",
      "text/latex": [
       "$\\displaystyle \\frac{d}{d x} f{\\left(x \\right)}$"
      ],
      "text/plain": [
       "d       \n",
       "──(f(x))\n",
       "dx      "
      ]
     },
     "execution_count": 77,
     "metadata": {},
     "output_type": "execute_result"
    }
   ],
   "source": [
    "f = symbols('f', cls = Function)\n",
    "f_ = f(x).diff(x)\n",
    "f_"
   ]
  },
  {
   "cell_type": "code",
   "execution_count": 78,
   "id": "20236dd0-0488-4e8b-bbd8-37d26247a172",
   "metadata": {},
   "outputs": [
    {
     "data": {
      "image/png": "[encoded data removed]",
      "text/latex": [
       "$\\displaystyle f{\\left(x \\right)} - 2 \\frac{d}{d x} f{\\left(x \\right)} + \\frac{d^{2}}{d x^{2}} f{\\left(x \\right)} = \\sin{\\left(x \\right)}$"
      ],
      "text/plain": [
       "                      2               \n",
       "         d           d                \n",
       "f(x) - 2⋅──(f(x)) + ───(f(x)) = sin(x)\n",
       "         dx           2               \n",
       "                    dx                "
      ]
     },
     "execution_count": 78,
     "metadata": {},
     "output_type": "execute_result"
    }
   ],
   "source": [
    "diffeq = Eq(f(x).diff(x, x) - 2*f(x).diff(x) + f(x), sin(x))\n",
    "diffeq"
   ]
  },
  {
   "cell_type": "code",
   "execution_count": 79,
   "id": "55c8ca44-6943-4f2e-929e-3eb59d57c740",
   "metadata": {},
   "outputs": [
    {
     "data": {
      "image/png": "[encoded data removed]",
      "text/latex": [
       "$\\displaystyle f{\\left(x \\right)} = \\left(C_{1} + C_{2} x\\right) e^{x} + \\frac{\\cos{\\left(x \\right)}}{2}$"
      ],
      "text/plain": [
       "                    x   cos(x)\n",
       "f(x) = (C₁ + C₂⋅x)⋅ℯ  + ──────\n",
       "                          2   "
      ]
     },
     "execution_count": 79,
     "metadata": {},
     "output_type": "execute_result"
    }
   ],
   "source": [
    "dsolve(diffeq, f(x))"
   ]
  },
  {
   "cell_type": "markdown",
   "id": "63be339b-c971-4368-8b9d-b85ee4be5472",
   "metadata": {},
   "source": [
    "除了上述类型，SymPy 还支持不等式、不定方程、微分方程组、偏微分方程、矩阵等更加复杂的方程类型\n",
    "\n",
    "参见：https://docs.sympy.org/latest/modules/solvers/solveset.html?highlight=solveset#module-sympy.solvers.solveset"
   ]
  },
  {
   "cell_type": "markdown",
   "id": "595ce20a-ae35-4d14-92da-f355cf068e61",
   "metadata": {},
   "source": [
    "# 矩阵"
   ]
  },
  {
   "cell_type": "markdown",
   "id": "8af03307-f20a-45a4-8e27-3b559f9c1dfe",
   "metadata": {},
   "source": [
    "## 基本操作"
   ]
  },
  {
   "cell_type": "markdown",
   "id": "35f4f863-5c27-4b89-afb9-2c4b7c17634d",
   "metadata": {},
   "source": [
    "### 创建矩阵\n",
    "\n",
    "`Matrix` 创建一个矩阵，使用 [[row1], [row2], ...] 的形式来书写"
   ]
  },
  {
   "cell_type": "code",
   "execution_count": 14,
   "id": "e1b50d59-12bb-4973-8c25-42e5114bad6a",
   "metadata": {},
   "outputs": [
    {
     "data": {
      "text/latex": [
       "$\\displaystyle \\left[\\begin{matrix}1 & -1\\\\3 & 4\\\\0 & 2\\end{matrix}\\right]$"
      ],
      "text/plain": [
       "⎡1  -1⎤\n",
       "⎢     ⎥\n",
       "⎢3  4 ⎥\n",
       "⎢     ⎥\n",
       "⎣0  2 ⎦"
      ]
     },
     "execution_count": 14,
     "metadata": {},
     "output_type": "execute_result"
    }
   ],
   "source": [
    "m = Matrix([[1, -1], [3, 4], [0, 2]])\n",
    "m"
   ]
  },
  {
   "cell_type": "markdown",
   "id": "57a943a6-10bb-4225-beba-7c4b5d5f3ac9",
   "metadata": {},
   "source": [
    "只填入一个 list 的情况下，会创建一个列向量"
   ]
  },
  {
   "cell_type": "code",
   "execution_count": 6,
   "id": "14c5cbc8-a37a-450a-bc58-2bef7c76ba6c",
   "metadata": {},
   "outputs": [
    {
     "data": {
      "text/latex": [
       "$\\displaystyle \\left[\\begin{matrix}1\\\\2\\\\3\\end{matrix}\\right]$"
      ],
      "text/plain": [
       "⎡1⎤\n",
       "⎢ ⎥\n",
       "⎢2⎥\n",
       "⎢ ⎥\n",
       "⎣3⎦"
      ]
     },
     "execution_count": 6,
     "metadata": {},
     "output_type": "execute_result"
    }
   ],
   "source": [
    "Matrix([1, 2, 3])"
   ]
  },
  {
   "cell_type": "markdown",
   "id": "21b52c85-6ff8-40b6-b19c-2541b75cc309",
   "metadata": {},
   "source": [
    "### 矩阵形状\n",
    "\n",
    "`shape` 得到矩阵的形状"
   ]
  },
  {
   "cell_type": "code",
   "execution_count": 9,
   "id": "eb2061aa-78c7-446e-819b-b19f1e13fb3e",
   "metadata": {},
   "outputs": [
    {
     "data": {
      "image/png": "[encoded data removed]",
      "text/latex": [
       "$\\displaystyle \\left( 3, \\  2\\right)$"
      ],
      "text/plain": [
       "(3, 2)"
      ]
     },
     "execution_count": 9,
     "metadata": {},
     "output_type": "execute_result"
    }
   ],
   "source": [
    "shape(m)"
   ]
  },
  {
   "cell_type": "markdown",
   "id": "5bf3862a-2cbd-4751-affc-cfb530c6b2c0",
   "metadata": {},
   "source": [
    "### 矩阵的行和列\n",
    "\n",
    "`col` 和 `row` 提取矩阵中的指定行或列\n",
    "\n",
    "`col_del` 和 `row_del` 删除指定行或列，在原矩阵上操作\n",
    "\n",
    "`col_insert` 和 `row_insert` 插入指定行或列，返回一个新的矩阵"
   ]
  },
  {
   "cell_type": "code",
   "execution_count": 11,
   "id": "169b1ff0-1298-452c-b5c9-06ffc04d98c4",
   "metadata": {},
   "outputs": [
    {
     "data": {
      "text/latex": [
       "$\\displaystyle \\left[\\begin{matrix}1 & -1\\end{matrix}\\right]$"
      ],
      "text/plain": [
       "[1  -1]"
      ]
     },
     "metadata": {},
     "output_type": "display_data"
    },
    {
     "data": {
      "text/latex": [
       "$\\displaystyle \\left[\\begin{matrix}1\\\\3\\\\0\\end{matrix}\\right]$"
      ],
      "text/plain": [
       "⎡1⎤\n",
       "⎢ ⎥\n",
       "⎢3⎥\n",
       "⎢ ⎥\n",
       "⎣0⎦"
      ]
     },
     "metadata": {},
     "output_type": "display_data"
    }
   ],
   "source": [
    "display(m.row(0))\n",
    "display(m.col(0))"
   ]
  },
  {
   "cell_type": "code",
   "execution_count": 15,
   "id": "7dc5ed30-f2f5-4bf9-8001-96d73103766b",
   "metadata": {},
   "outputs": [
    {
     "data": {
      "text/latex": [
       "$\\displaystyle \\left[\\begin{matrix}3 & 4\\\\0 & 2\\end{matrix}\\right]$"
      ],
      "text/plain": [
       "⎡3  4⎤\n",
       "⎢    ⎥\n",
       "⎣0  2⎦"
      ]
     },
     "metadata": {},
     "output_type": "display_data"
    }
   ],
   "source": [
    "m.row_del(0)\n",
    "display(m)"
   ]
  },
  {
   "cell_type": "code",
   "execution_count": 17,
   "id": "e6ae30e0-043a-462f-bb32-e2a7ee3137aa",
   "metadata": {},
   "outputs": [
    {
     "data": {
      "text/latex": [
       "$\\displaystyle \\left[\\begin{matrix}3 & 4\\\\0 & 2\\end{matrix}\\right]$"
      ],
      "text/plain": [
       "⎡3  4⎤\n",
       "⎢    ⎥\n",
       "⎣0  2⎦"
      ]
     },
     "metadata": {},
     "output_type": "display_data"
    },
    {
     "data": {
      "text/latex": [
       "$\\displaystyle \\left[\\begin{matrix}3 & 1 & 4\\\\0 & 2 & 2\\end{matrix}\\right]$"
      ],
      "text/plain": [
       "⎡3  1  4⎤\n",
       "⎢       ⎥\n",
       "⎣0  2  2⎦"
      ]
     },
     "metadata": {},
     "output_type": "display_data"
    }
   ],
   "source": [
    "m1 = m.col_insert(1, Matrix([1, 2]))\n",
    "display(m)\n",
    "display(m1)"
   ]
  },
  {
   "cell_type": "markdown",
   "id": "f0b8bfb2-c4db-419e-b614-4da9f4d97e86",
   "metadata": {},
   "source": [
    "## 特殊矩阵"
   ]
  },
  {
   "cell_type": "markdown",
   "id": "0056b936-a8b6-44d5-b13e-938fa1827e71",
   "metadata": {
    "ExecuteTime": {
     "end_time": "2022-10-24T06:49:13.884025Z",
     "start_time": "2022-10-24T06:49:13.876026Z"
    }
   },
   "source": [
    "### 单位阵\n",
    "\n",
    "`eye(n)` 创建 n×n 的单位矩阵"
   ]
  },
  {
   "cell_type": "code",
   "execution_count": 2,
   "id": "31687091-d296-4394-b30b-b3b004d0da45",
   "metadata": {
    "ExecuteTime": {
     "end_time": "2022-10-24T06:48:04.014821Z",
     "start_time": "2022-10-24T06:48:04.002821Z"
    }
   },
   "outputs": [
    {
     "data": {
      "text/latex": [
       "$\\displaystyle \\left[\\begin{matrix}1 & 0 & 0\\\\0 & 1 & 0\\\\0 & 0 & 1\\end{matrix}\\right]$"
      ],
      "text/plain": [
       "Matrix([\n",
       "[1, 0, 0],\n",
       "[0, 1, 0],\n",
       "[0, 0, 1]])"
      ]
     },
     "execution_count": 2,
     "metadata": {},
     "output_type": "execute_result"
    }
   ],
   "source": [
    "eye(3)"
   ]
  },
  {
   "cell_type": "markdown",
   "id": "048bd962-23cd-464e-9555-bd93bf96e9cd",
   "metadata": {},
   "source": [
    "### 零矩阵\n",
    "\n",
    "`zeros(n,m)` 创建 n×m 的零矩阵"
   ]
  },
  {
   "cell_type": "code",
   "execution_count": 4,
   "id": "c17cb093-7712-46d7-b33f-ed60a7c9efa2",
   "metadata": {
    "ExecuteTime": {
     "end_time": "2022-10-24T06:50:48.425715Z",
     "start_time": "2022-10-24T06:50:48.406828Z"
    }
   },
   "outputs": [
    {
     "data": {
      "text/latex": [
       "$\\displaystyle \\left[\\begin{matrix}0 & 0 & 0\\\\0 & 0 & 0\\end{matrix}\\right]$"
      ],
      "text/plain": [
       "Matrix([\n",
       "[0, 0, 0],\n",
       "[0, 0, 0]])"
      ]
     },
     "execution_count": 4,
     "metadata": {},
     "output_type": "execute_result"
    }
   ],
   "source": [
    "zeros(2,3)"
   ]
  },
  {
   "cell_type": "markdown",
   "id": "d1d53583-69e8-41f5-8cae-0d8bef1d85f7",
   "metadata": {},
   "source": [
    "### 全一矩阵\n",
    "\n",
    "`ones(n,m)`创建 n×m 的全1矩阵"
   ]
  },
  {
   "cell_type": "code",
   "execution_count": 5,
   "id": "807d3138-b59a-4d42-949a-188661335fc4",
   "metadata": {
    "ExecuteTime": {
     "end_time": "2022-10-24T06:51:51.615776Z",
     "start_time": "2022-10-24T06:51:51.597861Z"
    }
   },
   "outputs": [
    {
     "data": {
      "text/latex": [
       "$\\displaystyle \\left[\\begin{matrix}1 & 1 & 1\\\\1 & 1 & 1\\end{matrix}\\right]$"
      ],
      "text/plain": [
       "Matrix([\n",
       "[1, 1, 1],\n",
       "[1, 1, 1]])"
      ]
     },
     "execution_count": 5,
     "metadata": {},
     "output_type": "execute_result"
    }
   ],
   "source": [
    "ones(2,3)"
   ]
  },
  {
   "cell_type": "markdown",
   "id": "b30d6f03-b0e9-4d52-81ce-9c6edebadbe9",
   "metadata": {},
   "source": [
    "### 对角阵\n",
    "\n",
    "`diag(values)`创建对角阵"
   ]
  },
  {
   "cell_type": "code",
   "execution_count": 6,
   "id": "6766765c-b422-4f4c-a670-debef1d4c4b8",
   "metadata": {
    "ExecuteTime": {
     "end_time": "2022-10-24T06:54:26.629130Z",
     "start_time": "2022-10-24T06:54:26.610089Z"
    }
   },
   "outputs": [
    {
     "data": {
      "text/latex": [
       "$\\displaystyle \\left[\\begin{matrix}1 & 0 & 0\\\\0 & 2 & 0\\\\0 & 0 & 3\\end{matrix}\\right]$"
      ],
      "text/plain": [
       "Matrix([\n",
       "[1, 0, 0],\n",
       "[0, 2, 0],\n",
       "[0, 0, 3]])"
      ]
     },
     "execution_count": 6,
     "metadata": {},
     "output_type": "execute_result"
    }
   ],
   "source": [
    "diag(1,2,3)"
   ]
  },
  {
   "cell_type": "markdown",
   "id": "57cb9ad9-a944-426e-aa12-7e85334ee859",
   "metadata": {},
   "source": [
    "## 矩阵的基本运算"
   ]
  },
  {
   "cell_type": "code",
   "execution_count": 19,
   "id": "f611344a-d7ea-4dd7-854b-8d8dc28c0262",
   "metadata": {},
   "outputs": [
    {
     "data": {
      "text/latex": [
       "$\\displaystyle \\left[\\begin{matrix}1 & 3\\\\-2 & 3\\end{matrix}\\right]$"
      ],
      "text/plain": [
       "⎡1   3⎤\n",
       "⎢     ⎥\n",
       "⎣-2  3⎦"
      ]
     },
     "metadata": {},
     "output_type": "display_data"
    },
    {
     "data": {
      "text/latex": [
       "$\\displaystyle \\left[\\begin{matrix}0 & 3\\\\0 & 7\\end{matrix}\\right]$"
      ],
      "text/plain": [
       "⎡0  3⎤\n",
       "⎢    ⎥\n",
       "⎣0  7⎦"
      ]
     },
     "metadata": {},
     "output_type": "display_data"
    }
   ],
   "source": [
    "m = Matrix([[1, 3], [-2, 3]])\n",
    "n = Matrix([[0, 3], [0, 7]])\n",
    "display(m)\n",
    "display(n)"
   ]
  },
  {
   "cell_type": "markdown",
   "id": "72920d74-98f0-4718-b823-42cf02430091",
   "metadata": {},
   "source": [
    "### 加、减、乘\n",
    "\n",
    "`+/-/*` 矩阵的加减法、乘法，矩阵的维数需要符合规则"
   ]
  },
  {
   "cell_type": "code",
   "execution_count": 22,
   "id": "f703ce4e-5e98-46ff-8e46-c92763c00570",
   "metadata": {},
   "outputs": [
    {
     "data": {
      "text/latex": [
       "$\\displaystyle \\left[\\begin{matrix}1 & 6\\\\-2 & 10\\end{matrix}\\right]$"
      ],
      "text/plain": [
       "⎡1   6 ⎤\n",
       "⎢      ⎥\n",
       "⎣-2  10⎦"
      ]
     },
     "metadata": {},
     "output_type": "display_data"
    },
    {
     "data": {
      "text/latex": [
       "$\\displaystyle \\left[\\begin{matrix}1 & 0\\\\-2 & -4\\end{matrix}\\right]$"
      ],
      "text/plain": [
       "⎡1   0 ⎤\n",
       "⎢      ⎥\n",
       "⎣-2  -4⎦"
      ]
     },
     "metadata": {},
     "output_type": "display_data"
    },
    {
     "data": {
      "text/latex": [
       "$\\displaystyle \\left[\\begin{matrix}2 & 6\\\\-4 & 6\\end{matrix}\\right]$"
      ],
      "text/plain": [
       "⎡2   6⎤\n",
       "⎢     ⎥\n",
       "⎣-4  6⎦"
      ]
     },
     "metadata": {},
     "output_type": "display_data"
    },
    {
     "data": {
      "text/latex": [
       "$\\displaystyle \\left[\\begin{matrix}0 & 24\\\\0 & 15\\end{matrix}\\right]$"
      ],
      "text/plain": [
       "⎡0  24⎤\n",
       "⎢     ⎥\n",
       "⎣0  15⎦"
      ]
     },
     "metadata": {},
     "output_type": "display_data"
    }
   ],
   "source": [
    "display(m + n)\n",
    "display(m - n)\n",
    "display(2 * m)\n",
    "display(m * n)"
   ]
  },
  {
   "cell_type": "markdown",
   "id": "db7daa06-e9c3-4112-a809-4ebe74514d9d",
   "metadata": {},
   "source": [
    "### 转置\n",
    "\n",
    "`m.T` 矩阵的转置，不需要加括号"
   ]
  },
  {
   "cell_type": "code",
   "execution_count": 25,
   "id": "d833d066-730b-4eae-a8bd-7b9a69ab80eb",
   "metadata": {},
   "outputs": [
    {
     "data": {
      "text/latex": [
       "$\\displaystyle \\left[\\begin{matrix}1 & -2\\\\3 & 3\\end{matrix}\\right]$"
      ],
      "text/plain": [
       "⎡1  -2⎤\n",
       "⎢     ⎥\n",
       "⎣3  3 ⎦"
      ]
     },
     "execution_count": 25,
     "metadata": {},
     "output_type": "execute_result"
    }
   ],
   "source": [
    "m.T"
   ]
  },
  {
   "cell_type": "markdown",
   "id": "127a252d-aee2-45f5-bddc-6c432dca1499",
   "metadata": {},
   "source": [
    "### 逆和幂\n",
    "\n",
    "`**` 矩阵的幂\n",
    "\n",
    "`**-1` 矩阵的逆，前提是矩阵可逆"
   ]
  },
  {
   "cell_type": "code",
   "execution_count": 27,
   "id": "45db23c8-c97f-4c93-918b-7f7006f3ae96",
   "metadata": {},
   "outputs": [
    {
     "data": {
      "text/latex": [
       "$\\displaystyle \\left[\\begin{matrix}-5 & 12\\\\-8 & 3\\end{matrix}\\right]$"
      ],
      "text/plain": [
       "⎡-5  12⎤\n",
       "⎢      ⎥\n",
       "⎣-8  3 ⎦"
      ]
     },
     "metadata": {},
     "output_type": "display_data"
    },
    {
     "data": {
      "text/latex": [
       "$\\displaystyle \\left[\\begin{matrix}\\frac{1}{3} & - \\frac{1}{3}\\\\\\frac{2}{9} & \\frac{1}{9}\\end{matrix}\\right]$"
      ],
      "text/plain": [
       "⎡1/3  -1/3⎤\n",
       "⎢         ⎥\n",
       "⎣2/9  1/9 ⎦"
      ]
     },
     "metadata": {},
     "output_type": "display_data"
    }
   ],
   "source": [
    "display(m**2)\n",
    "display(m**-1)"
   ]
  },
  {
   "cell_type": "markdown",
   "id": "47fe8b69-b3f1-4145-9766-621b2cdcbccb",
   "metadata": {},
   "source": [
    "## 矩阵的其他计算"
   ]
  },
  {
   "cell_type": "markdown",
   "id": "4542ebb7-d433-4ac5-9e8d-c48a0920ad5d",
   "metadata": {},
   "source": [
    "### 行列式\n",
    "\n",
    "`det` 矩阵的行列式"
   ]
  },
  {
   "cell_type": "code",
   "execution_count": 81,
   "id": "396655bb-a14c-4be3-b8c8-e459db588c55",
   "metadata": {},
   "outputs": [
    {
     "data": {
      "text/latex": [
       "$\\displaystyle \\left[\\begin{matrix}1 & 0 & 1\\\\2 & -1 & 3\\\\4 & 3 & 2\\end{matrix}\\right]$"
      ],
      "text/plain": [
       "⎡1  0   1⎤\n",
       "⎢        ⎥\n",
       "⎢2  -1  3⎥\n",
       "⎢        ⎥\n",
       "⎣4  3   2⎦"
      ]
     },
     "metadata": {},
     "output_type": "display_data"
    },
    {
     "data": {
      "image/png": "[encoded data removed]",
      "text/latex": [
       "$\\displaystyle -1$"
      ],
      "text/plain": [
       "-1"
      ]
     },
     "metadata": {},
     "output_type": "display_data"
    }
   ],
   "source": [
    "m = Matrix([[1, 0 ,1], [2, -1 ,3], [4, 3 ,2]])\n",
    "display(m)\n",
    "display(m.det())"
   ]
  },
  {
   "cell_type": "markdown",
   "id": "1fdc5f0b-1610-4adf-b10b-0bd48da44fc8",
   "metadata": {},
   "source": [
    "### 最简式\n",
    "\n",
    "`rref` 将矩阵转换为最简式"
   ]
  },
  {
   "cell_type": "code",
   "execution_count": 82,
   "id": "a807567c-8a37-4fa3-a0d3-650064c7198f",
   "metadata": {},
   "outputs": [
    {
     "data": {
      "text/latex": [
       "$\\displaystyle \\left[\\begin{matrix}1 & 0 & 1 & 3\\\\2 & 3 & 4 & 7\\\\-1 & -3 & -3 & -4\\end{matrix}\\right]$"
      ],
      "text/plain": [
       "⎡1   0   1   3 ⎤\n",
       "⎢              ⎥\n",
       "⎢2   3   4   7 ⎥\n",
       "⎢              ⎥\n",
       "⎣-1  -3  -3  -4⎦"
      ]
     },
     "metadata": {},
     "output_type": "display_data"
    },
    {
     "data": {
      "text/latex": [
       "$\\displaystyle \\left( \\left[\\begin{matrix}1 & 0 & 1 & 3\\\\0 & 1 & \\frac{2}{3} & \\frac{1}{3}\\\\0 & 0 & 0 & 0\\end{matrix}\\right], \\  \\left( 0, \\  1\\right)\\right)$"
      ],
      "text/plain": [
       "⎛⎡1  0   1    3 ⎤        ⎞\n",
       "⎜⎢              ⎥        ⎟\n",
       "⎜⎢0  1  2/3  1/3⎥, (0, 1)⎟\n",
       "⎜⎢              ⎥        ⎟\n",
       "⎝⎣0  0   0    0 ⎦        ⎠"
      ]
     },
     "metadata": {},
     "output_type": "display_data"
    }
   ],
   "source": [
    "m = Matrix([[1, 0, 1, 3], [2, 3, 4, 7], [-1, -3, -3, -4]])\n",
    "display(m)\n",
    "display(m.rref())"
   ]
  },
  {
   "cell_type": "markdown",
   "id": "7a415366-7bcb-4d40-b293-1707f812a309",
   "metadata": {},
   "source": [
    "### 向量空间\n",
    "\n",
    "`columnspace` 矩阵的列空间\n",
    "\n",
    "`nullspace` 矩阵的零空间"
   ]
  },
  {
   "cell_type": "code",
   "execution_count": 83,
   "id": "04a170c7-cefc-451c-9974-ff1f4be96e3f",
   "metadata": {},
   "outputs": [
    {
     "data": {
      "text/latex": [
       "$\\displaystyle \\left[\\begin{matrix}1 & 1 & 2\\\\2 & 1 & 3\\\\3 & 1 & 4\\\\4 & 1 & 5\\end{matrix}\\right]$"
      ],
      "text/plain": [
       "⎡1  1  2⎤\n",
       "⎢       ⎥\n",
       "⎢2  1  3⎥\n",
       "⎢       ⎥\n",
       "⎢3  1  4⎥\n",
       "⎢       ⎥\n",
       "⎣4  1  5⎦"
      ]
     },
     "metadata": {},
     "output_type": "display_data"
    },
    {
     "data": {
      "text/latex": [
       "$\\displaystyle \\left[ \\left[\\begin{matrix}1\\\\2\\\\3\\\\4\\end{matrix}\\right], \\  \\left[\\begin{matrix}1\\\\1\\\\1\\\\1\\end{matrix}\\right]\\right]$"
      ],
      "text/plain": [
       "⎡⎡1⎤  ⎡1⎤⎤\n",
       "⎢⎢ ⎥  ⎢ ⎥⎥\n",
       "⎢⎢2⎥  ⎢1⎥⎥\n",
       "⎢⎢ ⎥, ⎢ ⎥⎥\n",
       "⎢⎢3⎥  ⎢1⎥⎥\n",
       "⎢⎢ ⎥  ⎢ ⎥⎥\n",
       "⎣⎣4⎦  ⎣1⎦⎦"
      ]
     },
     "metadata": {},
     "output_type": "display_data"
    },
    {
     "data": {
      "text/latex": [
       "$\\displaystyle \\left[ \\left[\\begin{matrix}-1\\\\-1\\\\1\\end{matrix}\\right]\\right]$"
      ],
      "text/plain": [
       "⎡⎡-1⎤⎤\n",
       "⎢⎢  ⎥⎥\n",
       "⎢⎢-1⎥⎥\n",
       "⎢⎢  ⎥⎥\n",
       "⎣⎣1 ⎦⎦"
      ]
     },
     "metadata": {},
     "output_type": "display_data"
    }
   ],
   "source": [
    "m = Matrix([[1, 1, 2], [2, 1, 3], [3, 1, 4], [4, 1, 5]])\n",
    "display(m)\n",
    "display(m.columnspace())\n",
    "display(m.nullspace())"
   ]
  },
  {
   "cell_type": "markdown",
   "id": "28829a60-d457-436d-8876-45b630003c00",
   "metadata": {},
   "source": [
    "### 特征值和特征向量\n",
    "\n",
    "`eigenvects` 矩阵的特征向量，格式为 [(特征值，向量数，[特征向量1, 特征向量2, ...]), ...]\n",
    "\n",
    "`eigenvals` 矩阵的特征值，格式为 {特征值 : 向量数, ...}"
   ]
  },
  {
   "cell_type": "code",
   "execution_count": 28,
   "id": "2ea80777-cf7a-4f90-a711-088bb9d13296",
   "metadata": {},
   "outputs": [
    {
     "data": {
      "text/latex": [
       "$\\displaystyle \\left[\\begin{matrix}3 & -2 & 4 & -2\\\\5 & 3 & -3 & -2\\\\5 & -2 & 2 & -2\\\\5 & -2 & -3 & 3\\end{matrix}\\right]$"
      ],
      "text/plain": [
       "⎡3  -2  4   -2⎤\n",
       "⎢             ⎥\n",
       "⎢5  3   -3  -2⎥\n",
       "⎢             ⎥\n",
       "⎢5  -2  2   -2⎥\n",
       "⎢             ⎥\n",
       "⎣5  -2  -3  3 ⎦"
      ]
     },
     "metadata": {},
     "output_type": "display_data"
    },
    {
     "data": {
      "text/latex": [
       "$\\displaystyle \\left[ \\left( -2, \\  1, \\  \\left[ \\left[\\begin{matrix}0\\\\1\\\\1\\\\1\\end{matrix}\\right]\\right]\\right), \\  \\left( 3, \\  1, \\  \\left[ \\left[\\begin{matrix}1\\\\1\\\\1\\\\1\\end{matrix}\\right]\\right]\\right), \\  \\left( 5, \\  2, \\  \\left[ \\left[\\begin{matrix}1\\\\1\\\\1\\\\0\\end{matrix}\\right], \\  \\left[\\begin{matrix}0\\\\-1\\\\0\\\\1\\end{matrix}\\right]\\right]\\right)\\right]$"
      ],
      "text/plain": [
       "⎡⎛       ⎡⎡0⎤⎤⎞  ⎛      ⎡⎡1⎤⎤⎞  ⎛      ⎡⎡1⎤  ⎡0 ⎤⎤⎞⎤\n",
       "⎢⎜       ⎢⎢ ⎥⎥⎟  ⎜      ⎢⎢ ⎥⎥⎟  ⎜      ⎢⎢ ⎥  ⎢  ⎥⎥⎟⎥\n",
       "⎢⎜       ⎢⎢1⎥⎥⎟  ⎜      ⎢⎢1⎥⎥⎟  ⎜      ⎢⎢1⎥  ⎢-1⎥⎥⎟⎥\n",
       "⎢⎜-2, 1, ⎢⎢ ⎥⎥⎟, ⎜3, 1, ⎢⎢ ⎥⎥⎟, ⎜5, 2, ⎢⎢ ⎥, ⎢  ⎥⎥⎟⎥\n",
       "⎢⎜       ⎢⎢1⎥⎥⎟  ⎜      ⎢⎢1⎥⎥⎟  ⎜      ⎢⎢1⎥  ⎢0 ⎥⎥⎟⎥\n",
       "⎢⎜       ⎢⎢ ⎥⎥⎟  ⎜      ⎢⎢ ⎥⎥⎟  ⎜      ⎢⎢ ⎥  ⎢  ⎥⎥⎟⎥\n",
       "⎣⎝       ⎣⎣1⎦⎦⎠  ⎝      ⎣⎣1⎦⎦⎠  ⎝      ⎣⎣0⎦  ⎣1 ⎦⎦⎠⎦"
      ]
     },
     "metadata": {},
     "output_type": "display_data"
    },
    {
     "data": {
      "image/png": "[encoded data removed]",
      "text/latex": [
       "$\\displaystyle \\left\\{ -2 : 1, \\  3 : 1, \\  5 : 2\\right\\}$"
      ],
      "text/plain": [
       "{-2: 1, 3: 1, 5: 2}"
      ]
     },
     "metadata": {},
     "output_type": "display_data"
    }
   ],
   "source": [
    "m = Matrix([[3, -2,  4, -2], \n",
    "            [5,  3, -3, -2], \n",
    "            [5, -2,  2, -2], \n",
    "            [5, -2, -3,  3]])\n",
    "display(m)\n",
    "display(m.eigenvects())\n",
    "display(m.eigenvals())"
   ]
  },
  {
   "cell_type": "markdown",
   "id": "e5ba1594-78a3-4e04-ad17-99e6703f8a7a",
   "metadata": {},
   "source": [
    "`charpoly` 获得特征多项式，效率更高"
   ]
  },
  {
   "cell_type": "code",
   "execution_count": 31,
   "id": "6e52bb82-69d8-4e9f-9cc5-7f6bd7115388",
   "metadata": {},
   "outputs": [
    {
     "data": {
      "image/png": "[encoded data removed]",
      "text/latex": [
       "$\\displaystyle \\operatorname{PurePoly}{\\left( \\lambda^{4} - 11 \\lambda^{3} + 29 \\lambda^{2} + 35 \\lambda - 150, \\lambda, domain=\\mathbb{Z} \\right)}$"
      ],
      "text/plain": [
       "PurePoly(lamda**4 - 11*lamda**3 + 29*lamda**2 + 35*lamda - 150, lamda, domain=\n",
       "'ZZ')"
      ]
     },
     "metadata": {},
     "output_type": "display_data"
    },
    {
     "data": {
      "image/png": "[encoded data removed]",
      "text/latex": [
       "$\\displaystyle \\left(\\lambda - 5\\right)^{2} \\left(\\lambda - 3\\right) \\left(\\lambda + 2\\right)$"
      ],
      "text/plain": [
       "       2                \n",
       "(λ - 5) ⋅(λ - 3)⋅(λ + 2)"
      ]
     },
     "execution_count": 31,
     "metadata": {},
     "output_type": "execute_result"
    }
   ],
   "source": [
    "lamda = symbols('lamda')\n",
    "p = m.charpoly(lamda)\n",
    "display(p)\n",
    "factor(p.as_expr())"
   ]
  },
  {
   "cell_type": "markdown",
   "id": "1ea8868f-5209-4581-b922-8e949428af25",
   "metadata": {},
   "source": [
    "### 对角化\n",
    "\n",
    "`diagonalize` 对角化"
   ]
  },
  {
   "cell_type": "code",
   "execution_count": 85,
   "id": "60deb92f-75d3-4932-a6a8-35888380f157",
   "metadata": {},
   "outputs": [
    {
     "data": {
      "text/latex": [
       "$\\displaystyle \\left[\\begin{matrix}0 & 1 & 1 & 0\\\\1 & 1 & 1 & -1\\\\1 & 1 & 1 & 0\\\\1 & 1 & 0 & 1\\end{matrix}\\right]$"
      ],
      "text/plain": [
       "⎡0  1  1  0 ⎤\n",
       "⎢           ⎥\n",
       "⎢1  1  1  -1⎥\n",
       "⎢           ⎥\n",
       "⎢1  1  1  0 ⎥\n",
       "⎢           ⎥\n",
       "⎣1  1  0  1 ⎦"
      ]
     },
     "metadata": {},
     "output_type": "display_data"
    },
    {
     "data": {
      "text/latex": [
       "$\\displaystyle \\left[\\begin{matrix}-2 & 0 & 0 & 0\\\\0 & 3 & 0 & 0\\\\0 & 0 & 5 & 0\\\\0 & 0 & 0 & 5\\end{matrix}\\right]$"
      ],
      "text/plain": [
       "⎡-2  0  0  0⎤\n",
       "⎢           ⎥\n",
       "⎢0   3  0  0⎥\n",
       "⎢           ⎥\n",
       "⎢0   0  5  0⎥\n",
       "⎢           ⎥\n",
       "⎣0   0  0  5⎦"
      ]
     },
     "metadata": {},
     "output_type": "display_data"
    },
    {
     "data": {
      "text/latex": [
       "$\\displaystyle \\left[\\begin{matrix}3 & -2 & 4 & -2\\\\5 & 3 & -3 & -2\\\\5 & -2 & 2 & -2\\\\5 & -2 & -3 & 3\\end{matrix}\\right]$"
      ],
      "text/plain": [
       "⎡3  -2  4   -2⎤\n",
       "⎢             ⎥\n",
       "⎢5  3   -3  -2⎥\n",
       "⎢             ⎥\n",
       "⎢5  -2  2   -2⎥\n",
       "⎢             ⎥\n",
       "⎣5  -2  -3  3 ⎦"
      ]
     },
     "metadata": {},
     "output_type": "display_data"
    }
   ],
   "source": [
    "P, D = m.diagonalize()\n",
    "display(P)\n",
    "display(D)\n",
    "display(P*D*P**-1)"
   ]
  },
  {
   "cell_type": "markdown",
   "id": "3252b6e8-04b9-4350-89d4-20f3cfa304c8",
   "metadata": {},
   "source": [
    "## 矩阵微积分\n",
    "\n",
    "除了在矩阵中填入数字，还可以填入符号和表达式"
   ]
  },
  {
   "cell_type": "code",
   "execution_count": 5,
   "id": "e8c057f8-0feb-4a87-9488-634fb193e268",
   "metadata": {
    "tags": []
   },
   "outputs": [
    {
     "data": {
      "text/latex": [
       "$\\displaystyle \\left[\\begin{matrix}x^{2} & x y\\\\3 x & 5\\end{matrix}\\right]$"
      ],
      "text/plain": [
       "⎡ 2      ⎤\n",
       "⎢x    x⋅y⎥\n",
       "⎢        ⎥\n",
       "⎣3⋅x   5 ⎦"
      ]
     },
     "execution_count": 5,
     "metadata": {},
     "output_type": "execute_result"
    }
   ],
   "source": [
    "m = Matrix([[x**2, x * y], [3 * x, 5]])\n",
    "m"
   ]
  },
  {
   "cell_type": "markdown",
   "id": "9480358f-51ac-4de1-9c47-3f97d864cf14",
   "metadata": {},
   "source": [
    "`integrate`, `diff`, `limit` 等微积分的运算同样对矩阵适用，会对矩阵中的每一个元素进行操作"
   ]
  },
  {
   "cell_type": "code",
   "execution_count": 8,
   "id": "bb398f8f-4e33-4b25-8b9e-6cfd1860dc74",
   "metadata": {},
   "outputs": [
    {
     "data": {
      "text/latex": [
       "$\\displaystyle \\left[\\begin{matrix}\\frac{8}{3} & 2 y\\\\6 & 10\\end{matrix}\\right]$"
      ],
      "text/plain": [
       "⎡8/3  2⋅y⎤\n",
       "⎢        ⎥\n",
       "⎣ 6   10 ⎦"
      ]
     },
     "metadata": {},
     "output_type": "display_data"
    },
    {
     "data": {
      "text/latex": [
       "$\\displaystyle \\left[\\begin{matrix}2 x & y\\\\3 & 0\\end{matrix}\\right]$"
      ],
      "text/plain": [
       "⎡2⋅x  y⎤\n",
       "⎢      ⎥\n",
       "⎣ 3   0⎦"
      ]
     },
     "metadata": {},
     "output_type": "display_data"
    },
    {
     "data": {
      "text/latex": [
       "$\\displaystyle \\left[\\begin{matrix}4 & 2 y\\\\6 & 5\\end{matrix}\\right]$"
      ],
      "text/plain": [
       "⎡4  2⋅y⎤\n",
       "⎢      ⎥\n",
       "⎣6   5 ⎦"
      ]
     },
     "metadata": {},
     "output_type": "display_data"
    }
   ],
   "source": [
    "display(m.integrate((x, 0, 2)))\n",
    "display(m.diff(x))\n",
    "display(m.limit(x, 2))"
   ]
  },
  {
   "cell_type": "markdown",
   "id": "3582c807-5d0c-4284-8219-b12137ebd5f6",
   "metadata": {},
   "source": [
    "SymPy 还支持计算向量微积分中的 jacobi 矩阵、hessian 矩阵等\n",
    "\n",
    "首先定义 $f(x,y)$ 和 $g(x,y)$ 并组成向量 $m = [f, g]$"
   ]
  },
  {
   "cell_type": "code",
   "execution_count": 32,
   "id": "574ed6d8-685f-4abc-82ec-bfcc83f8672c",
   "metadata": {},
   "outputs": [
    {
     "data": {
      "text/latex": [
       "$\\displaystyle \\left[\\begin{matrix}3 x^{2} y\\\\2 x + y^{8}\\end{matrix}\\right]$"
      ],
      "text/plain": [
       "⎡    2   ⎤\n",
       "⎢ 3⋅x ⋅y ⎥\n",
       "⎢        ⎥\n",
       "⎢       8⎥\n",
       "⎣2⋅x + y ⎦"
      ]
     },
     "execution_count": 32,
     "metadata": {},
     "output_type": "execute_result"
    }
   ],
   "source": [
    "f = 3 * x**2 * y\n",
    "g = 2 * x + y**8\n",
    "m = Matrix([f, g])\n",
    "m"
   ]
  },
  {
   "cell_type": "markdown",
   "id": "cc8dab07-bb27-4ae5-bb8f-57097e963c57",
   "metadata": {},
   "source": [
    "`jacobian(X)` 计算 jacobi 矩阵\n",
    "- `X` 指定符号顺序的列表或矩阵形式\n",
    "\n",
    "$\n",
    "J = \n",
    "  \\begin{bmatrix}\n",
    "   \\frac{\\partial f}{\\partial x} & \\frac{\\partial f}{\\partial y} \\\\\n",
    "   \\frac{\\partial g}{\\partial x} & \\frac{\\partial g}{\\partial y}\n",
    "  \\end{bmatrix}\n",
    "$"
   ]
  },
  {
   "cell_type": "code",
   "execution_count": 31,
   "id": "ad394982-3185-4859-974e-1d5da48bf988",
   "metadata": {},
   "outputs": [
    {
     "data": {
      "text/latex": [
       "$\\displaystyle \\left[\\begin{matrix}6 x y & 3 x^{2}\\\\2 & 8 y^{7}\\end{matrix}\\right]$"
      ],
      "text/plain": [
       "⎡          2⎤\n",
       "⎢6⋅x⋅y  3⋅x ⎥\n",
       "⎢           ⎥\n",
       "⎢          7⎥\n",
       "⎣  2    8⋅y ⎦"
      ]
     },
     "execution_count": 34,
     "metadata": {},
     "output_type": "execute_result"
    }
   ],
   "source": [
    "n = Matrix([x, y])\n",
    "m.jacobian(n)"
   ]
  },
  {
   "cell_type": "markdown",
   "id": "b639cad3-65e7-42e9-981f-06c5fa54204c",
   "metadata": {},
   "source": [
    "除了指定符号矩阵以外，还可以借助 `free_symbols` 自动填入需要的符号顺序"
   ]
  },
  {
   "cell_type": "code",
   "execution_count": 35,
   "id": "e0c0524e-6f8a-4483-b2f0-268ddc4583f7",
   "metadata": {},
   "outputs": [
    {
     "data": {
      "image/png": "[encoded data removed]",
      "text/latex": [
       "$\\displaystyle \\left\\{x, y\\right\\}$"
      ],
      "text/plain": [
       "{x, y}"
      ]
     },
     "metadata": {},
     "output_type": "display_data"
    },
    {
     "data": {
      "text/latex": [
       "$\\displaystyle \\left[\\begin{matrix}6 x y & 3 x^{2}\\\\2 & 8 y^{7}\\end{matrix}\\right]$"
      ],
      "text/plain": [
       "⎡          2⎤\n",
       "⎢6⋅x⋅y  3⋅x ⎥\n",
       "⎢           ⎥\n",
       "⎢          7⎥\n",
       "⎣  2    8⋅y ⎦"
      ]
     },
     "execution_count": 35,
     "metadata": {},
     "output_type": "execute_result"
    }
   ],
   "source": [
    "display(m.free_symbols)\n",
    "m.jacobian(list(m.free_symbols))"
   ]
  },
  {
   "cell_type": "markdown",
   "id": "eaceef31-2469-4d3b-a3b0-2b65a1bfcc77",
   "metadata": {},
   "source": [
    "`hessian(f, varlist, constraints=())` 计算 hessian 矩阵\n",
    "- `f` 进行求导的函数\n",
    "- `varlist` 指定符号顺序的序列或向量形式\n",
    "- `constraints` 约束条件\n",
    "\n",
    "如果求导函数没有具体的形式，则会打印偏导的表达式"
   ]
  },
  {
   "cell_type": "code",
   "execution_count": 30,
   "id": "3e7fe167-ee3a-4cd0-b524-29176f5f8ca4",
   "metadata": {},
   "outputs": [
    {
     "data": {
      "text/latex": [
       "$\\displaystyle \\left[\\begin{matrix}\\frac{\\partial^{2}}{\\partial x_{0}^{2}} f{\\left(x_{0},x_{1} \\right)} & \\frac{\\partial^{2}}{\\partial x_{1}\\partial x_{0}} f{\\left(x_{0},x_{1} \\right)}\\\\\\frac{\\partial^{2}}{\\partial x_{1}\\partial x_{0}} f{\\left(x_{0},x_{1} \\right)} & \\frac{\\partial^{2}}{\\partial x_{1}^{2}} f{\\left(x_{0},x_{1} \\right)}\\end{matrix}\\right]$"
      ],
      "text/plain": [
       "⎡   2                    2             ⎤\n",
       "⎢  ∂                    ∂              ⎥\n",
       "⎢ ────(f(x₀, x₁))    ───────(f(x₀, x₁))⎥\n",
       "⎢    2               ∂x₁ ∂x₀           ⎥\n",
       "⎢ ∂x₀                                  ⎥\n",
       "⎢                                      ⎥\n",
       "⎢    2                  2              ⎥\n",
       "⎢   ∂                  ∂               ⎥\n",
       "⎢───────(f(x₀, x₁))   ────(f(x₀, x₁))  ⎥\n",
       "⎢∂x₁ ∂x₀                 2             ⎥\n",
       "⎣                     ∂x₁              ⎦"
      ]
     },
     "execution_count": 30,
     "metadata": {},
     "output_type": "execute_result"
    }
   ],
   "source": [
    "X = symbols('x0:2')\n",
    "f = Function('f')(X[0], X[1])\n",
    "hessian(f, (X[0], X[1]))"
   ]
  },
  {
   "cell_type": "markdown",
   "id": "0a747e09-a5f9-4a11-a8de-33437f0053ce",
   "metadata": {
    "tags": []
   },
   "source": [
    "# 函数图像\n",
    "\n",
    "目前 SymPy 使用 matplotlib 作为后台渲染函数图像，因此使用方法与 matplotlib 基本保持一致\n",
    "\n",
    "如果没有该库，程序会通过字符方式来进行画图\n",
    "\n",
    "SymPy 支持 2D 的函数图像、参数函数、隐函数图像和 3D 的函数图像、线、平面"
   ]
  },
  {
   "cell_type": "code",
   "execution_count": 86,
   "id": "e5e77073-9ad5-4bb5-b7a0-efb8c2766d49",
   "metadata": {},
   "outputs": [
    {
     "data": {
      "image/png": "[encoded data removed]",
      "text/plain": [
       "<Figure size 640x480 with 1 Axes>"
      ]
     },
     "metadata": {},
     "output_type": "display_data"
    }
   ],
   "source": [
    "p1 = plot(x**2, (x, -2, 2), show = False)\n",
    "p2 = plot(x + 1, (x, -2, 2), show = False)\n",
    "p1.append(p2[0])\n",
    "p1.show()"
   ]
  },
  {
   "cell_type": "markdown",
   "id": "7dee8353-2af5-4fd0-aa3c-be24c992bf05",
   "metadata": {},
   "source": [
    "`plot_implicit` 使用等式创建隐函数"
   ]
  },
  {
   "cell_type": "code",
   "execution_count": 87,
   "id": "5c9ef0fd-9b9e-4edb-9b6d-4b66f578e51a",
   "metadata": {},
   "outputs": [
    {
     "data": {
      "image/png": "[encoded data removed]",
      "text/plain": [
       "<Figure size 640x480 with 1 Axes>"
      ]
     },
     "metadata": {},
     "output_type": "display_data"
    },
    {
     "data": {
      "text/plain": [
       "<sympy.plotting.plot.Plot at 0x127bccd2880>"
      ]
     },
     "execution_count": 87,
     "metadata": {},
     "output_type": "execute_result"
    }
   ],
   "source": [
    "plot_implicit(Eq(x**2/3 + y**2, 5))"
   ]
  }
 ],
 "metadata": {
  "kernelspec": {
   "display_name": "Python 3 (ipykernel)",
   "language": "python",
   "name": "python3"
  },
  "language_info": {
   "codemirror_mode": {
    "name": "ipython",
    "version": 3
   },
   "file_extension": ".py",
   "mimetype": "text/x-python",
   "name": "python",
   "nbconvert_exporter": "python",
   "pygments_lexer": "ipython3",
   "version": "3.9.13"
  },
  "toc-autonumbering": true,
  "toc-showcode": false
 },
 "nbformat": 4,
 "nbformat_minor": 5
}
