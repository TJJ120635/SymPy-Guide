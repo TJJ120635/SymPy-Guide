{
 "cells": [
  {
   "cell_type": "markdown",
   "id": "d5e6568d-3715-4a9f-960f-736bb907b01d",
   "metadata": {},
   "source": [
    "**目录**：\n",
    "- [1.介绍](#介绍)\n",
    "- [2.基本符号](#基本符号)\n",
    "- [3.表达式](#表达式)\n",
    "- [4.计算](#计算)\n",
    "- [5.方程和图像](#方程和图像)"
   ]
  },
  {
   "cell_type": "markdown",
   "id": "811cc139-0f80-45d0-9922-3e845851d39c",
   "metadata": {
    "tags": []
   },
   "source": [
    "# 介绍\n",
    "\n",
    "SymPy 是一个符号计算库，它实现了一套计算机代数系统（CAS）。通过声明符号、表达式等，可以实现各种数学式的推导和计算，支持多项式、微积分、矩阵、方程等多种功能\n",
    "\n",
    "<img src=\"https://docs.sympy.org/latest/_static/sympylogo.png\" style=\"zoom:30%;\" />\n",
    "\n",
    "官方文档网址在 https://docs.sympy.org/latest/index.html\n",
    "\n",
    "要安装 SymPy，只需要使用 `conda install sympy` 或者 `pip install sympy`，然后 `import sympy` 即可\n",
    "\n",
    "与数值计算不同，符号可以更准确地表达各种数学关系。下面以符号计算的 sympy 库对比数值计算的 math 库为例，展示二者的区别"
   ]
  },
  {
   "cell_type": "code",
   "execution_count": 1,
   "id": "2e9f7236-e1cf-414c-9d64-eb55d0abc41d",
   "metadata": {
    "tags": []
   },
   "outputs": [],
   "source": [
    "import sympy\n",
    "import math\n",
    "from IPython.display import display"
   ]
  },
  {
   "cell_type": "markdown",
   "id": "ed9082bb-33f4-437f-974e-43785c0700a9",
   "metadata": {},
   "source": [
    "首先使用 math 库，打印 $\\pi$ 的值和 $\\sin(\\pi)$ 的值"
   ]
  },
  {
   "cell_type": "code",
   "execution_count": 2,
   "id": "97c524f6-1f57-45ca-845a-cdbc92fc4f52",
   "metadata": {},
   "outputs": [
    {
     "name": "stdout",
     "output_type": "stream",
     "text": [
      "3.141592653589793\n",
      "1.2246467991473532e-16\n"
     ]
    }
   ],
   "source": [
    "print(math.pi)\n",
    "print(math.sin(math.pi))"
   ]
  },
  {
   "cell_type": "markdown",
   "id": "2714b4bf-6c13-4d7f-b783-91b0233ba07d",
   "metadata": {},
   "source": [
    "打印出的结果是一定精度下的浮点数\n",
    "\n",
    "正是由于精度问题，计算出来的 $\\sin(\\pi)$ 和真实值可能会存在一定的误差"
   ]
  },
  {
   "cell_type": "markdown",
   "id": "33d5ff23-cee6-4522-be35-58c24387a11c",
   "metadata": {},
   "source": [
    "然后使用 sympy 库来进行打印"
   ]
  },
  {
   "cell_type": "code",
   "execution_count": 3,
   "id": "872f4942-c6e9-4e90-ad5c-06b26064a363",
   "metadata": {},
   "outputs": [
    {
     "name": "stdout",
     "output_type": "stream",
     "text": [
      "pi\n",
      "0\n"
     ]
    }
   ],
   "source": [
    "print(sympy.pi)\n",
    "print(sympy.sin(sympy.pi))"
   ]
  },
  {
   "cell_type": "markdown",
   "id": "59bc3f71-2b4c-495e-a416-904549aa04d4",
   "metadata": {},
   "source": [
    "打印的 $\\pi$ 值会以符号的形式展示出来\n",
    "\n",
    "并且通过符号计算的方式能够得到真实值 $\\sin(\\pi)=0$\n",
    "\n",
    "此外，sympy 库的输出对 IPython 的支持比较好，在 Jupytrer Notebook 进行打印时，能直接显示 $\\pi$ 的符号"
   ]
  },
  {
   "cell_type": "code",
   "execution_count": 4,
   "id": "8bce015c-c4c2-492b-a612-28e4f4c76e67",
   "metadata": {},
   "outputs": [
    {
     "data": {
      "text/latex": [
       "$\\displaystyle \\pi$"
      ],
      "text/plain": [
       "pi"
      ]
     },
     "metadata": {},
     "output_type": "display_data"
    }
   ],
   "source": [
    "display(sympy.pi)"
   ]
  },
  {
   "cell_type": "markdown",
   "id": "8f3c6c8f-4d70-4677-aece-1e602f31810b",
   "metadata": {},
   "source": [
    "下面再以 $\\sqrt 2$ 为例展示一下符号计算的特点\n",
    "\n",
    "使用 math 库计算根号时，会按照浮点数的方式以一定精度输出\n",
    "\n",
    "而 sympy 库的根号，则是按照符号方式来进行输出"
   ]
  },
  {
   "cell_type": "code",
   "execution_count": 5,
   "id": "49784ff2-4b7d-4fb6-a039-a5627fda1f9b",
   "metadata": {},
   "outputs": [
    {
     "data": {
      "text/plain": [
       "1.4142135623730951"
      ]
     },
     "execution_count": 5,
     "metadata": {},
     "output_type": "execute_result"
    }
   ],
   "source": [
    "math.sqrt(2)"
   ]
  },
  {
   "cell_type": "code",
   "execution_count": 6,
   "id": "59a9a8f1-c51a-42f7-8316-abd6df52681b",
   "metadata": {},
   "outputs": [
    {
     "data": {
      "text/latex": [
       "$\\displaystyle \\sqrt{2}$"
      ],
      "text/plain": [
       "sqrt(2)"
      ]
     },
     "execution_count": 6,
     "metadata": {},
     "output_type": "execute_result"
    }
   ],
   "source": [
    "sympy.sqrt(2)"
   ]
  },
  {
   "cell_type": "markdown",
   "id": "5a577590-3aab-4b6e-aa5d-af1122eb41c4",
   "metadata": {},
   "source": [
    "# 基本符号\n",
    "\n",
    "为了简洁和方便，下面使用 `import *` 的方式来导入 sympy 模块，在调用方法前就可以省略 sympy. 了"
   ]
  },
  {
   "cell_type": "code",
   "execution_count": 2,
   "id": "fa53d1bc-c351-4b41-aae1-505ba6c1a465",
   "metadata": {},
   "outputs": [],
   "source": [
    "from sympy import *"
   ]
  },
  {
   "cell_type": "markdown",
   "id": "a3dfd83d-ec10-4012-a38c-ac82d6e9ab12",
   "metadata": {},
   "source": [
    "在数学公式中使用符号前，需要从 `symbols` 方法导入英文字母和希腊字母"
   ]
  },
  {
   "cell_type": "code",
   "execution_count": 8,
   "id": "e93c2d28-2536-4ace-972e-a4a184e0d81b",
   "metadata": {},
   "outputs": [
    {
     "data": {
      "text/latex": [
       "$\\displaystyle x$"
      ],
      "text/plain": [
       "x"
      ]
     },
     "execution_count": 8,
     "metadata": {},
     "output_type": "execute_result"
    }
   ],
   "source": [
    "x = symbols('x')\n",
    "x"
   ]
  },
  {
   "cell_type": "markdown",
   "id": "3b05398c-41f9-4f8a-ae9b-dc06316995a0",
   "metadata": {},
   "source": [
    "支持同时导入多个字母，每个字母同变量名按顺序对应"
   ]
  },
  {
   "cell_type": "code",
   "execution_count": 4,
   "id": "b0443fc4-0d89-47c1-8977-600f96cf3057",
   "metadata": {},
   "outputs": [],
   "source": [
    "a, b, x, y = symbols('a b x y')\n",
    "alp, lam = symbols('alpha lamda')"
   ]
  },
  {
   "cell_type": "code",
   "execution_count": 9,
   "id": "fd77c2a0-cdae-4766-aa6b-ab67e47aeaef",
   "metadata": {},
   "outputs": [
    {
     "data": {
      "text/latex": [
       "$\\displaystyle a$"
      ],
      "text/plain": [
       "a"
      ]
     },
     "metadata": {},
     "output_type": "display_data"
    },
    {
     "data": {
      "text/latex": [
       "$\\displaystyle b$"
      ],
      "text/plain": [
       "b"
      ]
     },
     "metadata": {},
     "output_type": "display_data"
    },
    {
     "data": {
      "text/latex": [
       "$\\displaystyle x$"
      ],
      "text/plain": [
       "x"
      ]
     },
     "metadata": {},
     "output_type": "display_data"
    },
    {
     "data": {
      "text/latex": [
       "$\\displaystyle y$"
      ],
      "text/plain": [
       "y"
      ]
     },
     "metadata": {},
     "output_type": "display_data"
    },
    {
     "data": {
      "text/latex": [
       "$\\displaystyle \\alpha$"
      ],
      "text/plain": [
       "alpha"
      ]
     },
     "metadata": {},
     "output_type": "display_data"
    },
    {
     "data": {
      "text/latex": [
       "$\\displaystyle \\lambda$"
      ],
      "text/plain": [
       "lamda"
      ]
     },
     "metadata": {},
     "output_type": "display_data"
    }
   ],
   "source": [
    "display(a,b,x,y)\n",
    "display(alp,lam)"
   ]
  },
  {
   "cell_type": "markdown",
   "id": "eb98c4d7-2db1-4287-ae69-6180979ee085",
   "metadata": {},
   "source": [
    "# 表达式\n",
    "\n",
    "sympy 支持多种数学运算的表达式，并且可以对表达式进行化简、展开等不同的变形，从而实现数学推导\n",
    "\n",
    "下面以多项式和三角函数为例子"
   ]
  },
  {
   "cell_type": "code",
   "execution_count": 11,
   "id": "382293b8-310f-45fe-a1c9-d024bcb398cd",
   "metadata": {},
   "outputs": [],
   "source": [
    "x, y, z = symbols('x y z')"
   ]
  },
  {
   "cell_type": "markdown",
   "id": "3e4db1cf-0568-467b-a11e-70c787a2ed78",
   "metadata": {},
   "source": [
    "## 多项式的因式分解\n",
    "\n",
    "首先我们定义一个表达式 $3x^2y+15x^2+y+5$，并命名为 expr\n",
    "\n",
    "定义表达式只需要在等号后面书写数学表达式即可，其中幂需要用 ** 来表示，而不是 ^\n",
    "\n",
    "使用 `factor` 对表达式进行因式分解，整理成我们想要的形式"
   ]
  },
  {
   "cell_type": "code",
   "execution_count": 12,
   "id": "5b5356cb-4480-466d-ba2b-66bb06da92e0",
   "metadata": {},
   "outputs": [
    {
     "data": {
      "text/latex": [
       "$\\displaystyle 3 x^{2} y + 15 x^{2} + y + 5$"
      ],
      "text/plain": [
       "3*x**2*y + 15*x**2 + y + 5"
      ]
     },
     "metadata": {},
     "output_type": "display_data"
    },
    {
     "data": {
      "text/latex": [
       "$\\displaystyle \\left(3 x^{2} + 1\\right) \\left(y + 5\\right)$"
      ],
      "text/plain": [
       "(3*x**2 + 1)*(y + 5)"
      ]
     },
     "metadata": {},
     "output_type": "display_data"
    }
   ],
   "source": [
    "expr = 3*x**2*y + 15*x**2 + y + 5\n",
    "display(expr)\n",
    "display(expr.factor())"
   ]
  },
  {
   "cell_type": "markdown",
   "id": "b0a03568-d0e1-4b60-bc36-2ce91e3e55f6",
   "metadata": {},
   "source": [
    "## 多项式的展开\n",
    "\n",
    "我们再以 x 和 z 两个变量书写一个表达式\n",
    "\n",
    "使用 `expand`，将多项式进行展开\n",
    "\n",
    "使用 `collect`，将多项式整理成 $z$ 的幂的形式"
   ]
  },
  {
   "cell_type": "code",
   "execution_count": 13,
   "id": "7c785881-9c33-4ac8-95c3-c71fa4f7aa93",
   "metadata": {},
   "outputs": [
    {
     "data": {
      "text/latex": [
       "$\\displaystyle \\left(2 x + 3 + \\frac{1}{z}\\right)^{3}$"
      ],
      "text/plain": [
       "(2*x + 3 + 1/z)**3"
      ]
     },
     "metadata": {},
     "output_type": "display_data"
    },
    {
     "data": {
      "text/latex": [
       "$\\displaystyle 8 x^{3} + 36 x^{2} + \\frac{12 x^{2}}{z} + 54 x + \\frac{36 x}{z} + \\frac{6 x}{z^{2}} + 27 + \\frac{27}{z} + \\frac{9}{z^{2}} + \\frac{1}{z^{3}}$"
      ],
      "text/plain": [
       "8*x**3 + 36*x**2 + 12*x**2/z + 54*x + 36*x/z + 6*x/z**2 + 27 + 27/z + 9/z**2 + z**(-3)"
      ]
     },
     "metadata": {},
     "output_type": "display_data"
    },
    {
     "data": {
      "text/latex": [
       "$\\displaystyle 8 x^{3} + 36 x^{2} + 54 x + 27 + \\frac{12 x^{2} + 36 x + 27}{z} + \\frac{6 x + 9}{z^{2}} + \\frac{1}{z^{3}}$"
      ],
      "text/plain": [
       "8*x**3 + 36*x**2 + 54*x + 27 + (12*x**2 + 36*x + 27)/z + (6*x + 9)/z**2 + z**(-3)"
      ]
     },
     "metadata": {},
     "output_type": "display_data"
    }
   ],
   "source": [
    "expr = (2*x + 3 + 1/z)**3\n",
    "display(expr)\n",
    "display(expr.expand())\n",
    "display(collect(expr.expand(), z))"
   ]
  },
  {
   "cell_type": "markdown",
   "id": "a06ab796-cf39-4bf1-a6bf-5c4b4bf74325",
   "metadata": {},
   "source": [
    "## 三角函数的化简\n",
    "\n",
    "除了多项式的 `factor`, `expand`, `collect` 等方法以外，不同类型的表达式会有不同的变形方法\n",
    "\n",
    "而 `simplify` 则是对各种表达式都通用的一种自动化简方法\n",
    "\n",
    "下面以三角函数的化简为例子"
   ]
  },
  {
   "cell_type": "code",
   "execution_count": 14,
   "id": "e2f5d435-d86f-4ae7-b4dd-6c0da7b642fd",
   "metadata": {},
   "outputs": [
    {
     "data": {
      "text/latex": [
       "$\\displaystyle \\sin^{4}{\\left(x \\right)} - 2 \\sin^{2}{\\left(x \\right)} \\cos^{2}{\\left(x \\right)} + \\cos^{4}{\\left(x \\right)}$"
      ],
      "text/plain": [
       "sin(x)**4 - 2*sin(x)**2*cos(x)**2 + cos(x)**4"
      ]
     },
     "metadata": {},
     "output_type": "display_data"
    },
    {
     "data": {
      "text/latex": [
       "$\\displaystyle \\frac{\\cos{\\left(4 x \\right)}}{2} + \\frac{1}{2}$"
      ],
      "text/plain": [
       "cos(4*x)/2 + 1/2"
      ]
     },
     "metadata": {},
     "output_type": "display_data"
    }
   ],
   "source": [
    "expr = sin(x)**4 - 2*cos(x)**2*sin(x)**2 + cos(x)**4\n",
    "display(expr)\n",
    "display(simplify(expr))"
   ]
  },
  {
   "cell_type": "markdown",
   "id": "7f4587e8-7faf-48b1-9f61-633243c262b6",
   "metadata": {},
   "source": [
    "# 计算\n",
    "\n",
    "除了对表达式的变形以外，sympy 可以计算表达式的结果，并且支持微积分等复杂的运算方法"
   ]
  },
  {
   "cell_type": "markdown",
   "id": "39644b8b-f817-40d4-a54b-8866e534328e",
   "metadata": {},
   "source": [
    "## 多项式的计算\n",
    "\n",
    "在前面我们已经了解了表达式的定义\n",
    "\n",
    "接下来首先声明一个多项式"
   ]
  },
  {
   "cell_type": "code",
   "execution_count": 15,
   "id": "390814f8-d2d2-4a41-808f-a015d2925fd5",
   "metadata": {},
   "outputs": [
    {
     "data": {
      "text/latex": [
       "$\\displaystyle 3 x^{2} y + 15 x^{2} + y + 5$"
      ],
      "text/plain": [
       "3*x**2*y + 15*x**2 + y + 5"
      ]
     },
     "execution_count": 15,
     "metadata": {},
     "output_type": "execute_result"
    }
   ],
   "source": [
    "expr = 3*x**2*y + 15*x**2 + y + 5\n",
    "expr"
   ]
  },
  {
   "cell_type": "markdown",
   "id": "cc745ba1-7e93-4bb1-b3c6-10c1667a78f7",
   "metadata": {},
   "source": [
    "要进行计算，则使用 `subs` 方法，将多项式里的符号替换为具体的数值\n",
    "\n",
    "如果赋值 $x=2$，会将 $x$ 替换掉，原式变成了 $y$ 的表达式\n",
    "\n",
    "如果赋值 $x=2,y=3$，则会将得到计算的数值结果"
   ]
  },
  {
   "cell_type": "code",
   "execution_count": 16,
   "id": "ccb4a3ec-0f74-4f76-beca-42cb78fc1c60",
   "metadata": {},
   "outputs": [
    {
     "data": {
      "text/latex": [
       "$\\displaystyle 13 y + 65$"
      ],
      "text/plain": [
       "13*y + 65"
      ]
     },
     "metadata": {},
     "output_type": "display_data"
    },
    {
     "data": {
      "text/latex": [
       "$\\displaystyle 104$"
      ],
      "text/plain": [
       "104"
      ]
     },
     "metadata": {},
     "output_type": "display_data"
    }
   ],
   "source": [
    "display(expr.subs([(x, 2)]))\n",
    "display(expr.subs([(x, 2), (y, 3)]))"
   ]
  },
  {
   "cell_type": "markdown",
   "id": "02fcfd56-e3bf-41b5-8a0d-f07f43920d5a",
   "metadata": {},
   "source": [
    "## 极限的计算\n",
    "\n",
    "我们首先声明一个 $\\frac{\\sin(x)}{x}$ 的表达式"
   ]
  },
  {
   "cell_type": "code",
   "execution_count": 17,
   "id": "c6d20a56-0e6e-40a9-b042-9e8d7eb118dd",
   "metadata": {},
   "outputs": [],
   "source": [
    "expr = sin(x)/x"
   ]
  },
  {
   "cell_type": "markdown",
   "id": "2e63f009-dc4e-42bc-9773-d512a6955f28",
   "metadata": {},
   "source": [
    " 使用大写的 `Limit`，可以列出 $x\\rightarrow 0$ 时的极限表达式\n",
    " \n",
    " 而使用小写的 `limit`，则会对极限进行计算，得到结果\n",
    " \n",
    " 需要有方向符号 '-'/'+'/'+-' 来指定左极限或右极限，默认为 '+'"
   ]
  },
  {
   "cell_type": "code",
   "execution_count": 18,
   "id": "c7200752-ef6f-444e-9d03-064a47860d71",
   "metadata": {},
   "outputs": [
    {
     "data": {
      "text/latex": [
       "$\\displaystyle \\frac{\\sin{\\left(x \\right)}}{x}$"
      ],
      "text/plain": [
       "sin(x)/x"
      ]
     },
     "metadata": {},
     "output_type": "display_data"
    },
    {
     "data": {
      "text/latex": [
       "$\\displaystyle \\lim_{x \\to 0}\\left(\\frac{\\sin{\\left(x \\right)}}{x}\\right)$"
      ],
      "text/plain": [
       "Limit(sin(x)/x, x, 0, dir='+-')"
      ]
     },
     "metadata": {},
     "output_type": "display_data"
    },
    {
     "data": {
      "text/latex": [
       "$\\displaystyle 1$"
      ],
      "text/plain": [
       "1"
      ]
     },
     "metadata": {},
     "output_type": "display_data"
    }
   ],
   "source": [
    "display(expr)\n",
    "display(Limit(expr, x, 0, '+-'))\n",
    "display(limit(expr, x, 0))"
   ]
  },
  {
   "cell_type": "code",
   "execution_count": 19,
   "id": "c9a9a03b-b6d4-48bb-b341-fd95b3ed27e3",
   "metadata": {},
   "outputs": [
    {
     "data": {
      "text/latex": [
       "$\\displaystyle \\frac{1}{x}$"
      ],
      "text/plain": [
       "1/x"
      ]
     },
     "metadata": {},
     "output_type": "display_data"
    },
    {
     "data": {
      "text/latex": [
       "$\\displaystyle -\\infty$"
      ],
      "text/plain": [
       "-oo"
      ]
     },
     "metadata": {},
     "output_type": "display_data"
    },
    {
     "data": {
      "text/latex": [
       "$\\displaystyle \\infty$"
      ],
      "text/plain": [
       "oo"
      ]
     },
     "metadata": {},
     "output_type": "display_data"
    }
   ],
   "source": [
    "display(1/x)\n",
    "display(limit(1/x, x, 0, '-'))\n",
    "display(limit(1/x, x, 0, '+'))"
   ]
  },
  {
   "cell_type": "markdown",
   "id": "b3a0b593-58ef-4b17-a9a8-251b3b326bc0",
   "metadata": {},
   "source": [
    "## 微分的计算"
   ]
  },
  {
   "cell_type": "markdown",
   "id": "9fa24fc4-9efa-4240-ad9d-d6745984901f",
   "metadata": {},
   "source": [
    "我们首先声明一个 $2x+\\log(x^2+1)$ 的表达式"
   ]
  },
  {
   "cell_type": "code",
   "execution_count": 20,
   "id": "c6557bf1-893e-4d07-92ea-9704aa9ea321",
   "metadata": {},
   "outputs": [],
   "source": [
    "expr = log(x**2 + 1) + 2 * x"
   ]
  },
  {
   "cell_type": "markdown",
   "id": "ef6983b6-267a-4bff-8f3a-c3b4c05251b4",
   "metadata": {},
   "source": [
    "使用 `diff`，对导数进行计算\n",
    "\n",
    "在表达式后面指定求导的符号和次数"
   ]
  },
  {
   "cell_type": "code",
   "execution_count": 21,
   "id": "b2a668e2-2ab6-4a47-865e-163496027921",
   "metadata": {},
   "outputs": [
    {
     "data": {
      "text/latex": [
       "$\\displaystyle 2 x + \\log{\\left(x^{2} + 1 \\right)}$"
      ],
      "text/plain": [
       "2*x + log(x**2 + 1)"
      ]
     },
     "metadata": {},
     "output_type": "display_data"
    },
    {
     "data": {
      "text/latex": [
       "$\\displaystyle \\frac{2 x}{x^{2} + 1} + 2$"
      ],
      "text/plain": [
       "2*x/(x**2 + 1) + 2"
      ]
     },
     "metadata": {},
     "output_type": "display_data"
    },
    {
     "data": {
      "text/latex": [
       "$\\displaystyle \\frac{2 \\left(- \\frac{2 x^{2}}{x^{2} + 1} + 1\\right)}{x^{2} + 1}$"
      ],
      "text/plain": [
       "2*(-2*x**2/(x**2 + 1) + 1)/(x**2 + 1)"
      ]
     },
     "metadata": {},
     "output_type": "display_data"
    },
    {
     "data": {
      "text/latex": [
       "$\\displaystyle \\frac{4 x \\left(\\frac{4 x^{2}}{x^{2} + 1} - 3\\right)}{\\left(x^{2} + 1\\right)^{2}}$"
      ],
      "text/plain": [
       "4*x*(4*x**2/(x**2 + 1) - 3)/(x**2 + 1)**2"
      ]
     },
     "metadata": {},
     "output_type": "display_data"
    }
   ],
   "source": [
    "display(expr)\n",
    "display(diff(expr))\n",
    "display(diff(expr, x, x))\n",
    "display(diff(expr, x, 3))"
   ]
  },
  {
   "cell_type": "markdown",
   "id": "31a08ebe-161c-4425-87b7-9d9818a29bb4",
   "metadata": {},
   "source": [
    "在多元函数中，结合多个符号指定偏导数"
   ]
  },
  {
   "cell_type": "code",
   "execution_count": 22,
   "id": "75082d07-6910-4424-b89a-acf7d23e93a7",
   "metadata": {},
   "outputs": [
    {
     "data": {
      "text/latex": [
       "$\\displaystyle x^{3} y^{3}$"
      ],
      "text/plain": [
       "x**3*y**3"
      ]
     },
     "metadata": {},
     "output_type": "display_data"
    },
    {
     "data": {
      "text/latex": [
       "$\\displaystyle 9 x^{2} y^{2}$"
      ],
      "text/plain": [
       "9*x**2*y**2"
      ]
     },
     "metadata": {},
     "output_type": "display_data"
    },
    {
     "data": {
      "text/latex": [
       "$\\displaystyle 6 x^{3} y$"
      ],
      "text/plain": [
       "6*x**3*y"
      ]
     },
     "metadata": {},
     "output_type": "display_data"
    }
   ],
   "source": [
    "display(x**3*y**3)\n",
    "display(diff(x**3*y**3, x, y))\n",
    "display(diff(x**3*y**3, y, 2))"
   ]
  },
  {
   "cell_type": "markdown",
   "id": "f07dddfc-0255-44e1-81d5-c3dd71b6d03f",
   "metadata": {},
   "source": [
    "## 积分的计算\n",
    "\n",
    "我们首先定义一个 $\\sin(x)$ 的表达式"
   ]
  },
  {
   "cell_type": "code",
   "execution_count": 23,
   "id": "8ee7efdb-2f1e-4ce4-a4a5-38d2c43777f7",
   "metadata": {},
   "outputs": [],
   "source": [
    "expr = sin(x)"
   ]
  },
  {
   "cell_type": "markdown",
   "id": "079b88f9-7a2c-4c12-ac6f-b7a8b29e1c20",
   "metadata": {},
   "source": [
    "使用 `integrate`，计算积分的结果\n",
    "\n",
    "除了不定积分，还可以指定范围，计算定积分"
   ]
  },
  {
   "cell_type": "code",
   "execution_count": 24,
   "id": "54642b88-7606-4683-b796-c385b4ca88ac",
   "metadata": {},
   "outputs": [
    {
     "data": {
      "text/latex": [
       "$\\displaystyle \\sin{\\left(x \\right)}$"
      ],
      "text/plain": [
       "sin(x)"
      ]
     },
     "metadata": {},
     "output_type": "display_data"
    },
    {
     "data": {
      "text/latex": [
       "$\\displaystyle - \\cos{\\left(x \\right)}$"
      ],
      "text/plain": [
       "-cos(x)"
      ]
     },
     "metadata": {},
     "output_type": "display_data"
    },
    {
     "data": {
      "text/latex": [
       "$\\displaystyle 2$"
      ],
      "text/plain": [
       "2"
      ]
     },
     "metadata": {},
     "output_type": "display_data"
    }
   ],
   "source": [
    "display(expr)\n",
    "display(integrate(expr))\n",
    "display(integrate(expr, (x, 0, pi)))"
   ]
  },
  {
   "cell_type": "markdown",
   "id": "cea004f0-3228-4983-bd42-dfc366d911f9",
   "metadata": {},
   "source": [
    "# 方程和图像\n",
    "\n",
    "sympy 还支持多元一次方程、线性/非线性方程组、微分方程等求解，并且可以通过画图展示函数的图像\n",
    "\n",
    "首先定义两个表达式 $2x+y$ 和 $2y-x-5$\n",
    "\n",
    "使用 `solve` 方法来求多元一次方程的解"
   ]
  },
  {
   "cell_type": "code",
   "execution_count": 25,
   "id": "36475f2d-2dd1-4585-8dc0-0bd3dad9178f",
   "metadata": {},
   "outputs": [
    {
     "data": {
      "text/plain": [
       "{x: -1, y: 2}"
      ]
     },
     "execution_count": 25,
     "metadata": {},
     "output_type": "execute_result"
    }
   ],
   "source": [
    "expr1 = 2*x + y\n",
    "expr2 = 2*y - x - 5\n",
    "solve([expr1, expr2], (x, y))"
   ]
  },
  {
   "cell_type": "markdown",
   "id": "793be46b-a44d-47ef-92a7-2bb7c9db24cc",
   "metadata": {},
   "source": [
    "使用 `plot` 画出一元二次方程的图像，`solve` 来求解"
   ]
  },
  {
   "cell_type": "code",
   "execution_count": 26,
   "id": "c93823f2-b0c1-4592-912b-6dae718701e5",
   "metadata": {},
   "outputs": [
    {
     "data": {
      "image/png": "[encoded data removed]",
      "text/latex": [
       "$\\displaystyle \\left[ 0, \\  \\pi\\right]$"
      ],
      "text/plain": [
       "[0, π]"
      ]
     },
     "metadata": {},
     "output_type": "display_data"
    },
    {
     "data": {
      "image/png": "[encoded data removed]",
      "text/plain": [
       "<Figure size 640x480 with 1 Axes>"
      ]
     },
     "metadata": {},
     "output_type": "display_data"
    },
    {
     "data": {
      "text/plain": [
       "<sympy.plotting.plot.Plot at 0x1dc2936ccd0>"
      ]
     },
     "execution_count": 26,
     "metadata": {},
     "output_type": "execute_result"
    }
   ],
   "source": [
    "init_printing()\n",
    "display(solve(expr))\n",
    "\n",
    "import matplotlib\n",
    "%matplotlib inline\n",
    "expr = x**2 - 2 \n",
    "plot(expr, (x, -2, 2))"
   ]
  },
  {
   "cell_type": "markdown",
   "id": "461dce30-cfeb-4a52-b4fb-eae3f09539d3",
   "metadata": {},
   "source": [
    "## 矩阵\n",
    "\n",
    "sympy 还支持矩阵的变形和计算等操作，支持线性代数的计算\n",
    "\n",
    "首先构造一个矩阵"
   ]
  },
  {
   "cell_type": "code",
   "execution_count": 27,
   "id": "ebd4c02c-89b6-4b3c-af26-b82bd178fe58",
   "metadata": {},
   "outputs": [
    {
     "data": {
      "text/latex": [
       "$\\displaystyle \\left[\\begin{matrix}3 & -2 & 4 & -2\\\\5 & 3 & -3 & -2\\\\5 & -2 & 2 & -2\\\\5 & -2 & -3 & 3\\end{matrix}\\right]$"
      ],
      "text/plain": [
       "⎡3  -2  4   -2⎤\n",
       "⎢             ⎥\n",
       "⎢5  3   -3  -2⎥\n",
       "⎢             ⎥\n",
       "⎢5  -2  2   -2⎥\n",
       "⎢             ⎥\n",
       "⎣5  -2  -3  3 ⎦"
      ]
     },
     "execution_count": 27,
     "metadata": {},
     "output_type": "execute_result"
    }
   ],
   "source": [
    "mat = Matrix([[3, -2,  4, -2], [5,  3, -3, -2], [5, -2,  2, -2], [5, -2, -3,  3]])\n",
    "mat"
   ]
  },
  {
   "cell_type": "markdown",
   "id": "04bb11f1-241a-4af9-93dd-3a33f25ddd13",
   "metadata": {},
   "source": [
    "将矩阵进行转置"
   ]
  },
  {
   "cell_type": "code",
   "execution_count": 28,
   "id": "47a225d4-095f-4f98-b2b3-da686320b646",
   "metadata": {},
   "outputs": [
    {
     "data": {
      "text/latex": [
       "$\\displaystyle \\left[\\begin{matrix}3 & 5 & 5 & 5\\\\-2 & 3 & -2 & -2\\\\4 & -3 & 2 & -3\\\\-2 & -2 & -2 & 3\\end{matrix}\\right]$"
      ],
      "text/plain": [
       "⎡3   5   5   5 ⎤\n",
       "⎢              ⎥\n",
       "⎢-2  3   -2  -2⎥\n",
       "⎢              ⎥\n",
       "⎢4   -3  2   -3⎥\n",
       "⎢              ⎥\n",
       "⎣-2  -2  -2  3 ⎦"
      ]
     },
     "execution_count": 28,
     "metadata": {},
     "output_type": "execute_result"
    }
   ],
   "source": [
    "mat.T"
   ]
  },
  {
   "cell_type": "markdown",
   "id": "94dfe5f9-c43c-408f-b4d0-2fb0ae758cba",
   "metadata": {},
   "source": [
    "计算矩阵的行列式"
   ]
  },
  {
   "cell_type": "code",
   "execution_count": 29,
   "id": "3a26d4d7-a594-44eb-91ba-74dda165b43b",
   "metadata": {},
   "outputs": [
    {
     "data": {
      "image/png": "[encoded data removed]",
      "text/latex": [
       "$\\displaystyle -150$"
      ],
      "text/plain": [
       "-150"
      ]
     },
     "execution_count": 29,
     "metadata": {},
     "output_type": "execute_result"
    }
   ],
   "source": [
    "mat.det()"
   ]
  },
  {
   "cell_type": "markdown",
   "id": "0cc2b44e-5d8c-414b-9ff4-3abd0145a21b",
   "metadata": {},
   "source": [
    "计算矩阵的特征值和特征向量\n",
    "\n",
    "在这个例子中，一共有 -2,3,5 三个特征值，其中特征值 5 对应了 2 个特征向量"
   ]
  },
  {
   "cell_type": "code",
   "execution_count": 30,
   "id": "53d4ee92-db1f-4138-a24a-7f113ef6ea16",
   "metadata": {},
   "outputs": [
    {
     "data": {
      "text/latex": [
       "$\\displaystyle \\left[ \\left( -2, \\  1, \\  \\left[ \\left[\\begin{matrix}0\\\\1\\\\1\\\\1\\end{matrix}\\right]\\right]\\right), \\  \\left( 3, \\  1, \\  \\left[ \\left[\\begin{matrix}1\\\\1\\\\1\\\\1\\end{matrix}\\right]\\right]\\right), \\  \\left( 5, \\  2, \\  \\left[ \\left[\\begin{matrix}1\\\\1\\\\1\\\\0\\end{matrix}\\right], \\  \\left[\\begin{matrix}0\\\\-1\\\\0\\\\1\\end{matrix}\\right]\\right]\\right)\\right]$"
      ],
      "text/plain": [
       "⎡⎛       ⎡⎡0⎤⎤⎞  ⎛      ⎡⎡1⎤⎤⎞  ⎛      ⎡⎡1⎤  ⎡0 ⎤⎤⎞⎤\n",
       "⎢⎜       ⎢⎢ ⎥⎥⎟  ⎜      ⎢⎢ ⎥⎥⎟  ⎜      ⎢⎢ ⎥  ⎢  ⎥⎥⎟⎥\n",
       "⎢⎜       ⎢⎢1⎥⎥⎟  ⎜      ⎢⎢1⎥⎥⎟  ⎜      ⎢⎢1⎥  ⎢-1⎥⎥⎟⎥\n",
       "⎢⎜-2, 1, ⎢⎢ ⎥⎥⎟, ⎜3, 1, ⎢⎢ ⎥⎥⎟, ⎜5, 2, ⎢⎢ ⎥, ⎢  ⎥⎥⎟⎥\n",
       "⎢⎜       ⎢⎢1⎥⎥⎟  ⎜      ⎢⎢1⎥⎥⎟  ⎜      ⎢⎢1⎥  ⎢0 ⎥⎥⎟⎥\n",
       "⎢⎜       ⎢⎢ ⎥⎥⎟  ⎜      ⎢⎢ ⎥⎥⎟  ⎜      ⎢⎢ ⎥  ⎢  ⎥⎥⎟⎥\n",
       "⎣⎝       ⎣⎣1⎦⎦⎠  ⎝      ⎣⎣1⎦⎦⎠  ⎝      ⎣⎣0⎦  ⎣1 ⎦⎦⎠⎦"
      ]
     },
     "execution_count": 30,
     "metadata": {},
     "output_type": "execute_result"
    }
   ],
   "source": [
    "init_printing(use_unicode=True)\n",
    "mat.eigenvects()"
   ]
  },
  {
   "cell_type": "markdown",
   "id": "2e8451d5-facd-4203-bdaf-cb8c64cb936b",
   "metadata": {},
   "source": [
    "除此以外，sympy 还支持矩阵的上三角化、对角化、加减、幂等操作，这里不做过多展示"
   ]
  }
 ],
 "metadata": {
  "kernelspec": {
   "display_name": "Python 3 (ipykernel)",
   "language": "python",
   "name": "python3"
  },
  "language_info": {
   "codemirror_mode": {
    "name": "ipython",
    "version": 3
   },
   "file_extension": ".py",
   "mimetype": "text/x-python",
   "name": "python",
   "nbconvert_exporter": "python",
   "pygments_lexer": "ipython3",
   "version": "3.9.13"
  },
  "toc-autonumbering": true,
  "toc-showcode": false,
  "toc-showmarkdowntxt": false,
  "toc-showtags": false
 },
 "nbformat": 4,
 "nbformat_minor": 5
}
