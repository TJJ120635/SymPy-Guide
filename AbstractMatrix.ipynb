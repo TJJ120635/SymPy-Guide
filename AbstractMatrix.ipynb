{
 "cells": [
  {
   "cell_type": "code",
   "execution_count": 1,
   "id": "4eb049fb-ef49-415e-b0d0-d4cf7fb1aceb",
   "metadata": {},
   "outputs": [],
   "source": [
    "from sympy import *"
   ]
  },
  {
   "cell_type": "markdown",
   "id": "8d2f05da-58b5-4116-8ef5-aefa3b07494f",
   "metadata": {},
   "source": [
    "# 1. $\\dfrac{\\partial{\\textbf x^\\top \\textbf a}}{\\partial{\\textbf x}}=\\textbf a$"
   ]
  },
  {
   "cell_type": "code",
   "execution_count": 2,
   "id": "b5acdfab-f38b-4817-b4c6-239ef86921e4",
   "metadata": {},
   "outputs": [],
   "source": [
    "m, n = symbols('m n')\n",
    "x = MatrixSymbol('x', m, 1)\n",
    "a = MatrixSymbol('a', m, 1)"
   ]
  },
  {
   "cell_type": "code",
   "execution_count": 3,
   "id": "630d27b6-60b6-4655-84e5-2aa409a58e7c",
   "metadata": {},
   "outputs": [
    {
     "data": {
      "text/latex": [
       "$\\displaystyle x^{T} a$"
      ],
      "text/plain": [
       "x.T*a"
      ]
     },
     "execution_count": 3,
     "metadata": {},
     "output_type": "execute_result"
    }
   ],
   "source": [
    "expr = x.T * a\n",
    "expr"
   ]
  },
  {
   "cell_type": "code",
   "execution_count": 4,
   "id": "598031e9-0e12-419a-ba8a-b21b4f19e37d",
   "metadata": {},
   "outputs": [
    {
     "data": {
      "text/latex": [
       "$\\displaystyle \\frac{\\partial}{\\partial x} x^{T} a$"
      ],
      "text/plain": [
       "Derivative(x.T*a, x)"
      ]
     },
     "execution_count": 4,
     "metadata": {},
     "output_type": "execute_result"
    }
   ],
   "source": [
    "d = diff(expr, x, evaluate = False)\n",
    "d"
   ]
  },
  {
   "cell_type": "code",
   "execution_count": 5,
   "id": "71985a9c-814b-4464-a866-6dbf5077cbfd",
   "metadata": {},
   "outputs": [
    {
     "data": {
      "text/latex": [
       "$\\displaystyle a$"
      ],
      "text/plain": [
       "a"
      ]
     },
     "execution_count": 5,
     "metadata": {},
     "output_type": "execute_result"
    }
   ],
   "source": [
    "d = d.doit()\n",
    "d"
   ]
  },
  {
   "cell_type": "markdown",
   "id": "3d3f59c4-5603-406d-8036-6fb9ddb37861",
   "metadata": {},
   "source": [
    "得到了一个抽象的 $\\textbf a$，而不是具体形式的向量"
   ]
  },
  {
   "cell_type": "markdown",
   "id": "3818674c-429d-401f-894c-40fc6ab26383",
   "metadata": {},
   "source": [
    "# 2.$\\dfrac{\\partial{\\textbf a^\\top \\textbf X \\textbf b}}{\\partial{\\textbf X}}=\\textbf a \\textbf b^\\top$"
   ]
  },
  {
   "cell_type": "markdown",
   "id": "76373e1d-0464-473f-9e4a-8ed42cf54689",
   "metadata": {},
   "source": [
    "矩阵的大小可以像上面一样写成符号\n",
    "\n",
    "这里指定了具体的数，才能可视化打印出来"
   ]
  },
  {
   "cell_type": "code",
   "execution_count": 6,
   "id": "4e0b31a9-4cd4-4111-88ef-6d782deb7fd7",
   "metadata": {},
   "outputs": [],
   "source": [
    "X = MatrixSymbol('X', 2, 3) # 'X', m, n\n",
    "a = MatrixSymbol('a', 2, 1) # 'a', m, 1\n",
    "b = MatrixSymbol('b', 3, 1) # 'X', n, 1"
   ]
  },
  {
   "cell_type": "code",
   "execution_count": 7,
   "id": "92c2cb7b-b32e-4211-8055-ab37d4848cdb",
   "metadata": {},
   "outputs": [
    {
     "data": {
      "text/latex": [
       "$\\displaystyle a^{T} X b$"
      ],
      "text/plain": [
       "a.T*X*b"
      ]
     },
     "execution_count": 7,
     "metadata": {},
     "output_type": "execute_result"
    }
   ],
   "source": [
    "expr = a.T * X * b\n",
    "expr"
   ]
  },
  {
   "cell_type": "code",
   "execution_count": 8,
   "id": "c34bc3c0-e542-4eae-a366-526d500c75d3",
   "metadata": {},
   "outputs": [
    {
     "data": {
      "text/latex": [
       "$\\displaystyle \\frac{\\partial}{\\partial X} a^{T} X b$"
      ],
      "text/plain": [
       "Derivative(a.T*X*b, X)"
      ]
     },
     "execution_count": 8,
     "metadata": {},
     "output_type": "execute_result"
    }
   ],
   "source": [
    "d = diff(expr, X, evaluate = False)\n",
    "d"
   ]
  },
  {
   "cell_type": "code",
   "execution_count": 9,
   "id": "294cdfaf-9330-4e34-980b-cf3d69a08f50",
   "metadata": {},
   "outputs": [
    {
     "data": {
      "text/latex": [
       "$\\displaystyle \\operatorname{PermuteDims}\\left(\\operatorname{ArrayTensorProduct}\\left(a, b\\right), \\left( 1\\; 2\\right)\\left( 3\\right)\\right)$"
      ],
      "text/plain": [
       "PermuteDims(ArrayTensorProduct(a, b), (3)(1 2))"
      ]
     },
     "execution_count": 9,
     "metadata": {},
     "output_type": "execute_result"
    }
   ],
   "source": [
    "d = d.doit()\n",
    "d"
   ]
  },
  {
   "cell_type": "markdown",
   "id": "2d74b06b-bfd7-4493-9b74-3bcd3ef671c1",
   "metadata": {},
   "source": [
    "这里的 `ArrayTensorProduct(a, b)` 就是 a 和 b 的 Tensor 乘法，得到一个 (2, 1, 3, 1) 的数组\n",
    "\n",
    "相当于 $ab^\\top$\n",
    "\n",
    "然后使用 `PermuteDims` 将数组整理成 (2, 3, 1, 1)"
   ]
  },
  {
   "cell_type": "code",
   "execution_count": 10,
   "id": "7c4ed404-7ab2-4808-8b4a-43266fe9ff4f",
   "metadata": {},
   "outputs": [
    {
     "data": {
      "text/latex": [
       "$\\displaystyle \\left[\\begin{matrix}\\left[\\left[\\begin{matrix}a_{0, 0} b_{0, 0}\\end{matrix}\\right]\\right] & \\left[\\left[\\begin{matrix}a_{0, 0} b_{1, 0}\\end{matrix}\\right]\\right] & \\left[\\left[\\begin{matrix}a_{0, 0} b_{2, 0}\\end{matrix}\\right]\\right]\\\\\\left[\\left[\\begin{matrix}a_{1, 0} b_{0, 0}\\end{matrix}\\right]\\right] & \\left[\\left[\\begin{matrix}a_{1, 0} b_{1, 0}\\end{matrix}\\right]\\right] & \\left[\\left[\\begin{matrix}a_{1, 0} b_{2, 0}\\end{matrix}\\right]\\right]\\end{matrix}\\right]$"
      ],
      "text/plain": [
       "[[[[a[0, 0]*b[0, 0]]], [[a[0, 0]*b[1, 0]]], [[a[0, 0]*b[2, 0]]]], [[[a[1, 0]*b[0, 0]]], [[a[1, 0]*b[1, 0]]], [[a[1, 0]*b[2, 0]]]]]"
      ]
     },
     "execution_count": 10,
     "metadata": {},
     "output_type": "execute_result"
    }
   ],
   "source": [
    "d.as_explicit()"
   ]
  },
  {
   "cell_type": "markdown",
   "id": "20145737-6b23-45ba-92ff-03ada7fcd11a",
   "metadata": {},
   "source": [
    "用 `reshape` 转成二维矩阵"
   ]
  },
  {
   "cell_type": "code",
   "execution_count": 11,
   "id": "ed4d5c3d-1e10-4856-8114-64bdabab2508",
   "metadata": {},
   "outputs": [
    {
     "data": {
      "text/latex": [
       "$\\displaystyle \\left[\\begin{matrix}a_{0, 0} b_{0, 0} & a_{0, 0} b_{1, 0} & a_{0, 0} b_{2, 0}\\\\a_{1, 0} b_{0, 0} & a_{1, 0} b_{1, 0} & a_{1, 0} b_{2, 0}\\end{matrix}\\right]$"
      ],
      "text/plain": [
       "[[a[0, 0]*b[0, 0], a[0, 0]*b[1, 0], a[0, 0]*b[2, 0]], [a[1, 0]*b[0, 0], a[1, 0]*b[1, 0], a[1, 0]*b[2, 0]]]"
      ]
     },
     "execution_count": 11,
     "metadata": {},
     "output_type": "execute_result"
    }
   ],
   "source": [
    "d.as_explicit().reshape(2,3)"
   ]
  },
  {
   "cell_type": "markdown",
   "id": "bfd81324-87ab-4bdd-8732-f26803a6c3db",
   "metadata": {},
   "source": [
    "# 3.$\\dfrac{\\partial{\\textbf a^\\top \\textbf X^\\top \\textbf b}}{\\partial{\\textbf X}}=\\textbf b \\textbf a^\\top$"
   ]
  },
  {
   "cell_type": "code",
   "execution_count": 12,
   "id": "b13e2c6e-54f0-42f5-bf55-52de223980ee",
   "metadata": {},
   "outputs": [],
   "source": [
    "X = MatrixSymbol('X', 3, 2) # 'X', n, m\n",
    "a = MatrixSymbol('a', 2, 1) # 'a', m, 1\n",
    "b = MatrixSymbol('b', 3, 1) # 'X', n, 1"
   ]
  },
  {
   "cell_type": "code",
   "execution_count": 13,
   "id": "77fdd883-e203-4c83-8660-e083aa635a77",
   "metadata": {},
   "outputs": [
    {
     "data": {
      "text/latex": [
       "$\\displaystyle a^{T} X^{T} b$"
      ],
      "text/plain": [
       "a.T*X.T*b"
      ]
     },
     "execution_count": 13,
     "metadata": {},
     "output_type": "execute_result"
    }
   ],
   "source": [
    "expr = a.T * X.T * b\n",
    "expr"
   ]
  },
  {
   "cell_type": "code",
   "execution_count": 14,
   "id": "1ecaa9b8-c432-486e-af5b-f40940fce1c1",
   "metadata": {},
   "outputs": [
    {
     "data": {
      "text/latex": [
       "$\\displaystyle \\frac{\\partial}{\\partial X} a^{T} X^{T} b$"
      ],
      "text/plain": [
       "Derivative(a.T*X.T*b, X)"
      ]
     },
     "execution_count": 14,
     "metadata": {},
     "output_type": "execute_result"
    }
   ],
   "source": [
    "d = diff(expr, X, evaluate = False)\n",
    "d"
   ]
  },
  {
   "cell_type": "code",
   "execution_count": 15,
   "id": "fae251c8-6d6d-43b2-9c64-f6d90d3e3345",
   "metadata": {},
   "outputs": [
    {
     "data": {
      "text/latex": [
       "$\\displaystyle \\operatorname{PermuteDims}\\left(\\operatorname{ArrayTensorProduct}\\left(b, a\\right), \\left( 1\\; 2\\; 3\\right)\\right)$"
      ],
      "text/plain": [
       "PermuteDims(ArrayTensorProduct(b, a), (1 2 3))"
      ]
     },
     "execution_count": 15,
     "metadata": {},
     "output_type": "execute_result"
    }
   ],
   "source": [
    "d = d.doit()\n",
    "d"
   ]
  },
  {
   "cell_type": "markdown",
   "id": "d9cc0893-0000-44b1-8673-821c9e93db0a",
   "metadata": {},
   "source": [
    "这里变成了 `ArrayTensorProduct(b, a)`\n",
    "\n",
    "相当于 $ba^\\top$\n",
    "\n",
    "和上面的 `ArrayTensorProduct(a, b)` 不一样了"
   ]
  },
  {
   "cell_type": "code",
   "execution_count": 16,
   "id": "809cc098-ced7-4dee-9fb6-5e2d1953d9b2",
   "metadata": {},
   "outputs": [
    {
     "data": {
      "text/latex": [
       "$\\displaystyle \\left[\\begin{matrix}\\left[\\left[\\begin{matrix}a_{0, 0} b_{0, 0}\\end{matrix}\\right]\\right] & \\left[\\left[\\begin{matrix}a_{1, 0} b_{0, 0}\\end{matrix}\\right]\\right]\\\\\\left[\\left[\\begin{matrix}a_{0, 0} b_{1, 0}\\end{matrix}\\right]\\right] & \\left[\\left[\\begin{matrix}a_{1, 0} b_{1, 0}\\end{matrix}\\right]\\right]\\\\\\left[\\left[\\begin{matrix}a_{0, 0} b_{2, 0}\\end{matrix}\\right]\\right] & \\left[\\left[\\begin{matrix}a_{1, 0} b_{2, 0}\\end{matrix}\\right]\\right]\\end{matrix}\\right]$"
      ],
      "text/plain": [
       "[[[[a[0, 0]*b[0, 0]]], [[a[1, 0]*b[0, 0]]]], [[[a[0, 0]*b[1, 0]]], [[a[1, 0]*b[1, 0]]]], [[[a[0, 0]*b[2, 0]]], [[a[1, 0]*b[2, 0]]]]]"
      ]
     },
     "execution_count": 16,
     "metadata": {},
     "output_type": "execute_result"
    }
   ],
   "source": [
    "d.as_explicit()"
   ]
  },
  {
   "cell_type": "markdown",
   "id": "bd536fc8-2673-491a-b552-c3877429bcc2",
   "metadata": {},
   "source": [
    "用 `reshape` 转成二维矩阵"
   ]
  },
  {
   "cell_type": "code",
   "execution_count": 17,
   "id": "78d5c735-d8e7-40c0-a80d-8ae21166ff3a",
   "metadata": {},
   "outputs": [
    {
     "data": {
      "text/latex": [
       "$\\displaystyle \\left[\\begin{matrix}a_{0, 0} b_{0, 0} & a_{1, 0} b_{0, 0}\\\\a_{0, 0} b_{1, 0} & a_{1, 0} b_{1, 0}\\\\a_{0, 0} b_{2, 0} & a_{1, 0} b_{2, 0}\\end{matrix}\\right]$"
      ],
      "text/plain": [
       "[[a[0, 0]*b[0, 0], a[1, 0]*b[0, 0]], [a[0, 0]*b[1, 0], a[1, 0]*b[1, 0]], [a[0, 0]*b[2, 0], a[1, 0]*b[2, 0]]]"
      ]
     },
     "execution_count": 17,
     "metadata": {},
     "output_type": "execute_result"
    }
   ],
   "source": [
    "d.as_explicit().reshape(3,2)"
   ]
  }
 ],
 "metadata": {
  "kernelspec": {
   "display_name": "Python 3 (ipykernel)",
   "language": "python",
   "name": "python3"
  },
  "language_info": {
   "codemirror_mode": {
    "name": "ipython",
    "version": 3
   },
   "file_extension": ".py",
   "mimetype": "text/x-python",
   "name": "python",
   "nbconvert_exporter": "python",
   "pygments_lexer": "ipython3",
   "version": "3.9.13"
  }
 },
 "nbformat": 4,
 "nbformat_minor": 5
}
