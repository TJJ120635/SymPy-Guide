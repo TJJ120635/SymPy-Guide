{
 "cells": [
  {
   "cell_type": "code",
   "execution_count": 1,
   "id": "4eb049fb-ef49-415e-b0d0-d4cf7fb1aceb",
   "metadata": {},
   "outputs": [],
   "source": [
    "from sympy import *"
   ]
  },
  {
   "cell_type": "markdown",
   "id": "59555f14-461c-4cb5-a9f8-c110b3d97ed1",
   "metadata": {},
   "source": [
    "其中的一些公式参考 https://www.math.uwaterloo.ca/~hwolkowi/matrixcookbook.pdf"
   ]
  },
  {
   "cell_type": "markdown",
   "id": "7bf292a3-5e85-4747-924a-d848bb66c0b7",
   "metadata": {},
   "source": [
    "# 抽象类型和具体类型\n",
    "\n",
    "在 SymPy 中，可以声明抽象的符号/向量/矩阵，也可以填入数据，声明具体的符号/向量/矩阵"
   ]
  },
  {
   "cell_type": "code",
   "execution_count": 5,
   "id": "049375ba-a8fa-4a8c-9a11-594746159fbd",
   "metadata": {},
   "outputs": [
    {
     "data": {
      "text/latex": [
       "$\\displaystyle x$"
      ],
      "text/plain": [
       "x"
      ]
     },
     "metadata": {},
     "output_type": "display_data"
    },
    {
     "data": {
      "text/latex": [
       "$\\displaystyle y$"
      ],
      "text/plain": [
       "y"
      ]
     },
     "metadata": {},
     "output_type": "display_data"
    },
    {
     "data": {
      "text/latex": [
       "$\\displaystyle Z$"
      ],
      "text/plain": [
       "Z"
      ]
     },
     "metadata": {},
     "output_type": "display_data"
    }
   ],
   "source": [
    "x = symbols('x')\n",
    "m, n = symbols('m n')\n",
    "y = MatrixSymbol('y', n, 1)\n",
    "Z = MatrixSymbol('Z', m, n)\n",
    "display(x, y, Z)"
   ]
  },
  {
   "cell_type": "code",
   "execution_count": 6,
   "id": "094991b1-3b87-4f33-8f11-095778605693",
   "metadata": {},
   "outputs": [
    {
     "data": {
      "text/plain": [
       "5"
      ]
     },
     "metadata": {},
     "output_type": "display_data"
    },
    {
     "data": {
      "text/latex": [
       "$\\displaystyle \\left[\\begin{matrix}1\\\\2\\\\3\\end{matrix}\\right]$"
      ],
      "text/plain": [
       "Matrix([\n",
       "[1],\n",
       "[2],\n",
       "[3]])"
      ]
     },
     "metadata": {},
     "output_type": "display_data"
    },
    {
     "data": {
      "text/latex": [
       "$\\displaystyle \\left[\\begin{matrix}1 & 2\\\\3 & 4\\end{matrix}\\right]$"
      ],
      "text/plain": [
       "Matrix([\n",
       "[1, 2],\n",
       "[3, 4]])"
      ]
     },
     "metadata": {},
     "output_type": "display_data"
    }
   ],
   "source": [
    "x = 5\n",
    "y = Matrix([1, 2, 3])\n",
    "Z = Matrix([[1, 2], [3, 4]])\n",
    "display(x, y, Z)"
   ]
  },
  {
   "cell_type": "markdown",
   "id": "5d5f8da9-dd87-47a1-8685-5942a332ee23",
   "metadata": {},
   "source": [
    "具体矩阵的求导会返回矩阵或者多维数组的形式\n",
    "\n",
    "而抽象矩阵的求导会以符号方式进行运算"
   ]
  },
  {
   "cell_type": "markdown",
   "id": "e4500a19-5248-4f17-ae07-a5ff14b48482",
   "metadata": {},
   "source": [
    "# 纯符号运算（完善）\n",
    "\n",
    "如果是向量和矩阵之间的符号计算，可以用 `MatrixSymbol` 实现抽象矩阵的定义，利用抽象的矩阵符号进行求导\n",
    "\n",
    "然后再使用 `as_explicit` 展开，或者用 `subs` 替换成具体值"
   ]
  },
  {
   "cell_type": "markdown",
   "id": "8d2f05da-58b5-4116-8ef5-aefa3b07494f",
   "metadata": {},
   "source": [
    "## $\\dfrac{\\partial{\\textbf x^\\top \\textbf a}}{\\partial{\\textbf x}}=\\textbf a$"
   ]
  },
  {
   "cell_type": "code",
   "execution_count": 2,
   "id": "b5acdfab-f38b-4817-b4c6-239ef86921e4",
   "metadata": {},
   "outputs": [],
   "source": [
    "m, n = symbols('m n')\n",
    "x = MatrixSymbol('x', m, 1)\n",
    "a = MatrixSymbol('a', m, 1)"
   ]
  },
  {
   "cell_type": "code",
   "execution_count": 3,
   "id": "630d27b6-60b6-4655-84e5-2aa409a58e7c",
   "metadata": {},
   "outputs": [
    {
     "data": {
      "text/latex": [
       "$\\displaystyle x^{T} a$"
      ],
      "text/plain": [
       "x.T*a"
      ]
     },
     "execution_count": 3,
     "metadata": {},
     "output_type": "execute_result"
    }
   ],
   "source": [
    "expr = x.T * a\n",
    "expr"
   ]
  },
  {
   "cell_type": "code",
   "execution_count": 4,
   "id": "598031e9-0e12-419a-ba8a-b21b4f19e37d",
   "metadata": {},
   "outputs": [
    {
     "data": {
      "text/latex": [
       "$\\displaystyle \\frac{\\partial}{\\partial x} x^{T} a$"
      ],
      "text/plain": [
       "Derivative(x.T*a, x)"
      ]
     },
     "execution_count": 4,
     "metadata": {},
     "output_type": "execute_result"
    }
   ],
   "source": [
    "d = diff(expr, x, evaluate = False)\n",
    "d"
   ]
  },
  {
   "cell_type": "code",
   "execution_count": 5,
   "id": "71985a9c-814b-4464-a866-6dbf5077cbfd",
   "metadata": {},
   "outputs": [
    {
     "data": {
      "text/latex": [
       "$\\displaystyle a$"
      ],
      "text/plain": [
       "a"
      ]
     },
     "execution_count": 5,
     "metadata": {},
     "output_type": "execute_result"
    }
   ],
   "source": [
    "d = d.doit()\n",
    "d"
   ]
  },
  {
   "cell_type": "markdown",
   "id": "3d3f59c4-5603-406d-8036-6fb9ddb37861",
   "metadata": {},
   "source": [
    "得到了一个抽象的 $\\textbf a$，而不是具体大小的向量"
   ]
  },
  {
   "cell_type": "markdown",
   "id": "3818674c-429d-401f-894c-40fc6ab26383",
   "metadata": {},
   "source": [
    "## $\\dfrac{\\partial{\\textbf a^\\top \\textbf X \\textbf b}}{\\partial{\\textbf X}}=\\textbf a \\textbf b^\\top$"
   ]
  },
  {
   "cell_type": "markdown",
   "id": "76373e1d-0464-473f-9e4a-8ed42cf54689",
   "metadata": {},
   "source": [
    "矩阵的大小可以像上面一样写成符号\n",
    "\n",
    "这里指定了具体的数，才能可视化打印出来"
   ]
  },
  {
   "cell_type": "code",
   "execution_count": 6,
   "id": "4e0b31a9-4cd4-4111-88ef-6d782deb7fd7",
   "metadata": {},
   "outputs": [],
   "source": [
    "X = MatrixSymbol('X', 2, 3) # 'X', m, n\n",
    "a = MatrixSymbol('a', 2, 1) # 'a', m, 1\n",
    "b = MatrixSymbol('b', 3, 1) # 'X', n, 1"
   ]
  },
  {
   "cell_type": "code",
   "execution_count": 7,
   "id": "92c2cb7b-b32e-4211-8055-ab37d4848cdb",
   "metadata": {},
   "outputs": [
    {
     "data": {
      "text/latex": [
       "$\\displaystyle a^{T} X b$"
      ],
      "text/plain": [
       "a.T*X*b"
      ]
     },
     "execution_count": 7,
     "metadata": {},
     "output_type": "execute_result"
    }
   ],
   "source": [
    "expr = a.T * X * b\n",
    "expr"
   ]
  },
  {
   "cell_type": "code",
   "execution_count": 8,
   "id": "c34bc3c0-e542-4eae-a366-526d500c75d3",
   "metadata": {},
   "outputs": [
    {
     "data": {
      "text/latex": [
       "$\\displaystyle \\frac{\\partial}{\\partial X} a^{T} X b$"
      ],
      "text/plain": [
       "Derivative(a.T*X*b, X)"
      ]
     },
     "execution_count": 8,
     "metadata": {},
     "output_type": "execute_result"
    }
   ],
   "source": [
    "d = diff(expr, X, evaluate = False)\n",
    "d"
   ]
  },
  {
   "cell_type": "code",
   "execution_count": 9,
   "id": "294cdfaf-9330-4e34-980b-cf3d69a08f50",
   "metadata": {},
   "outputs": [
    {
     "data": {
      "text/latex": [
       "$\\displaystyle \\operatorname{PermuteDims}\\left(\\operatorname{ArrayTensorProduct}\\left(a, b\\right), \\left( 1\\; 2\\right)\\left( 3\\right)\\right)$"
      ],
      "text/plain": [
       "PermuteDims(ArrayTensorProduct(a, b), (3)(1 2))"
      ]
     },
     "execution_count": 9,
     "metadata": {},
     "output_type": "execute_result"
    }
   ],
   "source": [
    "d = d.doit()\n",
    "d"
   ]
  },
  {
   "cell_type": "markdown",
   "id": "2d74b06b-bfd7-4493-9b74-3bcd3ef671c1",
   "metadata": {},
   "source": [
    "这里的 `ArrayTensorProduct(a, b)` 就是 a 和 b 的 Tensor 乘法，得到一个 (2, 1, 3, 1) 的数组\n",
    "\n",
    "相当于 $ab^\\top$\n",
    "\n",
    "然后使用 `PermuteDims` 将数组整理成 (2, 3, 1, 1)"
   ]
  },
  {
   "cell_type": "code",
   "execution_count": 10,
   "id": "7c4ed404-7ab2-4808-8b4a-43266fe9ff4f",
   "metadata": {},
   "outputs": [
    {
     "data": {
      "text/latex": [
       "$\\displaystyle \\left[\\begin{matrix}\\left[\\left[\\begin{matrix}a_{0, 0} b_{0, 0}\\end{matrix}\\right]\\right] & \\left[\\left[\\begin{matrix}a_{0, 0} b_{1, 0}\\end{matrix}\\right]\\right] & \\left[\\left[\\begin{matrix}a_{0, 0} b_{2, 0}\\end{matrix}\\right]\\right]\\\\\\left[\\left[\\begin{matrix}a_{1, 0} b_{0, 0}\\end{matrix}\\right]\\right] & \\left[\\left[\\begin{matrix}a_{1, 0} b_{1, 0}\\end{matrix}\\right]\\right] & \\left[\\left[\\begin{matrix}a_{1, 0} b_{2, 0}\\end{matrix}\\right]\\right]\\end{matrix}\\right]$"
      ],
      "text/plain": [
       "[[[[a[0, 0]*b[0, 0]]], [[a[0, 0]*b[1, 0]]], [[a[0, 0]*b[2, 0]]]], [[[a[1, 0]*b[0, 0]]], [[a[1, 0]*b[1, 0]]], [[a[1, 0]*b[2, 0]]]]]"
      ]
     },
     "execution_count": 10,
     "metadata": {},
     "output_type": "execute_result"
    }
   ],
   "source": [
    "d.as_explicit()"
   ]
  },
  {
   "cell_type": "markdown",
   "id": "20145737-6b23-45ba-92ff-03ada7fcd11a",
   "metadata": {},
   "source": [
    "用 `reshape` 转成二维矩阵"
   ]
  },
  {
   "cell_type": "code",
   "execution_count": 11,
   "id": "ed4d5c3d-1e10-4856-8114-64bdabab2508",
   "metadata": {},
   "outputs": [
    {
     "data": {
      "text/latex": [
       "$\\displaystyle \\left[\\begin{matrix}a_{0, 0} b_{0, 0} & a_{0, 0} b_{1, 0} & a_{0, 0} b_{2, 0}\\\\a_{1, 0} b_{0, 0} & a_{1, 0} b_{1, 0} & a_{1, 0} b_{2, 0}\\end{matrix}\\right]$"
      ],
      "text/plain": [
       "[[a[0, 0]*b[0, 0], a[0, 0]*b[1, 0], a[0, 0]*b[2, 0]], [a[1, 0]*b[0, 0], a[1, 0]*b[1, 0], a[1, 0]*b[2, 0]]]"
      ]
     },
     "execution_count": 11,
     "metadata": {},
     "output_type": "execute_result"
    }
   ],
   "source": [
    "d.as_explicit().reshape(2,3)"
   ]
  },
  {
   "cell_type": "markdown",
   "id": "bfd81324-87ab-4bdd-8732-f26803a6c3db",
   "metadata": {},
   "source": [
    "## $\\dfrac{\\partial{\\textbf a^\\top \\textbf X^\\top \\textbf b}}{\\partial{\\textbf X}}=\\textbf b \\textbf a^\\top$"
   ]
  },
  {
   "cell_type": "code",
   "execution_count": 12,
   "id": "b13e2c6e-54f0-42f5-bf55-52de223980ee",
   "metadata": {},
   "outputs": [],
   "source": [
    "X = MatrixSymbol('X', 3, 2) # 'X', n, m\n",
    "a = MatrixSymbol('a', 2, 1) # 'a', m, 1\n",
    "b = MatrixSymbol('b', 3, 1) # 'X', n, 1"
   ]
  },
  {
   "cell_type": "code",
   "execution_count": 13,
   "id": "77fdd883-e203-4c83-8660-e083aa635a77",
   "metadata": {},
   "outputs": [
    {
     "data": {
      "text/latex": [
       "$\\displaystyle a^{T} X^{T} b$"
      ],
      "text/plain": [
       "a.T*X.T*b"
      ]
     },
     "execution_count": 13,
     "metadata": {},
     "output_type": "execute_result"
    }
   ],
   "source": [
    "expr = a.T * X.T * b\n",
    "expr"
   ]
  },
  {
   "cell_type": "code",
   "execution_count": 14,
   "id": "1ecaa9b8-c432-486e-af5b-f40940fce1c1",
   "metadata": {},
   "outputs": [
    {
     "data": {
      "text/latex": [
       "$\\displaystyle \\frac{\\partial}{\\partial X} a^{T} X^{T} b$"
      ],
      "text/plain": [
       "Derivative(a.T*X.T*b, X)"
      ]
     },
     "execution_count": 14,
     "metadata": {},
     "output_type": "execute_result"
    }
   ],
   "source": [
    "d = diff(expr, X, evaluate = False)\n",
    "d"
   ]
  },
  {
   "cell_type": "code",
   "execution_count": 15,
   "id": "fae251c8-6d6d-43b2-9c64-f6d90d3e3345",
   "metadata": {},
   "outputs": [
    {
     "data": {
      "text/latex": [
       "$\\displaystyle \\operatorname{PermuteDims}\\left(\\operatorname{ArrayTensorProduct}\\left(b, a\\right), \\left( 1\\; 2\\; 3\\right)\\right)$"
      ],
      "text/plain": [
       "PermuteDims(ArrayTensorProduct(b, a), (1 2 3))"
      ]
     },
     "execution_count": 15,
     "metadata": {},
     "output_type": "execute_result"
    }
   ],
   "source": [
    "d = d.doit()\n",
    "d"
   ]
  },
  {
   "cell_type": "markdown",
   "id": "d9cc0893-0000-44b1-8673-821c9e93db0a",
   "metadata": {},
   "source": [
    "这里变成了 `ArrayTensorProduct(b, a)`\n",
    "\n",
    "相当于 $ba^\\top$\n",
    "\n",
    "和上面的 `ArrayTensorProduct(a, b)` 不一样了"
   ]
  },
  {
   "cell_type": "code",
   "execution_count": 16,
   "id": "809cc098-ced7-4dee-9fb6-5e2d1953d9b2",
   "metadata": {},
   "outputs": [
    {
     "data": {
      "text/latex": [
       "$\\displaystyle \\left[\\begin{matrix}\\left[\\left[\\begin{matrix}a_{0, 0} b_{0, 0}\\end{matrix}\\right]\\right] & \\left[\\left[\\begin{matrix}a_{1, 0} b_{0, 0}\\end{matrix}\\right]\\right]\\\\\\left[\\left[\\begin{matrix}a_{0, 0} b_{1, 0}\\end{matrix}\\right]\\right] & \\left[\\left[\\begin{matrix}a_{1, 0} b_{1, 0}\\end{matrix}\\right]\\right]\\\\\\left[\\left[\\begin{matrix}a_{0, 0} b_{2, 0}\\end{matrix}\\right]\\right] & \\left[\\left[\\begin{matrix}a_{1, 0} b_{2, 0}\\end{matrix}\\right]\\right]\\end{matrix}\\right]$"
      ],
      "text/plain": [
       "[[[[a[0, 0]*b[0, 0]]], [[a[1, 0]*b[0, 0]]]], [[[a[0, 0]*b[1, 0]]], [[a[1, 0]*b[1, 0]]]], [[[a[0, 0]*b[2, 0]]], [[a[1, 0]*b[2, 0]]]]]"
      ]
     },
     "execution_count": 16,
     "metadata": {},
     "output_type": "execute_result"
    }
   ],
   "source": [
    "d.as_explicit()"
   ]
  },
  {
   "cell_type": "markdown",
   "id": "bd536fc8-2673-491a-b552-c3877429bcc2",
   "metadata": {},
   "source": [
    "用 `reshape` 转成二维矩阵"
   ]
  },
  {
   "cell_type": "code",
   "execution_count": 17,
   "id": "78d5c735-d8e7-40c0-a80d-8ae21166ff3a",
   "metadata": {},
   "outputs": [
    {
     "data": {
      "text/latex": [
       "$\\displaystyle \\left[\\begin{matrix}a_{0, 0} b_{0, 0} & a_{1, 0} b_{0, 0}\\\\a_{0, 0} b_{1, 0} & a_{1, 0} b_{1, 0}\\\\a_{0, 0} b_{2, 0} & a_{1, 0} b_{2, 0}\\end{matrix}\\right]$"
      ],
      "text/plain": [
       "[[a[0, 0]*b[0, 0], a[1, 0]*b[0, 0]], [a[0, 0]*b[1, 0], a[1, 0]*b[1, 0]], [a[0, 0]*b[2, 0], a[1, 0]*b[2, 0]]]"
      ]
     },
     "execution_count": 17,
     "metadata": {},
     "output_type": "execute_result"
    }
   ],
   "source": [
    "result = d.as_explicit().reshape(3,2)\n",
    "result"
   ]
  },
  {
   "cell_type": "markdown",
   "id": "efe67b1b-c0cd-4776-81e7-6631162f67db",
   "metadata": {},
   "source": [
    "如果要代入具体的数值，使用 `subs` 来替换即可"
   ]
  },
  {
   "cell_type": "code",
   "execution_count": 18,
   "id": "8b935f55-fdfe-4003-8158-0aff878a79e5",
   "metadata": {},
   "outputs": [],
   "source": [
    "a1 = Matrix([1,2])\n",
    "b1 = Matrix([3,4,5])"
   ]
  },
  {
   "cell_type": "code",
   "execution_count": 19,
   "id": "fd51f45d-ad06-4f6b-95f7-153193b4d238",
   "metadata": {},
   "outputs": [
    {
     "data": {
      "text/latex": [
       "$\\displaystyle \\left[\\begin{matrix}3 & 6\\\\4 & 8\\\\5 & 10\\end{matrix}\\right]$"
      ],
      "text/plain": [
       "[[3, 6], [4, 8], [5, 10]]"
      ]
     },
     "execution_count": 19,
     "metadata": {},
     "output_type": "execute_result"
    }
   ],
   "source": [
    "result.subs({a:a1, b:b1})"
   ]
  },
  {
   "cell_type": "markdown",
   "id": "36a0d320-a895-42a1-8fcd-94ac7af1c852",
   "metadata": {},
   "source": [
    "## $\\dfrac{\\partial(\\textbf B\\textbf x+\\textbf b)^\\top\\textbf C(\\textbf D\\textbf x +\\textbf d)}{\\partial\\textbf x} \n",
    "= \\textbf B^\\top\\textbf C(\\textbf D\\textbf x+\\textbf d)+\\textbf D^\\top\\textbf C^\\top(\\textbf B\\textbf x+ \\textbf b)$"
   ]
  },
  {
   "cell_type": "code",
   "execution_count": 6,
   "id": "075629d9-bc91-4195-b4c0-02dbc8c5ebc4",
   "metadata": {},
   "outputs": [],
   "source": [
    "n, m, p = symbols('n m p')\n",
    "x = MatrixSymbol('x', n, 1)\n",
    "B = MatrixSymbol('B', m, n)\n",
    "b = MatrixSymbol('b', m, 1)\n",
    "C = MatrixSymbol('C', m, p)\n",
    "D = MatrixSymbol('D', p, n)\n",
    "d = MatrixSymbol('d', p, 1)"
   ]
  },
  {
   "cell_type": "code",
   "execution_count": 7,
   "id": "3b79d016-c2e4-415c-ae0f-ecbedefc7a5c",
   "metadata": {},
   "outputs": [
    {
     "data": {
      "text/latex": [
       "$\\displaystyle \\left(b^{T} + x^{T} B^{T}\\right) C \\left(D x + d\\right)$"
      ],
      "text/plain": [
       "(b.T + x.T*B.T)*C*(D*x + d)"
      ]
     },
     "execution_count": 7,
     "metadata": {},
     "output_type": "execute_result"
    }
   ],
   "source": [
    "expr = (B * x + b).T * C * (D * x + d)\n",
    "expr"
   ]
  },
  {
   "cell_type": "code",
   "execution_count": 8,
   "id": "9ea9f0f1-9f6b-436f-9e01-45a357725d68",
   "metadata": {},
   "outputs": [
    {
     "data": {
      "text/latex": [
       "$\\displaystyle \\frac{\\partial}{\\partial x} \\left(b^{T} + x^{T} B^{T}\\right) C \\left(D x + d\\right)$"
      ],
      "text/plain": [
       "Derivative((b.T + x.T*B.T)*C*(D*x + d), x)"
      ]
     },
     "execution_count": 8,
     "metadata": {},
     "output_type": "execute_result"
    }
   ],
   "source": [
    "r = diff(expr, x, evaluate = False)\n",
    "r"
   ]
  },
  {
   "cell_type": "code",
   "execution_count": 9,
   "id": "d9b97b7d-8d75-4bae-923e-fb1683f889df",
   "metadata": {},
   "outputs": [
    {
     "data": {
      "text/latex": [
       "$\\displaystyle B^{T} C \\left(D x + d\\right) + D^{T} C^{T} \\left(B x + b\\right)$"
      ],
      "text/plain": [
       "B.T*C*(D*x + d) + D.T*C.T*(B*x + b)"
      ]
     },
     "execution_count": 9,
     "metadata": {},
     "output_type": "execute_result"
    }
   ],
   "source": [
    "r = r.doit()\n",
    "r"
   ]
  },
  {
   "cell_type": "markdown",
   "id": "c52c9bc9-3727-4ba8-9816-51ba73c3d080",
   "metadata": {},
   "source": [
    "# 不完善的情况"
   ]
  },
  {
   "cell_type": "markdown",
   "id": "5bef4a81-d674-4363-97c0-210ac673cd1b",
   "metadata": {},
   "source": [
    "## $\\dfrac{\\partial\\textbf X}{\\partial X_{ij}}=\\textbf J^{ij}$（矩阵内的元素）\n",
    "\n",
    "遇到矩阵内特定元素的求导，需要指定具体大小，用 `as_explicit` 展开再求导"
   ]
  },
  {
   "cell_type": "code",
   "execution_count": 23,
   "id": "3fe6f4d2-8b77-446c-8daa-3f9953f408b2",
   "metadata": {},
   "outputs": [
    {
     "data": {
      "text/latex": [
       "$\\displaystyle X$"
      ],
      "text/plain": [
       "X"
      ]
     },
     "metadata": {},
     "output_type": "display_data"
    },
    {
     "data": {
      "text/latex": [
       "$\\displaystyle X_{1, 1}$"
      ],
      "text/plain": [
       "X[1, 1]"
      ]
     },
     "metadata": {},
     "output_type": "display_data"
    }
   ],
   "source": [
    "X = MatrixSymbol('X', 2, 3)\n",
    "display(X)\n",
    "display(X[1,1])"
   ]
  },
  {
   "cell_type": "markdown",
   "id": "d81596d2-2b94-4c67-86b7-af5e1c7c476d",
   "metadata": {},
   "source": [
    "直接求导没办法得到正确的结果"
   ]
  },
  {
   "cell_type": "code",
   "execution_count": 16,
   "id": "ab2e3c64-2986-4ab7-92bd-2132e00b6ee2",
   "metadata": {},
   "outputs": [
    {
     "data": {
      "text/latex": [
       "$\\displaystyle 0$"
      ],
      "text/plain": [
       "0"
      ]
     },
     "execution_count": 16,
     "metadata": {},
     "output_type": "execute_result"
    }
   ],
   "source": [
    "diff(X, X[1,1])"
   ]
  },
  {
   "cell_type": "markdown",
   "id": "ce642361-9cda-4951-8881-db36a4a1b8d5",
   "metadata": {},
   "source": [
    "这种情况必须要先展开再求导\n",
    "\n",
    "但是如果矩阵的大小不确定，例如 `MatrixSymbol('X', m, n)`，则没有办法展开\n",
    "\n",
    "或者元素的位置不确定，例如 `X[m, n]`，则得到全 0 的矩阵"
   ]
  },
  {
   "cell_type": "code",
   "execution_count": 24,
   "id": "d75d9c4e-1ee7-4c10-b53a-4a3ca254228b",
   "metadata": {},
   "outputs": [
    {
     "data": {
      "text/latex": [
       "$\\displaystyle \\left[\\begin{matrix}X_{0, 0} & X_{0, 1} & X_{0, 2}\\\\X_{1, 0} & X_{1, 1} & X_{1, 2}\\end{matrix}\\right]$"
      ],
      "text/plain": [
       "Matrix([\n",
       "[X[0, 0], X[0, 1], X[0, 2]],\n",
       "[X[1, 0], X[1, 1], X[1, 2]]])"
      ]
     },
     "execution_count": 24,
     "metadata": {},
     "output_type": "execute_result"
    }
   ],
   "source": [
    "X = X.as_explicit()\n",
    "X"
   ]
  },
  {
   "cell_type": "code",
   "execution_count": 25,
   "id": "c02ce8f6-c751-49a7-8381-d9a160db255c",
   "metadata": {},
   "outputs": [
    {
     "data": {
      "text/latex": [
       "$\\displaystyle \\left[\\begin{matrix}0 & 0 & 0\\\\0 & 1 & 0\\end{matrix}\\right]$"
      ],
      "text/plain": [
       "Matrix([\n",
       "[0, 0, 0],\n",
       "[0, 1, 0]])"
      ]
     },
     "execution_count": 25,
     "metadata": {},
     "output_type": "execute_result"
    }
   ],
   "source": [
    "diff(X, X[1,1])"
   ]
  },
  {
   "cell_type": "markdown",
   "id": "009ccaed-7e30-40dd-a7b9-89ac03a09941",
   "metadata": {},
   "source": [
    "## $\\dfrac{\\partial\\textbf a^\\top \\textbf X^n \\textbf b}{\\partial \\textbf X}$ $=\\sum_{r=0}^{n-1} (\\textbf X^r)^\\top \\textbf a\\textbf b^\\top(\\textbf X^{n-1-r})^\\top$（矩阵的幂）\n",
    "\n",
    "矩阵的幂的求导也有问题，必须指定具体的次数"
   ]
  },
  {
   "cell_type": "code",
   "execution_count": 26,
   "id": "80ce0762-e54d-4dd3-971c-39622137586f",
   "metadata": {},
   "outputs": [],
   "source": [
    "n, m, p, q = symbols('n m p q')\n",
    "X = MatrixSymbol('X', 2, 2)\n",
    "a = MatrixSymbol('a', 2, 1)\n",
    "b = MatrixSymbol('b', 2, 1)"
   ]
  },
  {
   "cell_type": "code",
   "execution_count": 35,
   "id": "ac4c5791-b592-482f-b608-2be3e0cf5a94",
   "metadata": {},
   "outputs": [
    {
     "data": {
      "text/latex": [
       "$\\displaystyle \\frac{\\partial}{\\partial X} a^{T} X^{n} b$"
      ],
      "text/plain": [
       "Derivative(a.T*X**n*b, X)"
      ]
     },
     "execution_count": 35,
     "metadata": {},
     "output_type": "execute_result"
    }
   ],
   "source": [
    "expr = a.T * X**n * b\n",
    "r1 = diff(expr, X, evaluate = False)\n",
    "r1"
   ]
  },
  {
   "cell_type": "markdown",
   "id": "0245b857-7cbb-4159-a5b4-69da18406d50",
   "metadata": {},
   "source": [
    "直接用 n 求导是有问题的"
   ]
  },
  {
   "cell_type": "code",
   "execution_count": 36,
   "id": "91c0dc08-997d-4348-a68a-b3c978509e94",
   "metadata": {},
   "outputs": [
    {
     "data": {
      "text/latex": [
       "$\\displaystyle n \\operatorname{DiagMatrix}\\left(a\\right) X^{\\circ \\left({n - 1}\\right)} \\operatorname{DiagMatrix}\\left(b\\right)$"
      ],
      "text/plain": [
       "n*DiagMatrix(a)*HadamardPower(X, n - 1)*DiagMatrix(b)"
      ]
     },
     "execution_count": 36,
     "metadata": {},
     "output_type": "execute_result"
    }
   ],
   "source": [
    "r1 = r1.doit()\n",
    "r1"
   ]
  },
  {
   "cell_type": "code",
   "execution_count": 37,
   "id": "5a2f40ef-1597-4628-958f-aaac670690f4",
   "metadata": {},
   "outputs": [
    {
     "data": {
      "text/latex": [
       "$\\displaystyle \\left[\\begin{matrix}3 X_{0, 0}^{2} a_{0, 0} b_{0, 0} & 3 X_{0, 1}^{2} a_{0, 0} b_{1, 0}\\\\3 X_{1, 0}^{2} a_{1, 0} b_{0, 0} & 3 X_{1, 1}^{2} a_{1, 0} b_{1, 0}\\end{matrix}\\right]$"
      ],
      "text/plain": [
       "Matrix([\n",
       "[3*X[0, 0]**2*a[0, 0]*b[0, 0], 3*X[0, 1]**2*a[0, 0]*b[1, 0]],\n",
       "[3*X[1, 0]**2*a[1, 0]*b[0, 0], 3*X[1, 1]**2*a[1, 0]*b[1, 0]]])"
      ]
     },
     "execution_count": 37,
     "metadata": {},
     "output_type": "execute_result"
    }
   ],
   "source": [
    "r1 = r1.subs(n, 3)\n",
    "r1.as_explicit()"
   ]
  },
  {
   "cell_type": "markdown",
   "id": "34f6f3cc-b0dd-4170-b92d-edbf44e5973e",
   "metadata": {},
   "source": [
    "要将次数 n 替换成具体的数才能正确计算"
   ]
  },
  {
   "cell_type": "code",
   "execution_count": 38,
   "id": "bd3ceab5-922e-4f54-8ab5-745d7c6f4dbf",
   "metadata": {},
   "outputs": [
    {
     "data": {
      "text/latex": [
       "$\\displaystyle \\frac{\\partial}{\\partial X} a^{T} X^{3} b$"
      ],
      "text/plain": [
       "Derivative(a.T*X**3*b, X)"
      ]
     },
     "execution_count": 38,
     "metadata": {},
     "output_type": "execute_result"
    }
   ],
   "source": [
    "expr2 = expr.subs(n, 3)\n",
    "r2 = diff(expr2, X, evaluate = False)\n",
    "r2"
   ]
  },
  {
   "cell_type": "code",
   "execution_count": 39,
   "id": "b5d13f0c-9ebc-4317-bafb-b27323b30c03",
   "metadata": {},
   "outputs": [
    {
     "data": {
      "text/latex": [
       "$\\displaystyle \\left(X^{T}\\right)^{2} a b^{T} + a b^{T} \\left(X^{T}\\right)^{2} + X^{T} a b^{T} X^{T}$"
      ],
      "text/plain": [
       "X.T**2*a*b.T + a*b.T*X.T**2 + X.T*a*b.T*X.T"
      ]
     },
     "execution_count": 39,
     "metadata": {},
     "output_type": "execute_result"
    }
   ],
   "source": [
    "r2 = r2.doit()\n",
    "r2"
   ]
  },
  {
   "cell_type": "code",
   "execution_count": 40,
   "id": "6e190b59-68ed-44e8-9916-3a8412633c11",
   "metadata": {},
   "outputs": [
    {
     "data": {
      "text/latex": [
       "$\\displaystyle \\left[\\begin{matrix}\\left(\\left(X_{0, 0} X_{0, 1} + X_{0, 1} X_{1, 1}\\right) b_{1, 0} + \\left(X_{0, 0}^{2} + X_{0, 1} X_{1, 0}\\right) b_{0, 0}\\right) a_{0, 0} + \\left(\\left(X_{0, 0} X_{1, 0} + X_{1, 0} X_{1, 1}\\right) a_{1, 0} + \\left(X_{0, 0}^{2} + X_{0, 1} X_{1, 0}\\right) a_{0, 0}\\right) b_{0, 0} + \\left(X_{0, 0} a_{0, 0} + X_{1, 0} a_{1, 0}\\right) \\left(X_{0, 0} b_{0, 0} + X_{0, 1} b_{1, 0}\\right) & \\left(\\left(X_{0, 0} X_{1, 0} + X_{1, 0} X_{1, 1}\\right) a_{1, 0} + \\left(X_{0, 0}^{2} + X_{0, 1} X_{1, 0}\\right) a_{0, 0}\\right) b_{1, 0} + \\left(\\left(X_{0, 0} X_{1, 0} + X_{1, 0} X_{1, 1}\\right) b_{0, 0} + \\left(X_{0, 1} X_{1, 0} + X_{1, 1}^{2}\\right) b_{1, 0}\\right) a_{0, 0} + \\left(X_{0, 0} a_{0, 0} + X_{1, 0} a_{1, 0}\\right) \\left(X_{1, 0} b_{0, 0} + X_{1, 1} b_{1, 0}\\right)\\\\\\left(\\left(X_{0, 0} X_{0, 1} + X_{0, 1} X_{1, 1}\\right) a_{0, 0} + \\left(X_{0, 1} X_{1, 0} + X_{1, 1}^{2}\\right) a_{1, 0}\\right) b_{0, 0} + \\left(\\left(X_{0, 0} X_{0, 1} + X_{0, 1} X_{1, 1}\\right) b_{1, 0} + \\left(X_{0, 0}^{2} + X_{0, 1} X_{1, 0}\\right) b_{0, 0}\\right) a_{1, 0} + \\left(X_{0, 0} b_{0, 0} + X_{0, 1} b_{1, 0}\\right) \\left(X_{0, 1} a_{0, 0} + X_{1, 1} a_{1, 0}\\right) & \\left(\\left(X_{0, 0} X_{0, 1} + X_{0, 1} X_{1, 1}\\right) a_{0, 0} + \\left(X_{0, 1} X_{1, 0} + X_{1, 1}^{2}\\right) a_{1, 0}\\right) b_{1, 0} + \\left(\\left(X_{0, 0} X_{1, 0} + X_{1, 0} X_{1, 1}\\right) b_{0, 0} + \\left(X_{0, 1} X_{1, 0} + X_{1, 1}^{2}\\right) b_{1, 0}\\right) a_{1, 0} + \\left(X_{0, 1} a_{0, 0} + X_{1, 1} a_{1, 0}\\right) \\left(X_{1, 0} b_{0, 0} + X_{1, 1} b_{1, 0}\\right)\\end{matrix}\\right]$"
      ],
      "text/plain": [
       "Matrix([\n",
       "[((X[0, 0]*X[0, 1] + X[0, 1]*X[1, 1])*b[1, 0] + (X[0, 0]**2 + X[0, 1]*X[1, 0])*b[0, 0])*a[0, 0] + ((X[0, 0]*X[1, 0] + X[1, 0]*X[1, 1])*a[1, 0] + (X[0, 0]**2 + X[0, 1]*X[1, 0])*a[0, 0])*b[0, 0] + (X[0, 0]*a[0, 0] + X[1, 0]*a[1, 0])*(X[0, 0]*b[0, 0] + X[0, 1]*b[1, 0]), ((X[0, 0]*X[1, 0] + X[1, 0]*X[1, 1])*a[1, 0] + (X[0, 0]**2 + X[0, 1]*X[1, 0])*a[0, 0])*b[1, 0] + ((X[0, 0]*X[1, 0] + X[1, 0]*X[1, 1])*b[0, 0] + (X[0, 1]*X[1, 0] + X[1, 1]**2)*b[1, 0])*a[0, 0] + (X[0, 0]*a[0, 0] + X[1, 0]*a[1, 0])*(X[1, 0]*b[0, 0] + X[1, 1]*b[1, 0])],\n",
       "[((X[0, 0]*X[0, 1] + X[0, 1]*X[1, 1])*a[0, 0] + (X[0, 1]*X[1, 0] + X[1, 1]**2)*a[1, 0])*b[0, 0] + ((X[0, 0]*X[0, 1] + X[0, 1]*X[1, 1])*b[1, 0] + (X[0, 0]**2 + X[0, 1]*X[1, 0])*b[0, 0])*a[1, 0] + (X[0, 0]*b[0, 0] + X[0, 1]*b[1, 0])*(X[0, 1]*a[0, 0] + X[1, 1]*a[1, 0]), ((X[0, 0]*X[0, 1] + X[0, 1]*X[1, 1])*a[0, 0] + (X[0, 1]*X[1, 0] + X[1, 1]**2)*a[1, 0])*b[1, 0] + ((X[0, 0]*X[1, 0] + X[1, 0]*X[1, 1])*b[0, 0] + (X[0, 1]*X[1, 0] + X[1, 1]**2)*b[1, 0])*a[1, 0] + (X[0, 1]*a[0, 0] + X[1, 1]*a[1, 0])*(X[1, 0]*b[0, 0] + X[1, 1]*b[1, 0])]])"
      ]
     },
     "execution_count": 40,
     "metadata": {},
     "output_type": "execute_result"
    }
   ],
   "source": [
    "r2.as_explicit()"
   ]
  }
 ],
 "metadata": {
  "kernelspec": {
   "display_name": "Python 3 (ipykernel)",
   "language": "python",
   "name": "python3"
  },
  "language_info": {
   "codemirror_mode": {
    "name": "ipython",
    "version": 3
   },
   "file_extension": ".py",
   "mimetype": "text/x-python",
   "name": "python",
   "nbconvert_exporter": "python",
   "pygments_lexer": "ipython3",
   "version": "3.9.13"
  },
  "toc-autonumbering": true
 },
 "nbformat": 4,
 "nbformat_minor": 5
}
